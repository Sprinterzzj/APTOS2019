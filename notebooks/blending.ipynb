{
 "cells": [
  {
   "cell_type": "code",
   "execution_count": 1,
   "metadata": {
    "ExecuteTime": {
     "end_time": "2019-08-24T17:39:24.575658Z",
     "start_time": "2019-08-24T17:39:18.192359Z"
    }
   },
   "outputs": [],
   "source": [
    "import pandas as pd\n",
    "\n",
    "import os\n",
    "\n",
    "os.environ[\"CUDA_VISIBLE_DEVICES\"] = \"4\"\n",
    "\n",
    "import torch\n",
    "import numpy as np\n",
    "import pickle as pk\n",
    "\n",
    "from tqdm import tqdm_notebook\n",
    "from sklearn.metrics import cohen_kappa_score\n",
    "from fastai.vision import *\n",
    "from torch.nn import functional as F\n",
    "from utils import *"
   ]
  },
  {
   "cell_type": "code",
   "execution_count": 2,
   "metadata": {
    "ExecuteTime": {
     "end_time": "2019-08-24T17:39:24.580892Z",
     "start_time": "2019-08-24T17:39:24.577356Z"
    }
   },
   "outputs": [],
   "source": [
    "save_dir = \"../output/blending\""
   ]
  },
  {
   "cell_type": "code",
   "execution_count": 3,
   "metadata": {
    "ExecuteTime": {
     "end_time": "2019-08-24T17:39:24.625807Z",
     "start_time": "2019-08-24T17:39:24.583220Z"
    }
   },
   "outputs": [],
   "source": [
    "import random\n",
    "\n",
    "def seed_everything(seed):\n",
    "    random.seed(seed)\n",
    "    os.environ['PYTHONHASHSEED'] = str(seed)\n",
    "    np.random.seed(seed)\n",
    "    torch.manual_seed(seed)\n",
    "    torch.cuda.manual_seed(seed)\n",
    "    torch.backends.cudnn.deterministic = True\n",
    "SEED = 2019\n",
    "seed_everything(SEED)\n",
    "\n",
    "deployment_dir = \"../output/inference\"\n",
    "\n",
    "def qk(y_pred, y):\n",
    "    k = torch.tensor(cohen_kappa_score(torch.round(y_pred), y, weights='quadratic'), device='cuda:0')\n",
    "    k[k != k] = 0\n",
    "    k[torch.isinf(k)] = 0\n",
    "    \n",
    "    return k\n"
   ]
  },
  {
   "cell_type": "code",
   "execution_count": 4,
   "metadata": {
    "ExecuteTime": {
     "end_time": "2019-08-24T17:39:24.676069Z",
     "start_time": "2019-08-24T17:39:24.669526Z"
    }
   },
   "outputs": [],
   "source": [
    "test_df = pd.read_csv('../input/aptos2019-blindness-detection/sample_submission.csv')"
   ]
  },
  {
   "cell_type": "code",
   "execution_count": 6,
   "metadata": {
    "ExecuteTime": {
     "end_time": "2019-08-24T20:04:28.891247Z",
     "start_time": "2019-08-24T20:03:59.760323Z"
    }
   },
   "outputs": [
    {
     "name": "stdout",
     "output_type": "stream",
     "text": [
      "\n"
     ]
    }
   ],
   "source": [
    "models = [\"efficientnet-b4_0820_01-09-57_stage2_f4\", \"efficientnet-b4_0823_18-14-19_stage2_whole\", \n",
    "             \"efficientnet-b5_0823_18-21-16_stage2_whole\", \"efficientnet-b5_0821_01-30-37_stage2_f4\",\n",
    "            \"efficientnet-b5_0820_22-13-07_stage2_f3\"]\n",
    "\n",
    "for m in models:\n",
    "    learn = load_learner(deployment_dir, \"{}.pkl\".format(m))\n",
    "\n",
    "    learn.data.add_test(ImageList.from_df(test_df,\n",
    "                                      '../input/aptos2019-blindness-detection',\n",
    "                                      folder='test_images_ben_preprocessing_sigmaX10',\n",
    "                                      suffix='.png'))\n",
    "\n",
    "    logits,_ = learn.get_preds(DatasetType.Test)\n",
    "    logits = logits.numpy()\n",
    "    np.save(os.path.join(save_dir, m+\".npy\"), logits)\n",
    "    y_pred = np.round(logits)\n",
    "    test_df.diagnosis = y_pred\n",
    "    test_df.to_csv(os.path.join(save_dir, m+\".csv\"), index=False)"
   ]
  },
  {
   "cell_type": "code",
   "execution_count": null,
   "metadata": {},
   "outputs": [],
   "source": []
  }
 ],
 "metadata": {
  "kernelspec": {
   "display_name": "Python 3",
   "language": "python",
   "name": "python3"
  },
  "language_info": {
   "codemirror_mode": {
    "name": "ipython",
    "version": 3
   },
   "file_extension": ".py",
   "mimetype": "text/x-python",
   "name": "python",
   "nbconvert_exporter": "python",
   "pygments_lexer": "ipython3",
   "version": "3.6.5"
  },
  "toc": {
   "base_numbering": 1,
   "nav_menu": {},
   "number_sections": true,
   "sideBar": true,
   "skip_h1_title": false,
   "title_cell": "Table of Contents",
   "title_sidebar": "Contents",
   "toc_cell": false,
   "toc_position": {
    "height": "calc(100% - 180px)",
    "left": "10px",
    "top": "150px",
    "width": "240.656px"
   },
   "toc_section_display": true,
   "toc_window_display": false
  }
 },
 "nbformat": 4,
 "nbformat_minor": 2
}
