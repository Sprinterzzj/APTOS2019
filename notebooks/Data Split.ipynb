{
 "cells": [
  {
   "cell_type": "code",
   "execution_count": 1,
   "metadata": {},
   "outputs": [],
   "source": [
    "%reload_ext autoreload\n",
    "%autoreload 2\n",
    "%matplotlib inline\n",
    "import pandas as pd\n",
    "import os\n",
    "from sklearn.model_selection import train_test_split"
   ]
  },
  {
   "cell_type": "code",
   "execution_count": 2,
   "metadata": {},
   "outputs": [],
   "source": [
    "SEED = 999"
   ]
  },
  {
   "cell_type": "code",
   "execution_count": 4,
   "metadata": {},
   "outputs": [
    {
     "name": "stdout",
     "output_type": "stream",
     "text": [
      "df_2015.csv  df_2015_raw.csv  df_2015_row.csv  df_2019.csv\r\n"
     ]
    }
   ],
   "source": [
    "!ls ../input/aptos-data-split"
   ]
  },
  {
   "cell_type": "code",
   "execution_count": 5,
   "metadata": {},
   "outputs": [
    {
     "name": "stderr",
     "output_type": "stream",
     "text": [
      "/users/liukanglong/.conda/envs/test/lib/python3.6/site-packages/ipykernel_launcher.py:9: SettingWithCopyWarning: \n",
      "A value is trying to be set on a copy of a slice from a DataFrame.\n",
      "Try using .loc[row_indexer,col_indexer] = value instead\n",
      "\n",
      "See the caveats in the documentation: http://pandas.pydata.org/pandas-docs/stable/indexing.html#indexing-view-versus-copy\n",
      "  if __name__ == '__main__':\n",
      "/users/liukanglong/.conda/envs/test/lib/python3.6/site-packages/ipykernel_launcher.py:10: SettingWithCopyWarning: \n",
      "A value is trying to be set on a copy of a slice from a DataFrame.\n",
      "Try using .loc[row_indexer,col_indexer] = value instead\n",
      "\n",
      "See the caveats in the documentation: http://pandas.pydata.org/pandas-docs/stable/indexing.html#indexing-view-versus-copy\n",
      "  # Remove the CWD from sys.path while we load stuff.\n"
     ]
    }
   ],
   "source": [
    "image_dir_2015 = os.path.join('../input/diabetic-retinopathy-resized/')\n",
    "dir_2015 = os.path.join(image_dir_2015,'resized_train/')\n",
    "df_2015 = pd.read_csv(os.path.join(image_dir_2015, 'trainLabels.csv'))\n",
    "df_2015['path'] = df_2015['image'].map(lambda x: os.path.join(dir_2015,'{}.jpeg'.format(x)))\n",
    "df_2015 = df_2015.drop(columns=['image'])\n",
    "# df_2015 = df_2015.drop(columns=['image', 'Unnamed: 0', 'Unnamed: 0.1'])\n",
    "\n",
    "df_2015_train, df_2015_val = train_test_split(df_2015, test_size=0.2, random_state=SEED)\n",
    "df_2015_train[\"is_valid\"] = [False] * df_2015_train.shape[0]\n",
    "df_2015_val[\"is_valid\"] = [True] * df_2015_val.shape[0]\n",
    "df_2015 = pd.concat([df_2015_train, df_2015_val]).reset_index(drop=True)\n",
    "df_2015.columns = ['diagnosis', 'path', \"is_valid\"]\n",
    "df_2015.to_csv(\"../input/aptos-data-split/df_2015_raw.csv\")  "
   ]
  },
  {
   "cell_type": "code",
   "execution_count": null,
   "metadata": {},
   "outputs": [],
   "source": []
  },
  {
   "cell_type": "code",
   "execution_count": 18,
   "metadata": {},
   "outputs": [],
   "source": [
    "get_id_code = lambda x: x.split(\"/\")[-1].split(\".\")[0]"
   ]
  },
  {
   "cell_type": "code",
   "execution_count": 25,
   "metadata": {},
   "outputs": [],
   "source": [
    "def restore(filename):\n",
    "    df = pd.read_csv(filename)\n",
    "    df[\"id_code\"] = df[\"path\"].apply(get_id_code)\n",
    "    df.drop([\"Unnamed: 0\", \"path\"], axis=1, inplace=True)\n",
    "    df.to_csv(filename, index=False)"
   ]
  },
  {
   "cell_type": "code",
   "execution_count": 26,
   "metadata": {},
   "outputs": [],
   "source": [
    "restore(\"../input/aptos-data-split/df_2015_raw.csv\")"
   ]
  },
  {
   "cell_type": "code",
   "execution_count": 27,
   "metadata": {},
   "outputs": [],
   "source": [
    "restore(\"../input/aptos-data-split/df_2015.csv\")"
   ]
  },
  {
   "cell_type": "code",
   "execution_count": null,
   "metadata": {},
   "outputs": [],
   "source": [
    "restore(\"../input/aptos-data-split/df_2019.csv\")"
   ]
  },
  {
   "cell_type": "code",
   "execution_count": null,
   "metadata": {},
   "outputs": [],
   "source": []
  },
  {
   "cell_type": "code",
   "execution_count": 41,
   "metadata": {},
   "outputs": [],
   "source": [
    "def new_path(filename, save_name, folder, suffix=\".png\"):\n",
    "    df = pd.read_csv(filename)\n",
    "    df[\"path\"] = df[\"path\"].apply(lambda x: os.path.join(folder, get_id_code(x)+suffix))\n",
    "#     df.drop([\"id_code\"], axis=1, inplace=True)\n",
    "    df.to_csv(save_name, index=False)"
   ]
  },
  {
   "cell_type": "code",
   "execution_count": 55,
   "metadata": {},
   "outputs": [],
   "source": [
    "new_path(\"../input/aptos-data-split/df_2015_raw_sigmaX30.csv\", \"../input/aptos-data-split/df_2015_raw.csv\", \"../input/diabetic-retinopathy-resized/resized_train\", \".jpeg\")"
   ]
  },
  {
   "cell_type": "code",
   "execution_count": 56,
   "metadata": {},
   "outputs": [],
   "source": [
    "new_path(\"../input/aptos-data-split/df_2019.csv\", \"../input/aptos-data-split/df_2019_circle_crop.csv\", \"../input/aptos2019-blindness-detection/train_images_circle_crop\")"
   ]
  },
  {
   "cell_type": "code",
   "execution_count": null,
   "metadata": {},
   "outputs": [],
   "source": []
  }
 ],
 "metadata": {
  "kernelspec": {
   "display_name": "Python [conda env:.conda-test]",
   "language": "python",
   "name": "conda-env-.conda-test-py"
  },
  "language_info": {
   "codemirror_mode": {
    "name": "ipython",
    "version": 3
   },
   "file_extension": ".py",
   "mimetype": "text/x-python",
   "name": "python",
   "nbconvert_exporter": "python",
   "pygments_lexer": "ipython3",
   "version": "3.6.8"
  }
 },
 "nbformat": 4,
 "nbformat_minor": 2
}
