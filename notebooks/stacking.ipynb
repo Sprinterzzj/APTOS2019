{
 "cells": [
  {
   "cell_type": "code",
   "execution_count": 24,
   "metadata": {
    "ExecuteTime": {
     "end_time": "2019-08-24T09:06:57.825162Z",
     "start_time": "2019-08-24T09:06:57.820706Z"
    }
   },
   "outputs": [],
   "source": [
    "import pandas as pd\n",
    "from seaborn import heatmap\n",
    "\n",
    "import os\n",
    "\n",
    "os.environ[\"CUDA_VISIBLE_DEVICES\"] = \"4\"\n",
    "\n",
    "import torch\n",
    "import numpy as np\n",
    "import pickle as pk\n",
    "\n",
    "from tqdm import tqdm_notebook\n",
    "from sklearn.metrics import cohen_kappa_score\n",
    "from fastai.vision import *\n",
    "from torch.nn import functional as F\n",
    "from utils import *"
   ]
  },
  {
   "cell_type": "code",
   "execution_count": 2,
   "metadata": {
    "ExecuteTime": {
     "end_time": "2019-08-24T09:01:06.568266Z",
     "start_time": "2019-08-24T09:01:06.564362Z"
    }
   },
   "outputs": [
    {
     "name": "stdout",
     "output_type": "stream",
     "text": [
      "0824_17-01-06\n"
     ]
    }
   ],
   "source": [
    "current_time = get_BJ_time()\n",
    "print(current_time)"
   ]
  },
  {
   "cell_type": "code",
   "execution_count": 3,
   "metadata": {
    "ExecuteTime": {
     "end_time": "2019-08-24T09:01:06.629184Z",
     "start_time": "2019-08-24T09:01:06.573930Z"
    }
   },
   "outputs": [],
   "source": [
    "import random\n",
    "\n",
    "def seed_everything(seed):\n",
    "    random.seed(seed)\n",
    "    os.environ['PYTHONHASHSEED'] = str(seed)\n",
    "    np.random.seed(seed)\n",
    "    torch.manual_seed(seed)\n",
    "    torch.cuda.manual_seed(seed)\n",
    "    torch.backends.cudnn.deterministic = True\n",
    "SEED = 2019\n",
    "seed_everything(SEED)\n",
    "\n",
    "deployment_dir = \"../output/inference\"\n",
    "\n",
    "def qk(y_pred, y):\n",
    "    k = torch.tensor(cohen_kappa_score(torch.round(y_pred), y, weights='quadratic'), device='cuda:0')\n",
    "    k[k != k] = 0\n",
    "    k[torch.isinf(k)] = 0\n",
    "    \n",
    "    return k\n",
    "\n",
    "df_2019_cv = pd.read_csv('../input/aptos-data-split/df_2019_cv.csv')"
   ]
  },
  {
   "cell_type": "code",
   "execution_count": 4,
   "metadata": {
    "ExecuteTime": {
     "end_time": "2019-08-24T09:01:06.666673Z",
     "start_time": "2019-08-24T09:01:06.635930Z"
    }
   },
   "outputs": [
    {
     "data": {
      "text/html": [
       "<div>\n",
       "<style scoped>\n",
       "    .dataframe tbody tr th:only-of-type {\n",
       "        vertical-align: middle;\n",
       "    }\n",
       "\n",
       "    .dataframe tbody tr th {\n",
       "        vertical-align: top;\n",
       "    }\n",
       "\n",
       "    .dataframe thead th {\n",
       "        text-align: right;\n",
       "    }\n",
       "</style>\n",
       "<table border=\"1\" class=\"dataframe\">\n",
       "  <thead>\n",
       "    <tr style=\"text-align: right;\">\n",
       "      <th></th>\n",
       "      <th>id_code</th>\n",
       "      <th>diagnosis</th>\n",
       "      <th>path</th>\n",
       "      <th>is_valid1</th>\n",
       "      <th>is_valid2</th>\n",
       "      <th>is_valid3</th>\n",
       "      <th>is_valid4</th>\n",
       "      <th>is_valid5</th>\n",
       "    </tr>\n",
       "  </thead>\n",
       "  <tbody>\n",
       "    <tr>\n",
       "      <th>0</th>\n",
       "      <td>000c1434d8d7</td>\n",
       "      <td>2</td>\n",
       "      <td>../input/aptos2019-blindness-detection/train_i...</td>\n",
       "      <td>True</td>\n",
       "      <td>False</td>\n",
       "      <td>False</td>\n",
       "      <td>False</td>\n",
       "      <td>False</td>\n",
       "    </tr>\n",
       "    <tr>\n",
       "      <th>1</th>\n",
       "      <td>001639a390f0</td>\n",
       "      <td>4</td>\n",
       "      <td>../input/aptos2019-blindness-detection/train_i...</td>\n",
       "      <td>True</td>\n",
       "      <td>False</td>\n",
       "      <td>False</td>\n",
       "      <td>False</td>\n",
       "      <td>False</td>\n",
       "    </tr>\n",
       "    <tr>\n",
       "      <th>2</th>\n",
       "      <td>0024cdab0c1e</td>\n",
       "      <td>1</td>\n",
       "      <td>../input/aptos2019-blindness-detection/train_i...</td>\n",
       "      <td>True</td>\n",
       "      <td>False</td>\n",
       "      <td>False</td>\n",
       "      <td>False</td>\n",
       "      <td>False</td>\n",
       "    </tr>\n",
       "    <tr>\n",
       "      <th>3</th>\n",
       "      <td>002c21358ce6</td>\n",
       "      <td>0</td>\n",
       "      <td>../input/aptos2019-blindness-detection/train_i...</td>\n",
       "      <td>True</td>\n",
       "      <td>False</td>\n",
       "      <td>False</td>\n",
       "      <td>False</td>\n",
       "      <td>False</td>\n",
       "    </tr>\n",
       "    <tr>\n",
       "      <th>4</th>\n",
       "      <td>005b95c28852</td>\n",
       "      <td>0</td>\n",
       "      <td>../input/aptos2019-blindness-detection/train_i...</td>\n",
       "      <td>True</td>\n",
       "      <td>False</td>\n",
       "      <td>False</td>\n",
       "      <td>False</td>\n",
       "      <td>False</td>\n",
       "    </tr>\n",
       "  </tbody>\n",
       "</table>\n",
       "</div>"
      ],
      "text/plain": [
       "        id_code  diagnosis                                               path  \\\n",
       "0  000c1434d8d7          2  ../input/aptos2019-blindness-detection/train_i...   \n",
       "1  001639a390f0          4  ../input/aptos2019-blindness-detection/train_i...   \n",
       "2  0024cdab0c1e          1  ../input/aptos2019-blindness-detection/train_i...   \n",
       "3  002c21358ce6          0  ../input/aptos2019-blindness-detection/train_i...   \n",
       "4  005b95c28852          0  ../input/aptos2019-blindness-detection/train_i...   \n",
       "\n",
       "   is_valid1  is_valid2  is_valid3  is_valid4  is_valid5  \n",
       "0       True      False      False      False      False  \n",
       "1       True      False      False      False      False  \n",
       "2       True      False      False      False      False  \n",
       "3       True      False      False      False      False  \n",
       "4       True      False      False      False      False  "
      ]
     },
     "execution_count": 4,
     "metadata": {},
     "output_type": "execute_result"
    }
   ],
   "source": [
    "df_2019_cv.head()"
   ]
  },
  {
   "cell_type": "code",
   "execution_count": 5,
   "metadata": {
    "ExecuteTime": {
     "end_time": "2019-08-24T09:01:06.675869Z",
     "start_time": "2019-08-24T09:01:06.668965Z"
    }
   },
   "outputs": [],
   "source": [
    "test_df = pd.read_csv('../input/aptos2019-blindness-detection/sample_submission.csv')"
   ]
  },
  {
   "cell_type": "markdown",
   "metadata": {},
   "source": [
    "# Feature Extraction"
   ]
  },
  {
   "cell_type": "markdown",
   "metadata": {
    "ExecuteTime": {
     "end_time": "2019-08-22T17:52:08.556127Z",
     "start_time": "2019-08-22T17:52:08.554197Z"
    }
   },
   "source": [
    "## Train Feature"
   ]
  },
  {
   "cell_type": "markdown",
   "metadata": {},
   "source": [
    "### b3"
   ]
  },
  {
   "cell_type": "code",
   "execution_count": null,
   "metadata": {
    "ExecuteTime": {
     "end_time": "2019-08-22T10:18:09.151417Z",
     "start_time": "2019-08-22T10:17:58.058921Z"
    }
   },
   "outputs": [],
   "source": [
    "fold = 1\n",
    "val_df = df_2019_cv[df_2019_cv[\"is_valid{}\".format(fold)]]\n",
    "\n",
    "learn = load_learner(deployment_dir, \"efficientnet-b3_0819_22-37-22_stage2_f1.pkl\")\n",
    "\n",
    "learn.data.add_test(ImageList.from_df(val_df,\n",
    "                                      '../input/aptos2019-blindness-detection',\n",
    "                                      cols=\"id_code\",\n",
    "                                      folder='train_images_ben_preprocessing',\n",
    "                                      suffix='.png'))\n",
    "\n",
    "learn.model.eval()\n",
    "with torch.no_grad():\n",
    "    feats_list = []\n",
    "    for xb,yb in tqdm_notebook(learn.data.test_dl):\n",
    "        # Convolution layers\n",
    "        x = learn.model.extract_features(xb)\n",
    "        \n",
    "        # Pooling and final linear layer\n",
    "        feats = F.adaptive_avg_pool2d(x, 1).squeeze(-1).squeeze(-1)\n",
    "        feats = feats.cpu().numpy()\n",
    "        feats_list.append(feats)\n",
    "\n",
    "feats_arr = np.concatenate(feats_list, axis=0)\n",
    "np.save(\"../output/stacking/b3_f{}_feats.npy\".format(fold), feats_arr)\n",
    "\n",
    "print(feats_arr.shape)\n",
    "\n",
    "fold = 2\n",
    "val_df = df_2019_cv[df_2019_cv[\"is_valid{}\".format(fold)]]\n",
    "\n",
    "learn = load_learner(deployment_dir, \"efficientnet-b3_0819_22-37-22_stage2_f2.pkl\")\n",
    "\n",
    "learn.data.add_test(ImageList.from_df(val_df,\n",
    "                                      '../input/aptos2019-blindness-detection',\n",
    "                                      cols=\"id_code\",\n",
    "                                      folder='train_images_ben_preprocessing',\n",
    "                                      suffix='.png'))\n",
    "\n",
    "learn.model.eval()\n",
    "with torch.no_grad():\n",
    "    feats_list = []\n",
    "    for xb,yb in tqdm_notebook(learn.data.test_dl):\n",
    "        # Convolution layers\n",
    "        x = learn.model.extract_features(xb)\n",
    "        \n",
    "        # Pooling and final linear layer\n",
    "        feats = F.adaptive_avg_pool2d(x, 1).squeeze(-1).squeeze(-1)\n",
    "        feats = feats.cpu().numpy()\n",
    "        feats_list.append(feats)\n",
    "\n",
    "feats_arr = np.concatenate(feats_list, axis=0)\n",
    "np.save(\"../output/stacking/b3_f{}_feats.npy\".format(fold), feats_arr)\n",
    "\n",
    "print(feats_arr.shape)\n",
    "\n",
    "fold = 3\n",
    "val_df = df_2019_cv[df_2019_cv[\"is_valid{}\".format(fold)]]\n",
    "\n",
    "learn = load_learner(deployment_dir, \"efficientnet-b3_0819_22-37-22_stage2_f3.pkl\")\n",
    "\n",
    "learn.data.add_test(ImageList.from_df(val_df,\n",
    "                                      '../input/aptos2019-blindness-detection',\n",
    "                                      cols=\"id_code\",\n",
    "                                      folder='train_images_ben_preprocessing',\n",
    "                                      suffix='.png'))\n",
    "\n",
    "learn.model.eval()\n",
    "with torch.no_grad():\n",
    "    feats_list = []\n",
    "    for xb,yb in tqdm_notebook(learn.data.test_dl):\n",
    "        # Convolution layers\n",
    "        x = learn.model.extract_features(xb)\n",
    "        \n",
    "        # Pooling and final linear layer\n",
    "        feats = F.adaptive_avg_pool2d(x, 1).squeeze(-1).squeeze(-1)\n",
    "        feats = feats.cpu().numpy()\n",
    "        feats_list.append(feats)\n",
    "\n",
    "feats_arr = np.concatenate(feats_list, axis=0)\n",
    "np.save(\"../output/stacking/b3_f{}_feats.npy\".format(fold), feats_arr)\n",
    "\n",
    "print(feats_arr.shape)\n",
    "\n",
    "fold = 4\n",
    "val_df = df_2019_cv[df_2019_cv[\"is_valid{}\".format(fold)]]\n",
    "\n",
    "learn = load_learner(deployment_dir, \"efficientnet-b3_0819_22-37-22_stage2_f4.pkl\")\n",
    "\n",
    "learn.data.add_test(ImageList.from_df(val_df,\n",
    "                                      '../input/aptos2019-blindness-detection',\n",
    "                                      cols=\"id_code\",\n",
    "                                      folder='train_images_ben_preprocessing',\n",
    "                                      suffix='.png'))\n",
    "\n",
    "learn.model.eval()\n",
    "with torch.no_grad():\n",
    "    feats_list = []\n",
    "    for xb,yb in tqdm_notebook(learn.data.test_dl):\n",
    "        # Convolution layers\n",
    "        x = learn.model.extract_features(xb)\n",
    "        \n",
    "        # Pooling and final linear layer\n",
    "        feats = F.adaptive_avg_pool2d(x, 1).squeeze(-1).squeeze(-1)\n",
    "        feats = feats.cpu().numpy()\n",
    "        feats_list.append(feats)\n",
    "\n",
    "feats_arr = np.concatenate(feats_list, axis=0)\n",
    "np.save(\"../output/stacking/b3_f{}_feats.npy\".format(fold), feats_arr)\n",
    "\n",
    "print(feats_arr.shape)\n",
    "\n",
    "fold = 5\n",
    "val_df = df_2019_cv[df_2019_cv[\"is_valid{}\".format(fold)]]\n",
    "\n",
    "learn = load_learner(deployment_dir, \"efficientnet-b3_0820_05-48-25_stage2_f5.pkl\")\n",
    "\n",
    "learn.data.add_test(ImageList.from_df(val_df,\n",
    "                                      '../input/aptos2019-blindness-detection',\n",
    "                                      cols=\"id_code\",\n",
    "                                      folder='train_images_ben_preprocessing',\n",
    "                                      suffix='.png'))\n",
    "\n",
    "learn.model.eval()\n",
    "with torch.no_grad():\n",
    "    feats_list = []\n",
    "    for xb,yb in tqdm_notebook(learn.data.test_dl):\n",
    "        # Convolution layers\n",
    "        x = learn.model.extract_features(xb)\n",
    "        \n",
    "        # Pooling and final linear layer\n",
    "        feats = F.adaptive_avg_pool2d(x, 1).squeeze(-1).squeeze(-1)\n",
    "        feats = feats.cpu().numpy()\n",
    "        feats_list.append(feats)\n",
    "\n",
    "feats_arr = np.concatenate(feats_list, axis=0)\n",
    "np.save(\"../output/stacking/b3_f{}_feats.npy\".format(fold), feats_arr)\n",
    "\n",
    "print(feats_arr.shape)"
   ]
  },
  {
   "cell_type": "markdown",
   "metadata": {},
   "source": [
    "### b4"
   ]
  },
  {
   "cell_type": "code",
   "execution_count": null,
   "metadata": {
    "ExecuteTime": {
     "end_time": "2019-08-22T10:34:16.286244Z",
     "start_time": "2019-08-22T10:33:57.817062Z"
    }
   },
   "outputs": [],
   "source": [
    "fold = 1\n",
    "val_df = df_2019_cv[df_2019_cv[\"is_valid{}\".format(fold)]]\n",
    "\n",
    "learn = load_learner(deployment_dir, \"efficientnet-b4_0820_01-09-57_stage2_f1.pkl\")\n",
    "\n",
    "learn.data.add_test(ImageList.from_df(val_df,\n",
    "                                      '../input/aptos2019-blindness-detection',\n",
    "                                      cols=\"id_code\",\n",
    "                                      folder='train_images_ben_preprocessing_sigmaX10',\n",
    "                                      suffix='.png'))\n",
    "\n",
    "learn.model.eval()\n",
    "with torch.no_grad():\n",
    "    feats_list = []\n",
    "    for xb,yb in tqdm_notebook(learn.data.test_dl):\n",
    "        # Convolution layers\n",
    "        x = learn.model.extract_features(xb)\n",
    "        \n",
    "        # Pooling and final linear layer\n",
    "        feats = F.adaptive_avg_pool2d(x, 1).squeeze(-1).squeeze(-1)\n",
    "        feats = feats.cpu().numpy()\n",
    "        feats_list.append(feats)\n",
    "\n",
    "feats_arr = np.concatenate(feats_list, axis=0)\n",
    "np.save(\"../output/stacking/b4_f{}_feats.npy\".format(fold), feats_arr)\n",
    "\n",
    "print(feats_arr.shape)\n",
    "\n",
    "fold = 2\n",
    "val_df = df_2019_cv[df_2019_cv[\"is_valid{}\".format(fold)]]\n",
    "\n",
    "learn = load_learner(deployment_dir, \"efficientnet-b4_0820_01-09-57_stage2_f2.pkl\")\n",
    "\n",
    "learn.data.add_test(ImageList.from_df(val_df,\n",
    "                                      '../input/aptos2019-blindness-detection',\n",
    "                                      cols=\"id_code\",\n",
    "                                      folder='train_images_ben_preprocessing_sigmaX10',\n",
    "                                      suffix='.png'))\n",
    "\n",
    "learn.model.eval()\n",
    "with torch.no_grad():\n",
    "    feats_list = []\n",
    "    for xb,yb in tqdm_notebook(learn.data.test_dl):\n",
    "        # Convolution layers\n",
    "        x = learn.model.extract_features(xb)\n",
    "        \n",
    "        # Pooling and final linear layer\n",
    "        feats = F.adaptive_avg_pool2d(x, 1).squeeze(-1).squeeze(-1)\n",
    "        feats = feats.cpu().numpy()\n",
    "        feats_list.append(feats)\n",
    "\n",
    "feats_arr = np.concatenate(feats_list, axis=0)\n",
    "np.save(\"../output/stacking/b4_f{}_feats.npy\".format(fold), feats_arr)\n",
    "\n",
    "print(feats_arr.shape)\n",
    "\n",
    "fold = 3\n",
    "val_df = df_2019_cv[df_2019_cv[\"is_valid{}\".format(fold)]]\n",
    "\n",
    "learn = load_learner(deployment_dir, \"efficientnet-b4_0820_01-09-57_stage2_f3.pkl\")\n",
    "\n",
    "learn.data.add_test(ImageList.from_df(val_df,\n",
    "                                      '../input/aptos2019-blindness-detection',\n",
    "                                      cols=\"id_code\",\n",
    "                                      folder='train_images_ben_preprocessing_sigmaX10',\n",
    "                                      suffix='.png'))\n",
    "\n",
    "learn.model.eval()\n",
    "with torch.no_grad():\n",
    "    feats_list = []\n",
    "    for xb,yb in tqdm_notebook(learn.data.test_dl):\n",
    "        # Convolution layers\n",
    "        x = learn.model.extract_features(xb)\n",
    "        \n",
    "        # Pooling and final linear layer\n",
    "        feats = F.adaptive_avg_pool2d(x, 1).squeeze(-1).squeeze(-1)\n",
    "        feats = feats.cpu().numpy()\n",
    "        feats_list.append(feats)\n",
    "\n",
    "feats_arr = np.concatenate(feats_list, axis=0)\n",
    "np.save(\"../output/stacking/b4_f{}_feats.npy\".format(fold), feats_arr)\n",
    "\n",
    "print(feats_arr.shape)\n",
    "\n",
    "fold = 4\n",
    "val_df = df_2019_cv[df_2019_cv[\"is_valid{}\".format(fold)]]\n",
    "\n",
    "learn = load_learner(deployment_dir, \"efficientnet-b4_0820_01-09-57_stage2_f4.pkl\")\n",
    "\n",
    "learn.data.add_test(ImageList.from_df(val_df,\n",
    "                                      '../input/aptos2019-blindness-detection',\n",
    "                                      cols=\"id_code\",\n",
    "                                      folder='train_images_ben_preprocessing_sigmaX10',\n",
    "                                      suffix='.png'))\n",
    "\n",
    "learn.model.eval()\n",
    "with torch.no_grad():\n",
    "    feats_list = []\n",
    "    for xb,yb in tqdm_notebook(learn.data.test_dl):\n",
    "        # Convolution layers\n",
    "        x = learn.model.extract_features(xb)\n",
    "        \n",
    "        # Pooling and final linear layer\n",
    "        feats = F.adaptive_avg_pool2d(x, 1).squeeze(-1).squeeze(-1)\n",
    "        feats = feats.cpu().numpy()\n",
    "        feats_list.append(feats)\n",
    "\n",
    "feats_arr = np.concatenate(feats_list, axis=0)\n",
    "np.save(\"../output/stacking/b4_f{}_feats.npy\".format(fold), feats_arr)\n",
    "\n",
    "print(feats_arr.shape)\n",
    "\n",
    "fold = 5\n",
    "val_df = df_2019_cv[df_2019_cv[\"is_valid{}\".format(fold)]]\n",
    "\n",
    "learn = load_learner(deployment_dir, \"efficientnet-b4_0821_00-02-25_stage2_f5.pkl\")\n",
    "\n",
    "learn.data.add_test(ImageList.from_df(val_df,\n",
    "                                      '../input/aptos2019-blindness-detection',\n",
    "                                      cols=\"id_code\",\n",
    "                                      folder='train_images_ben_preprocessing_sigmaX10',\n",
    "                                      suffix='.png'))\n",
    "\n",
    "learn.model.eval()\n",
    "with torch.no_grad():\n",
    "    feats_list = []\n",
    "    for xb,yb in tqdm_notebook(learn.data.test_dl):\n",
    "        # Convolution layers\n",
    "        x = learn.model.extract_features(xb)\n",
    "        \n",
    "        # Pooling and final linear layer\n",
    "        feats = F.adaptive_avg_pool2d(x, 1).squeeze(-1).squeeze(-1)\n",
    "        feats = feats.cpu().numpy()\n",
    "        feats_list.append(feats)\n",
    "\n",
    "feats_arr = np.concatenate(feats_list, axis=0)\n",
    "np.save(\"../output/stacking/b4_f{}_feats.npy\".format(fold), feats_arr)\n",
    "\n",
    "print(feats_arr.shape)"
   ]
  },
  {
   "cell_type": "markdown",
   "metadata": {},
   "source": [
    "### b5"
   ]
  },
  {
   "cell_type": "code",
   "execution_count": null,
   "metadata": {
    "ExecuteTime": {
     "end_time": "2019-08-22T11:43:44.589911Z",
     "start_time": "2019-08-22T11:43:23.141170Z"
    }
   },
   "outputs": [],
   "source": [
    "fold = 1\n",
    "val_df = df_2019_cv[df_2019_cv[\"is_valid{}\".format(fold)]]\n",
    "\n",
    "learn = load_learner(deployment_dir, \"efficientnet-b5_0820_01-32-30_stage2_f1.pkl\")\n",
    "\n",
    "learn.data.add_test(ImageList.from_df(val_df,\n",
    "                                      '../input/aptos2019-blindness-detection',\n",
    "                                      cols=\"id_code\",\n",
    "                                      folder='train_images_ben_preprocessing_sigmaX10',\n",
    "                                      suffix='.png'))\n",
    "\n",
    "learn.model.eval()\n",
    "with torch.no_grad():\n",
    "    feats_list = []\n",
    "    for xb,yb in tqdm_notebook(learn.data.test_dl):\n",
    "        # Convolution layers\n",
    "        x = learn.model.extract_features(xb)\n",
    "        \n",
    "        # Pooling and final linear layer\n",
    "        feats = F.adaptive_avg_pool2d(x, 1).squeeze(-1).squeeze(-1)\n",
    "        feats = feats.cpu().numpy()\n",
    "        feats_list.append(feats)\n",
    "\n",
    "feats_arr = np.concatenate(feats_list, axis=0)\n",
    "np.save(\"../output/stacking/b5_f{}_feats.npy\".format(fold), feats_arr)\n",
    "\n",
    "print(feats_arr.shape)\n",
    "\n",
    "fold = 2\n",
    "val_df = df_2019_cv[df_2019_cv[\"is_valid{}\".format(fold)]]\n",
    "\n",
    "learn = load_learner(deployment_dir, \"efficientnet-b5_0820_22-13-07_stage2_f2.pkl\")\n",
    "\n",
    "learn.data.add_test(ImageList.from_df(val_df,\n",
    "                                      '../input/aptos2019-blindness-detection',\n",
    "                                      cols=\"id_code\",\n",
    "                                      folder='train_images_ben_preprocessing_sigmaX10',\n",
    "                                      suffix='.png'))\n",
    "\n",
    "learn.model.eval()\n",
    "with torch.no_grad():\n",
    "    feats_list = []\n",
    "    for xb,yb in tqdm_notebook(learn.data.test_dl):\n",
    "        # Convolution layers\n",
    "        x = learn.model.extract_features(xb)\n",
    "        \n",
    "        # Pooling and final linear layer\n",
    "        feats = F.adaptive_avg_pool2d(x, 1).squeeze(-1).squeeze(-1)\n",
    "        feats = feats.cpu().numpy()\n",
    "        feats_list.append(feats)\n",
    "\n",
    "feats_arr = np.concatenate(feats_list, axis=0)\n",
    "np.save(\"../output/stacking/b5_f{}_feats.npy\".format(fold), feats_arr)\n",
    "\n",
    "print(feats_arr.shape)\n",
    "\n",
    "fold = 3\n",
    "val_df = df_2019_cv[df_2019_cv[\"is_valid{}\".format(fold)]]\n",
    "\n",
    "learn = load_learner(deployment_dir, \"efficientnet-b5_0820_22-13-07_stage2_f3.pkl\")\n",
    "\n",
    "learn.data.add_test(ImageList.from_df(val_df,\n",
    "                                      '../input/aptos2019-blindness-detection',\n",
    "                                      cols=\"id_code\",\n",
    "                                      folder='train_images_ben_preprocessing_sigmaX10',\n",
    "                                      suffix='.png'))\n",
    "\n",
    "learn.model.eval()\n",
    "with torch.no_grad():\n",
    "    feats_list = []\n",
    "    for xb,yb in tqdm_notebook(learn.data.test_dl):\n",
    "        # Convolution layers\n",
    "        x = learn.model.extract_features(xb)\n",
    "        \n",
    "        # Pooling and final linear layer\n",
    "        feats = F.adaptive_avg_pool2d(x, 1).squeeze(-1).squeeze(-1)\n",
    "        feats = feats.cpu().numpy()\n",
    "        feats_list.append(feats)\n",
    "\n",
    "feats_arr = np.concatenate(feats_list, axis=0)\n",
    "np.save(\"../output/stacking/b5_f{}_feats.npy\".format(fold), feats_arr)\n",
    "\n",
    "print(feats_arr.shape)\n",
    "\n",
    "fold = 4\n",
    "val_df = df_2019_cv[df_2019_cv[\"is_valid{}\".format(fold)]]\n",
    "\n",
    "learn = load_learner(deployment_dir, \"efficientnet-b5_0821_01-30-37_stage2_f4.pkl\")\n",
    "\n",
    "learn.data.add_test(ImageList.from_df(val_df,\n",
    "                                      '../input/aptos2019-blindness-detection',\n",
    "                                      cols=\"id_code\",\n",
    "                                      folder='train_images_ben_preprocessing_sigmaX10',\n",
    "                                      suffix='.png'))\n",
    "\n",
    "learn.model.eval()\n",
    "with torch.no_grad():\n",
    "    feats_list = []\n",
    "    for xb,yb in tqdm_notebook(learn.data.test_dl):\n",
    "        # Convolution layers\n",
    "        x = learn.model.extract_features(xb)\n",
    "        \n",
    "        # Pooling and final linear layer\n",
    "        feats = F.adaptive_avg_pool2d(x, 1).squeeze(-1).squeeze(-1)\n",
    "        feats = feats.cpu().numpy()\n",
    "        feats_list.append(feats)\n",
    "\n",
    "feats_arr = np.concatenate(feats_list, axis=0)\n",
    "np.save(\"../output/stacking/b5_f{}_feats.npy\".format(fold), feats_arr)\n",
    "\n",
    "print(feats_arr.shape)\n",
    "\n",
    "fold = 5\n",
    "val_df = df_2019_cv[df_2019_cv[\"is_valid{}\".format(fold)]]\n",
    "\n",
    "learn = load_learner(deployment_dir, \"efficientnet-b5_0821_00-26-51_stage2_f5.pkl\")\n",
    "\n",
    "learn.data.add_test(ImageList.from_df(val_df,\n",
    "                                      '../input/aptos2019-blindness-detection',\n",
    "                                      cols=\"id_code\",\n",
    "                                      folder='train_images_ben_preprocessing_sigmaX10',\n",
    "                                      suffix='.png'))\n",
    "\n",
    "learn.model.eval()\n",
    "with torch.no_grad():\n",
    "    feats_list = []\n",
    "    for xb,yb in tqdm_notebook(learn.data.test_dl):\n",
    "        # Convolution layers\n",
    "        x = learn.model.extract_features(xb)\n",
    "        \n",
    "        # Pooling and final linear layer\n",
    "        feats = F.adaptive_avg_pool2d(x, 1).squeeze(-1).squeeze(-1)\n",
    "        feats = feats.cpu().numpy()\n",
    "        feats_list.append(feats)\n",
    "\n",
    "feats_arr = np.concatenate(feats_list, axis=0)\n",
    "np.save(\"../output/stacking/b5_f{}_feats.npy\".format(fold), feats_arr)\n",
    "\n",
    "print(feats_arr.shape)"
   ]
  },
  {
   "cell_type": "markdown",
   "metadata": {},
   "source": [
    "## Test Feature"
   ]
  },
  {
   "cell_type": "markdown",
   "metadata": {
    "ExecuteTime": {
     "end_time": "2019-08-23T11:08:00.430735Z",
     "start_time": "2019-08-23T11:08:00.427585Z"
    }
   },
   "source": [
    "### Average"
   ]
  },
  {
   "cell_type": "markdown",
   "metadata": {
    "ExecuteTime": {
     "end_time": "2019-08-22T20:31:22.015853Z",
     "start_time": "2019-08-22T20:31:22.013172Z"
    }
   },
   "source": [
    "#### b3"
   ]
  },
  {
   "cell_type": "code",
   "execution_count": 102,
   "metadata": {
    "ExecuteTime": {
     "end_time": "2019-08-24T16:28:01.173295Z",
     "start_time": "2019-08-24T16:27:32.329299Z"
    }
   },
   "outputs": [
    {
     "data": {
      "application/vnd.jupyter.widget-view+json": {
       "model_id": "93f38da2312143ec9b338de1f5cabe40",
       "version_major": 2,
       "version_minor": 0
      },
      "text/plain": [
       "HBox(children=(IntProgress(value=0, max=5), HTML(value='')))"
      ]
     },
     "metadata": {},
     "output_type": "display_data"
    },
    {
     "data": {
      "application/vnd.jupyter.widget-view+json": {
       "model_id": "e6787be24b48471fbba56347fa59f7f1",
       "version_major": 2,
       "version_minor": 0
      },
      "text/plain": [
       "HBox(children=(IntProgress(value=0, max=31), HTML(value='')))"
      ]
     },
     "metadata": {},
     "output_type": "display_data"
    },
    {
     "data": {
      "application/vnd.jupyter.widget-view+json": {
       "model_id": "3e1691eaea744048bc089bf2b6688edd",
       "version_major": 2,
       "version_minor": 0
      },
      "text/plain": [
       "HBox(children=(IntProgress(value=0, max=31), HTML(value='')))"
      ]
     },
     "metadata": {},
     "output_type": "display_data"
    },
    {
     "data": {
      "application/vnd.jupyter.widget-view+json": {
       "model_id": "153af62e196b4e5896261d357a40a505",
       "version_major": 2,
       "version_minor": 0
      },
      "text/plain": [
       "HBox(children=(IntProgress(value=0, max=31), HTML(value='')))"
      ]
     },
     "metadata": {},
     "output_type": "display_data"
    },
    {
     "data": {
      "application/vnd.jupyter.widget-view+json": {
       "model_id": "fd23cf4e8b0c4d1281e1397aeacb54ce",
       "version_major": 2,
       "version_minor": 0
      },
      "text/plain": [
       "HBox(children=(IntProgress(value=0, max=31), HTML(value='')))"
      ]
     },
     "metadata": {},
     "output_type": "display_data"
    },
    {
     "data": {
      "application/vnd.jupyter.widget-view+json": {
       "model_id": "c2345ab0b35d4ecd90c154304c877e45",
       "version_major": 2,
       "version_minor": 0
      },
      "text/plain": [
       "HBox(children=(IntProgress(value=0, max=31), HTML(value='')))"
      ]
     },
     "metadata": {},
     "output_type": "display_data"
    }
   ],
   "source": [
    "b3_models = [\"efficientnet-b3_0819_22-37-22_stage2_f1\", \"efficientnet-b3_0819_22-37-22_stage2_f2\", \n",
    "             \"efficientnet-b3_0819_22-37-22_stage2_f3\", \"efficientnet-b3_0819_22-37-22_stage2_f4\",\n",
    "            \"efficientnet-b3_0820_05-48-25_stage2_f5\"]\n",
    "\n",
    "b3_test_feats_list = []\n",
    "for m in tqdm_notebook(b3_models):\n",
    "    learn = load_learner(deployment_dir, \"{}.pkl\".format(m))\n",
    "\n",
    "    learn.data.add_test(ImageList.from_df(test_df,\n",
    "                                      '../input/aptos2019-blindness-detection',\n",
    "                                      folder='test_images_ben_preprocessing',\n",
    "                                      suffix='.png'))\n",
    "\n",
    "    learn.model.eval()\n",
    "    with torch.no_grad():\n",
    "        feats_list = []\n",
    "        for xb,yb in tqdm_notebook(learn.data.test_dl):\n",
    "            # Convolution layers\n",
    "            x = learn.model.extract_features(xb)\n",
    "\n",
    "            # Pooling and final linear layer\n",
    "            feats = F.adaptive_avg_pool2d(x, 1).squeeze(-1).squeeze(-1)\n",
    "            feats = feats.cpu().numpy()\n",
    "            feats_list.append(feats)\n",
    "            \n",
    "    feats_arr = np.concatenate(feats_list, axis=0)\n",
    "    b3_test_feats_list.append(feats_arr)\n",
    "    \n",
    "b3_test_feats = np.average(b3_test_feats, axis=0)\n",
    "np.save(\"../output/stacking/b3_test_feats.npy\", b3_test_feats)\n",
    "# print(b3_test_feats.shape)"
   ]
  },
  {
   "cell_type": "markdown",
   "metadata": {},
   "source": [
    "#### b4"
   ]
  },
  {
   "cell_type": "code",
   "execution_count": 103,
   "metadata": {
    "ExecuteTime": {
     "end_time": "2019-08-24T16:28:35.319197Z",
     "start_time": "2019-08-24T16:28:01.175435Z"
    }
   },
   "outputs": [
    {
     "data": {
      "application/vnd.jupyter.widget-view+json": {
       "model_id": "b6c02437f067468f888c8ce1bf4f5689",
       "version_major": 2,
       "version_minor": 0
      },
      "text/plain": [
       "HBox(children=(IntProgress(value=0, max=5), HTML(value='')))"
      ]
     },
     "metadata": {},
     "output_type": "display_data"
    },
    {
     "data": {
      "application/vnd.jupyter.widget-view+json": {
       "model_id": "0c3de7afe95047519686e62c60e58f74",
       "version_major": 2,
       "version_minor": 0
      },
      "text/plain": [
       "HBox(children=(IntProgress(value=0, max=31), HTML(value='')))"
      ]
     },
     "metadata": {},
     "output_type": "display_data"
    },
    {
     "data": {
      "application/vnd.jupyter.widget-view+json": {
       "model_id": "2d8404461dd5425fbdd09232fc6639b7",
       "version_major": 2,
       "version_minor": 0
      },
      "text/plain": [
       "HBox(children=(IntProgress(value=0, max=31), HTML(value='')))"
      ]
     },
     "metadata": {},
     "output_type": "display_data"
    },
    {
     "data": {
      "application/vnd.jupyter.widget-view+json": {
       "model_id": "61c085a7813e417293c9b427045a6087",
       "version_major": 2,
       "version_minor": 0
      },
      "text/plain": [
       "HBox(children=(IntProgress(value=0, max=31), HTML(value='')))"
      ]
     },
     "metadata": {},
     "output_type": "display_data"
    },
    {
     "data": {
      "application/vnd.jupyter.widget-view+json": {
       "model_id": "0d78936a17dc4fc1bd6b1cf6916cac3a",
       "version_major": 2,
       "version_minor": 0
      },
      "text/plain": [
       "HBox(children=(IntProgress(value=0, max=31), HTML(value='')))"
      ]
     },
     "metadata": {},
     "output_type": "display_data"
    },
    {
     "data": {
      "application/vnd.jupyter.widget-view+json": {
       "model_id": "d88040443c024154a5df98f221177002",
       "version_major": 2,
       "version_minor": 0
      },
      "text/plain": [
       "HBox(children=(IntProgress(value=0, max=31), HTML(value='')))"
      ]
     },
     "metadata": {},
     "output_type": "display_data"
    }
   ],
   "source": [
    "b4_models = [\"efficientnet-b4_0820_01-09-57_stage2_f1\", \"efficientnet-b4_0820_01-09-57_stage2_f2\", \n",
    "             \"efficientnet-b4_0820_01-09-57_stage2_f3\", \"efficientnet-b4_0820_01-09-57_stage2_f4\",\n",
    "            \"efficientnet-b4_0821_00-02-25_stage2_f5\"]\n",
    "\n",
    "b4_test_feats_list = []\n",
    "for m in tqdm_notebook(b4_models):\n",
    "    learn = load_learner(deployment_dir, \"{}.pkl\".format(m))\n",
    "\n",
    "    learn.data.add_test(ImageList.from_df(test_df,\n",
    "                                      '../input/aptos2019-blindness-detection',\n",
    "                                      folder='test_images_ben_preprocessing_sigmaX10',\n",
    "                                      suffix='.png'))\n",
    "\n",
    "    learn.model.eval()\n",
    "    with torch.no_grad():\n",
    "        feats_list = []\n",
    "        for xb,yb in tqdm_notebook(learn.data.test_dl):\n",
    "            # Convolution layers\n",
    "            x = learn.model.extract_features(xb)\n",
    "\n",
    "            # Pooling and final linear layer\n",
    "            feats = F.adaptive_avg_pool2d(x, 1).squeeze(-1).squeeze(-1)\n",
    "            feats = feats.cpu().numpy()\n",
    "            feats_list.append(feats)\n",
    "            \n",
    "    feats_arr = np.concatenate(feats_list, axis=0)\n",
    "    b4_test_feats_list.append(feats_arr)\n",
    "    \n",
    "b4_test_feats = np.average(b4_test_feats, axis=0)\n",
    "np.save(\"../output/stacking/b4_test_feats.npy\", b4_test_feats)\n",
    "\n",
    "# print(b4_test_feats.shape)"
   ]
  },
  {
   "cell_type": "markdown",
   "metadata": {},
   "source": [
    "#### b5"
   ]
  },
  {
   "cell_type": "code",
   "execution_count": 113,
   "metadata": {
    "ExecuteTime": {
     "end_time": "2019-08-24T16:36:51.921925Z",
     "start_time": "2019-08-24T16:36:09.927390Z"
    }
   },
   "outputs": [
    {
     "data": {
      "application/vnd.jupyter.widget-view+json": {
       "model_id": "66b72acc3ee740dc97883503952d01a6",
       "version_major": 2,
       "version_minor": 0
      },
      "text/plain": [
       "HBox(children=(IntProgress(value=0, max=5), HTML(value='')))"
      ]
     },
     "metadata": {},
     "output_type": "display_data"
    },
    {
     "data": {
      "application/vnd.jupyter.widget-view+json": {
       "model_id": "30f7d71203d2403586a2b5a11776440a",
       "version_major": 2,
       "version_minor": 0
      },
      "text/plain": [
       "HBox(children=(IntProgress(value=0, max=31), HTML(value='')))"
      ]
     },
     "metadata": {},
     "output_type": "display_data"
    },
    {
     "data": {
      "application/vnd.jupyter.widget-view+json": {
       "model_id": "f0a17e232aa543a49e457e77ea35000a",
       "version_major": 2,
       "version_minor": 0
      },
      "text/plain": [
       "HBox(children=(IntProgress(value=0, max=31), HTML(value='')))"
      ]
     },
     "metadata": {},
     "output_type": "display_data"
    },
    {
     "data": {
      "application/vnd.jupyter.widget-view+json": {
       "model_id": "54ebadd4472b479e8d70321e402ef52c",
       "version_major": 2,
       "version_minor": 0
      },
      "text/plain": [
       "HBox(children=(IntProgress(value=0, max=31), HTML(value='')))"
      ]
     },
     "metadata": {},
     "output_type": "display_data"
    },
    {
     "data": {
      "application/vnd.jupyter.widget-view+json": {
       "model_id": "372d1c14581440b7a5b11475005c4f84",
       "version_major": 2,
       "version_minor": 0
      },
      "text/plain": [
       "HBox(children=(IntProgress(value=0, max=31), HTML(value='')))"
      ]
     },
     "metadata": {},
     "output_type": "display_data"
    },
    {
     "data": {
      "application/vnd.jupyter.widget-view+json": {
       "model_id": "361f519447ed4cb8bfcc001776ed361a",
       "version_major": 2,
       "version_minor": 0
      },
      "text/plain": [
       "HBox(children=(IntProgress(value=0, max=31), HTML(value='')))"
      ]
     },
     "metadata": {},
     "output_type": "display_data"
    }
   ],
   "source": [
    "b5_models = [\"efficientnet-b5_0820_01-32-30_stage2_f1\", \"efficientnet-b5_0820_22-13-07_stage2_f2\", \n",
    "             \"efficientnet-b5_0820_22-13-07_stage2_f3\", \"efficientnet-b5_0821_01-30-37_stage2_f4\",\n",
    "            \"efficientnet-b5_0821_00-26-51_stage2_f5\"]\n",
    "\n",
    "b5_test_feats_list = []\n",
    "for m in tqdm_notebook(b5_models):\n",
    "    learn = load_learner(deployment_dir, \"{}.pkl\".format(m))\n",
    "\n",
    "    learn.data.add_test(ImageList.from_df(test_df,\n",
    "                                      '../input/aptos2019-blindness-detection',\n",
    "                                      folder='test_images_ben_preprocessing_sigmaX10',\n",
    "                                      suffix='.png'))\n",
    "\n",
    "    learn.model.eval()\n",
    "    with torch.no_grad():\n",
    "        feats_list = []\n",
    "        for xb,yb in tqdm_notebook(learn.data.test_dl):\n",
    "            # Convolution layers\n",
    "            x = learn.model.extract_features(xb)\n",
    "\n",
    "            # Pooling and final linear layer\n",
    "            feats = F.adaptive_avg_pool2d(x, 1).squeeze(-1).squeeze(-1)\n",
    "            feats = feats.cpu().numpy()\n",
    "            feats_list.append(feats)\n",
    "            \n",
    "    feats_arr = np.concatenate(feats_list, axis=0)\n",
    "    b5_test_feats_list.append(feats_arr)\n",
    "    \n",
    "b5_test_feats = np.average(b5_test_feats, axis=0)\n",
    "np.save(\"../output/stacking/b5_test_feats.npy\", b5_test_feats)\n",
    "\n",
    "# print(b5_test_feats.shape)"
   ]
  },
  {
   "cell_type": "code",
   "execution_count": 112,
   "metadata": {
    "ExecuteTime": {
     "end_time": "2019-08-24T16:35:55.750675Z",
     "start_time": "2019-08-24T16:35:55.746319Z"
    }
   },
   "outputs": [
    {
     "data": {
      "text/plain": [
       "(2048,)"
      ]
     },
     "execution_count": 112,
     "metadata": {},
     "output_type": "execute_result"
    }
   ],
   "source": [
    "b5_test_feats_list.shape"
   ]
  },
  {
   "cell_type": "markdown",
   "metadata": {},
   "source": [
    "### Retrain"
   ]
  },
  {
   "cell_type": "markdown",
   "metadata": {
    "ExecuteTime": {
     "end_time": "2019-08-23T11:09:06.212380Z",
     "start_time": "2019-08-23T11:09:06.208703Z"
    }
   },
   "source": [
    "#### b3"
   ]
  },
  {
   "cell_type": "code",
   "execution_count": 116,
   "metadata": {
    "ExecuteTime": {
     "end_time": "2019-08-24T17:15:16.442081Z",
     "start_time": "2019-08-24T17:15:10.759769Z"
    }
   },
   "outputs": [
    {
     "data": {
      "application/vnd.jupyter.widget-view+json": {
       "model_id": "624c3675832c482ebd45ed2145daf0da",
       "version_major": 2,
       "version_minor": 0
      },
      "text/plain": [
       "HBox(children=(IntProgress(value=0, max=31), HTML(value='')))"
      ]
     },
     "metadata": {},
     "output_type": "display_data"
    },
    {
     "name": "stdout",
     "output_type": "stream",
     "text": [
      "(1928, 1536)\n"
     ]
    }
   ],
   "source": [
    "b3_test_feats = []\n",
    "learn = load_learner(deployment_dir, \"efficientnet-b3_0823_05-02-32_stage2_whole.pkl\")\n",
    "\n",
    "learn.data.add_test(ImageList.from_df(test_df,\n",
    "                                  '../input/aptos2019-blindness-detection',\n",
    "                                  folder='test_images_ben_preprocessing',\n",
    "                                  suffix='.png'))\n",
    "\n",
    "learn.model.eval()\n",
    "with torch.no_grad():\n",
    "    feats_list = []\n",
    "    for xb,yb in tqdm_notebook(learn.data.test_dl):\n",
    "        # Convolution layers\n",
    "        x = learn.model.extract_features(xb)\n",
    "\n",
    "        # Pooling and final linear layer\n",
    "        feats = F.adaptive_avg_pool2d(x, 1).squeeze(-1).squeeze(-1)\n",
    "        feats = feats.cpu().numpy()\n",
    "        feats_list.append(feats)\n",
    "            \n",
    "feats_arr = np.concatenate(feats_list, axis=0)\n",
    "#     b3_test_feats.append(feats_arr)\n",
    "    \n",
    "# b3_test_feats = np.average(b3_test_feats, axis=0)\n",
    "np.save(\"../output/stacking/b3_retrain_test_feats.npy\", b3_test_feats)\n",
    "b3_test_feats = feats_arr\n",
    "print(b3_test_feats.shape)"
   ]
  },
  {
   "cell_type": "markdown",
   "metadata": {
    "ExecuteTime": {
     "end_time": "2019-08-23T11:09:06.212380Z",
     "start_time": "2019-08-23T11:09:06.208703Z"
    }
   },
   "source": [
    "#### b4"
   ]
  },
  {
   "cell_type": "code",
   "execution_count": 117,
   "metadata": {
    "ExecuteTime": {
     "end_time": "2019-08-24T17:15:23.323214Z",
     "start_time": "2019-08-24T17:15:16.445340Z"
    }
   },
   "outputs": [
    {
     "data": {
      "application/vnd.jupyter.widget-view+json": {
       "model_id": "b5154adb22d1460ca626f753c3595e96",
       "version_major": 2,
       "version_minor": 0
      },
      "text/plain": [
       "HBox(children=(IntProgress(value=0, max=31), HTML(value='')))"
      ]
     },
     "metadata": {},
     "output_type": "display_data"
    },
    {
     "name": "stdout",
     "output_type": "stream",
     "text": [
      "(1928, 1792)\n"
     ]
    }
   ],
   "source": [
    "b4_test_feats = []\n",
    "learn = load_learner(deployment_dir, \"efficientnet-b4_0823_18-14-19_stage2_whole.pkl\")\n",
    "\n",
    "learn.data.add_test(ImageList.from_df(test_df,\n",
    "                                  '../input/aptos2019-blindness-detection',\n",
    "                                  folder='test_images_ben_preprocessing_sigmaX10',\n",
    "                                  suffix='.png'))\n",
    "\n",
    "learn.model.eval()\n",
    "with torch.no_grad():\n",
    "    feats_list = []\n",
    "    for xb,yb in tqdm_notebook(learn.data.test_dl):\n",
    "        # Convolution layers\n",
    "        x = learn.model.extract_features(xb)\n",
    "\n",
    "        # Pooling and final linear layer\n",
    "        feats = F.adaptive_avg_pool2d(x, 1).squeeze(-1).squeeze(-1)\n",
    "        feats = feats.cpu().numpy()\n",
    "        feats_list.append(feats)\n",
    "\n",
    "feats_arr = np.concatenate(feats_list, axis=0)\n",
    "b4_test_feats = feats_arr\n",
    "    \n",
    "np.save(\"../output/stacking/b4_retrain_test_feats.npy\", b4_test_feats)\n",
    "\n",
    "print(b4_test_feats.shape)"
   ]
  },
  {
   "cell_type": "markdown",
   "metadata": {
    "ExecuteTime": {
     "end_time": "2019-08-23T11:09:06.212380Z",
     "start_time": "2019-08-23T11:09:06.208703Z"
    }
   },
   "source": [
    "#### b5"
   ]
  },
  {
   "cell_type": "code",
   "execution_count": 118,
   "metadata": {
    "ExecuteTime": {
     "end_time": "2019-08-24T17:15:31.586361Z",
     "start_time": "2019-08-24T17:15:23.325622Z"
    }
   },
   "outputs": [
    {
     "data": {
      "application/vnd.jupyter.widget-view+json": {
       "model_id": "1c156861252d4d8697f3e07acafc25ca",
       "version_major": 2,
       "version_minor": 0
      },
      "text/plain": [
       "HBox(children=(IntProgress(value=0, max=31), HTML(value='')))"
      ]
     },
     "metadata": {},
     "output_type": "display_data"
    },
    {
     "name": "stdout",
     "output_type": "stream",
     "text": [
      "(1928, 2048)\n"
     ]
    }
   ],
   "source": [
    "b5_test_feats = []\n",
    "learn = load_learner(deployment_dir, \"efficientnet-b5_0823_18-21-16_stage2_whole.pkl\")\n",
    "\n",
    "learn.data.add_test(ImageList.from_df(test_df,\n",
    "                                  '../input/aptos2019-blindness-detection',\n",
    "                                  folder='test_images_ben_preprocessing_sigmaX10',\n",
    "                                  suffix='.png'))\n",
    "\n",
    "learn.model.eval()\n",
    "with torch.no_grad():\n",
    "    feats_list = []\n",
    "    for xb,yb in tqdm_notebook(learn.data.test_dl):\n",
    "        # Convolution layers\n",
    "        x = learn.model.extract_features(xb)\n",
    "\n",
    "        # Pooling and final linear layer\n",
    "        feats = F.adaptive_avg_pool2d(x, 1).squeeze(-1).squeeze(-1)\n",
    "        feats = feats.cpu().numpy()\n",
    "        feats_list.append(feats)\n",
    "\n",
    "feats_arr = np.concatenate(feats_list, axis=0)\n",
    "b5_test_feats = feats_arr\n",
    "    \n",
    "np.save(\"../output/stacking/b5_retrain_test_feats.npy\", b5_test_feats)\n",
    "\n",
    "print(b5_test_feats.shape)"
   ]
  },
  {
   "cell_type": "code",
   "execution_count": 119,
   "metadata": {
    "ExecuteTime": {
     "end_time": "2019-08-24T17:15:31.618759Z",
     "start_time": "2019-08-24T17:15:31.588451Z"
    }
   },
   "outputs": [
    {
     "data": {
      "text/plain": [
       "(1928, 5376)"
      ]
     },
     "execution_count": 119,
     "metadata": {},
     "output_type": "execute_result"
    }
   ],
   "source": [
    "X_test = np.concatenate([b3_test_feats, b4_test_feats, b5_test_feats], axis=1)\n",
    "# X_test = np.concatenate([b4_test_feats, b5_test_feats], axis=1)\n",
    "X_test.shape"
   ]
  },
  {
   "cell_type": "markdown",
   "metadata": {
    "ExecuteTime": {
     "end_time": "2019-08-22T14:03:21.632429Z",
     "start_time": "2019-08-22T14:03:21.627914Z"
    }
   },
   "source": [
    "# Train Stage 2 model on OOF"
   ]
  },
  {
   "cell_type": "markdown",
   "metadata": {},
   "source": [
    "## LightGBM "
   ]
  },
  {
   "cell_type": "code",
   "execution_count": 8,
   "metadata": {
    "ExecuteTime": {
     "end_time": "2019-08-24T09:01:31.500114Z",
     "start_time": "2019-08-24T09:01:31.470603Z"
    }
   },
   "outputs": [],
   "source": [
    "import lightgbm as lgb\n",
    "\n",
    "from sklearn.model_selection import GridSearchCV\n",
    "from sklearn.metrics import make_scorer\n",
    "from sklearn.preprocessing import MinMaxScaler"
   ]
  },
  {
   "cell_type": "code",
   "execution_count": 9,
   "metadata": {
    "ExecuteTime": {
     "end_time": "2019-08-24T09:01:33.037940Z",
     "start_time": "2019-08-24T09:01:33.031760Z"
    }
   },
   "outputs": [],
   "source": [
    "def qk_np(y, y_pred):\n",
    "    k = cohen_kappa_score(np.round(y_pred), y, weights='quadratic')\n",
    "    \n",
    "    return k\n",
    "\n",
    "score = make_scorer(qk_np, greater_is_better=True)"
   ]
  },
  {
   "cell_type": "code",
   "execution_count": 32,
   "metadata": {
    "ExecuteTime": {
     "end_time": "2019-08-24T09:12:34.670914Z",
     "start_time": "2019-08-24T09:12:34.512099Z"
    }
   },
   "outputs": [
    {
     "name": "stdout",
     "output_type": "stream",
     "text": [
      "(3662, 5376)\n"
     ]
    }
   ],
   "source": [
    "stacking_dir = \"../output/stacking\"\n",
    "X_train = []\n",
    "y_train = []\n",
    "n_fold = 5\n",
    "\n",
    "for i in range(1, n_fold+1):\n",
    "    data_t = []\n",
    "    for j in ['b3_f{}_feats.npy', 'b4_f{}_feats.npy', 'b5_f{}_feats.npy']:\n",
    "#     for j in ['b4_f{}_feats.npy', 'b5_f{}_feats.npy']:\n",
    "        data_t.append(np.load(os.path.join(stacking_dir, j.format(i))))\n",
    "    data_t = np.concatenate(data_t, axis=1)\n",
    "    X_train.append(data_t)\n",
    "    \n",
    "    label_t = df_2019_cv[df_2019_cv[\"is_valid{}\".format(i)]][\"diagnosis\"].tolist()\n",
    "    y_train += label_t\n",
    "    \n",
    "X_train = np.concatenate(X_train, axis=0)\n",
    "print(X_train.shape)"
   ]
  },
  {
   "cell_type": "code",
   "execution_count": 88,
   "metadata": {
    "ExecuteTime": {
     "end_time": "2019-08-24T10:42:35.850060Z",
     "start_time": "2019-08-24T10:42:35.668043Z"
    }
   },
   "outputs": [],
   "source": [
    "scaler = MinMaxScaler()\n",
    "X_train_normalized = scaler.fit_transform(X_train)"
   ]
  },
  {
   "cell_type": "code",
   "execution_count": null,
   "metadata": {
    "ExecuteTime": {
     "end_time": "2019-08-23T17:28:19.054229Z",
     "start_time": "2019-08-23T17:28:19.036958Z"
    }
   },
   "outputs": [],
   "source": [
    "X_train_normalized = F.softmax(torch.tensor(X_train)).numpy()"
   ]
  },
  {
   "cell_type": "code",
   "execution_count": 33,
   "metadata": {
    "ExecuteTime": {
     "end_time": "2019-08-24T09:13:24.329118Z",
     "start_time": "2019-08-24T09:12:38.236224Z"
    }
   },
   "outputs": [
    {
     "name": "stdout",
     "output_type": "stream",
     "text": [
      "Fitting 5 folds for each of 1 candidates, totalling 5 fits\n"
     ]
    },
    {
     "name": "stderr",
     "output_type": "stream",
     "text": [
      "[Parallel(n_jobs=16)]: Using backend LokyBackend with 16 concurrent workers.\n",
      "[Parallel(n_jobs=16)]: Done   5 out of   5 | elapsed:   29.2s finished\n"
     ]
    },
    {
     "name": "stdout",
     "output_type": "stream",
     "text": [
      "Best parameters found by grid search are: {'learning_rate': 0.1, 'max_depth': 20}\n"
     ]
    }
   ],
   "source": [
    "estimator = lgb.LGBMRegressor(n_jobs=8, random_state=SEED)\n",
    "\n",
    "param_grid = {\n",
    "#     'max_depth': [15, 20, 25, 30, 35],   \n",
    "    'max_depth': [20],\n",
    "#     'learning_rate': [0.01, 0.02, 0.05, 0.1, 0.15],    \n",
    "    'learning_rate': [0.1],\n",
    "#     'feature_fraction': [0.6, 0.7, 0.8, 0.9, 0.95],\n",
    "#     'bagging_fraction': [0.6, 0.7, 0.8, 0.9, 0.95],\n",
    "#     'bagging_freq': [2, 4, 5, 6, 8],\n",
    "#     'lambda_l1': [0, 0.1, 0.4, 0.5, 0.6],\n",
    "#     'lambda_l2': [0, 10, 15, 35, 40],\n",
    "#     'cat_smooth': [1, 10, 15, 20, 35]\n",
    "}\n",
    "\n",
    "gbm = GridSearchCV(estimator, param_grid, cv=5, n_jobs=16, scoring=score, verbose=1)\n",
    "# gbm.fit(X_train_normalized, y_train)\n",
    "gbm.fit(X_train, y_train)\n",
    "\n",
    "print('Best parameters found by grid search are:', gbm.best_params_)"
   ]
  },
  {
   "cell_type": "code",
   "execution_count": 34,
   "metadata": {
    "ExecuteTime": {
     "end_time": "2019-08-24T09:13:24.339321Z",
     "start_time": "2019-08-24T09:13:24.331929Z"
    }
   },
   "outputs": [
    {
     "data": {
      "text/plain": [
       "{'mean_fit_time': array([26.503971]),\n",
       " 'std_fit_time': array([0.53958]),\n",
       " 'mean_score_time': array([0.014936]),\n",
       " 'std_score_time': array([0.004083]),\n",
       " 'param_learning_rate': masked_array(data=[0.1],\n",
       "              mask=[False],\n",
       "        fill_value='?',\n",
       "             dtype=object),\n",
       " 'param_max_depth': masked_array(data=[20],\n",
       "              mask=[False],\n",
       "        fill_value='?',\n",
       "             dtype=object),\n",
       " 'params': [{'learning_rate': 0.1, 'max_depth': 20}],\n",
       " 'split0_test_score': array([0.927655]),\n",
       " 'split1_test_score': array([0.924255]),\n",
       " 'split2_test_score': array([0.922097]),\n",
       " 'split3_test_score': array([0.914574]),\n",
       " 'split4_test_score': array([0.912803]),\n",
       " 'mean_test_score': array([0.92028]),\n",
       " 'std_test_score': array([0.005692]),\n",
       " 'rank_test_score': array([1], dtype=int32)}"
      ]
     },
     "execution_count": 34,
     "metadata": {},
     "output_type": "execute_result"
    }
   ],
   "source": [
    "gbm.cv_results_   "
   ]
  },
  {
   "cell_type": "code",
   "execution_count": 35,
   "metadata": {
    "ExecuteTime": {
     "end_time": "2019-08-24T09:13:24.350918Z",
     "start_time": "2019-08-24T09:13:24.341161Z"
    }
   },
   "outputs": [
    {
     "name": "stdout",
     "output_type": "stream",
     "text": [
      "../output/inference/lightgbm-0824_17-01-06.pkl\n"
     ]
    }
   ],
   "source": [
    "model_save_name = os.path.join(deployment_dir, \"lightgbm-{}.pkl\".format(current_time))\n",
    "\n",
    "with open(model_save_name, \"wb\") as f:\n",
    "    pk.dump(gbm.best_estimator_, f)\n",
    "\n",
    "print(model_save_name)"
   ]
  },
  {
   "cell_type": "code",
   "execution_count": null,
   "metadata": {
    "ExecuteTime": {
     "end_time": "2019-08-22T17:51:11.379092Z",
     "start_time": "2019-08-22T17:51:11.368181Z"
    }
   },
   "outputs": [],
   "source": [
    "with open(model_save_name, \"rb\") as f:\n",
    "    gbm = pk.load(f)"
   ]
  },
  {
   "cell_type": "markdown",
   "metadata": {},
   "source": [
    "## LogisticRegression "
   ]
  },
  {
   "cell_type": "code",
   "execution_count": 47,
   "metadata": {
    "ExecuteTime": {
     "end_time": "2019-08-24T09:33:44.020345Z",
     "start_time": "2019-08-24T09:33:44.017848Z"
    }
   },
   "outputs": [],
   "source": [
    "from sklearn.linear_model import LogisticRegression"
   ]
  },
  {
   "cell_type": "code",
   "execution_count": 96,
   "metadata": {
    "ExecuteTime": {
     "end_time": "2019-08-24T16:25:42.599249Z",
     "start_time": "2019-08-24T16:18:38.129249Z"
    }
   },
   "outputs": [
    {
     "name": "stdout",
     "output_type": "stream",
     "text": [
      "Fitting 5 folds for each of 4 candidates, totalling 20 fits\n"
     ]
    },
    {
     "name": "stderr",
     "output_type": "stream",
     "text": [
      "[Parallel(n_jobs=16)]: Using backend LokyBackend with 16 concurrent workers.\n",
      "[Parallel(n_jobs=16)]: Done  10 out of  20 | elapsed:  4.6min remaining:  4.6min\n",
      "[Parallel(n_jobs=16)]: Done  20 out of  20 | elapsed:  6.6min finished\n"
     ]
    },
    {
     "name": "stdout",
     "output_type": "stream",
     "text": [
      "Best parameters found by grid search are: {'C': 0.1, 'penalty': 'l2', 'solver': 'lbfgs'}\n"
     ]
    }
   ],
   "source": [
    "estimator = LogisticRegression(n_jobs=8, random_state=SEED, multi_class=\"auto\")\n",
    "\n",
    "param_grid = {\n",
    "#     'penalty': ['l1', 'l2'],    \n",
    "    'penalty': ['l2'],\n",
    "    'C': [0.1],    \n",
    "    'solver': ['newton-cg', 'sag', 'saga', 'lbfgs']\n",
    "#     'C': [0.001, 0.01, 0.1, 1, 10, 100]\n",
    "\n",
    "}\n",
    "\n",
    "lr = GridSearchCV(estimator, param_grid, cv=5, n_jobs=16, scoring=score, verbose=1)\n",
    "lr.fit(X_train, y_train)\n",
    "# lr.fit(X_train_normalized, y_train)\n",
    "\n",
    "\n",
    "print('Best parameters found by grid search are:', lr.best_params_)"
   ]
  },
  {
   "cell_type": "code",
   "execution_count": 97,
   "metadata": {
    "ExecuteTime": {
     "end_time": "2019-08-24T16:25:42.619795Z",
     "start_time": "2019-08-24T16:25:42.601564Z"
    }
   },
   "outputs": [
    {
     "data": {
      "text/plain": [
       "{'mean_fit_time': array([292.200948, 277.65664 , 388.242563,  24.270948]),\n",
       " 'std_fit_time': array([22.441194,  6.371762,  4.092036,  4.390133]),\n",
       " 'mean_score_time': array([0.040252, 0.08123 , 0.031822, 0.053818]),\n",
       " 'std_score_time': array([0.015878, 0.021969, 0.010026, 0.035091]),\n",
       " 'param_C': masked_array(data=[0.1, 0.1, 0.1, 0.1],\n",
       "              mask=[False, False, False, False],\n",
       "        fill_value='?',\n",
       "             dtype=object),\n",
       " 'param_penalty': masked_array(data=['l2', 'l2', 'l2', 'l2'],\n",
       "              mask=[False, False, False, False],\n",
       "        fill_value='?',\n",
       "             dtype=object),\n",
       " 'param_solver': masked_array(data=['newton-cg', 'sag', 'saga', 'lbfgs'],\n",
       "              mask=[False, False, False, False],\n",
       "        fill_value='?',\n",
       "             dtype=object),\n",
       " 'params': [{'C': 0.1, 'penalty': 'l2', 'solver': 'newton-cg'},\n",
       "  {'C': 0.1, 'penalty': 'l2', 'solver': 'sag'},\n",
       "  {'C': 0.1, 'penalty': 'l2', 'solver': 'saga'},\n",
       "  {'C': 0.1, 'penalty': 'l2', 'solver': 'lbfgs'}],\n",
       " 'split0_test_score': array([0.914614, 0.913252, 0.913252, 0.913683]),\n",
       " 'split1_test_score': array([0.925745, 0.924687, 0.924687, 0.925087]),\n",
       " 'split2_test_score': array([0.927716, 0.926291, 0.926291, 0.926291]),\n",
       " 'split3_test_score': array([0.916289, 0.914252, 0.914252, 0.914695]),\n",
       " 'split4_test_score': array([0.910075, 0.917312, 0.917312, 0.917312]),\n",
       " 'mean_test_score': array([0.918893, 0.919161, 0.919161, 0.919416]),\n",
       " 'std_test_score': array([0.006747, 0.005364, 0.005364, 0.005274]),\n",
       " 'rank_test_score': array([4, 2, 2, 1], dtype=int32)}"
      ]
     },
     "execution_count": 97,
     "metadata": {},
     "output_type": "execute_result"
    }
   ],
   "source": [
    "lr.cv_results_   "
   ]
  },
  {
   "cell_type": "code",
   "execution_count": 98,
   "metadata": {
    "ExecuteTime": {
     "end_time": "2019-08-24T16:25:42.769254Z",
     "start_time": "2019-08-24T16:25:42.621954Z"
    }
   },
   "outputs": [
    {
     "data": {
      "text/plain": [
       "0.9329582729509046"
      ]
     },
     "execution_count": 98,
     "metadata": {},
     "output_type": "execute_result"
    }
   ],
   "source": [
    "qk_np(y_train, lr.predict(X_train))"
   ]
  },
  {
   "cell_type": "code",
   "execution_count": 86,
   "metadata": {
    "ExecuteTime": {
     "end_time": "2019-08-24T10:03:31.957602Z",
     "start_time": "2019-08-24T10:03:31.950493Z"
    }
   },
   "outputs": [
    {
     "name": "stdout",
     "output_type": "stream",
     "text": [
      "lr-0824_17-01-06\n"
     ]
    }
   ],
   "source": [
    "model_save_name = \"lr-{}\".format(current_time)\n",
    "\n",
    "with open(os.path.join(deployment_dir, model_save_name+\".pkl\"), \"wb\") as f:\n",
    "    pk.dump(lr.best_estimator_, f)\n",
    "\n",
    "print(model_save_name)"
   ]
  },
  {
   "cell_type": "markdown",
   "metadata": {},
   "source": [
    "# Test"
   ]
  },
  {
   "cell_type": "code",
   "execution_count": null,
   "metadata": {
    "ExecuteTime": {
     "end_time": "2019-08-23T13:29:00.393055Z",
     "start_time": "2019-08-23T13:29:00.364397Z"
    }
   },
   "outputs": [],
   "source": [
    "X_test_normalized = scaler.transform(X_test)"
   ]
  },
  {
   "cell_type": "code",
   "execution_count": null,
   "metadata": {
    "ExecuteTime": {
     "end_time": "2019-08-23T17:30:19.465680Z",
     "start_time": "2019-08-23T17:30:19.453320Z"
    }
   },
   "outputs": [],
   "source": [
    "X_test_normalized = F.softmax(torch.tensor(X_test)).numpy()"
   ]
  },
  {
   "cell_type": "markdown",
   "metadata": {},
   "source": [
    "## LogisticRegression "
   ]
  },
  {
   "cell_type": "markdown",
   "metadata": {},
   "source": [
    "### Retrain feature test"
   ]
  },
  {
   "cell_type": "code",
   "execution_count": 120,
   "metadata": {
    "ExecuteTime": {
     "end_time": "2019-08-24T17:15:38.223626Z",
     "start_time": "2019-08-24T17:15:37.929182Z"
    }
   },
   "outputs": [
    {
     "data": {
      "image/png": "[encoded data removed]",
      "text/plain": [
       "<Figure size 432x288 with 1 Axes>"
      ]
     },
     "metadata": {
      "needs_background": "light"
     },
     "output_type": "display_data"
    },
    {
     "name": "stdout",
     "output_type": "stream",
     "text": [
      "lr-0824_17-01-06-retrain_feature_test.csv\n"
     ]
    }
   ],
   "source": [
    "y_pred = lr.predict(X_test)\n",
    "\n",
    "\n",
    "test_df.diagnosis = y_pred.astype(int)\n",
    "\n",
    "test_df.hist()\n",
    "plt.show()\n",
    "\n",
    "submition_filename = \"{}-retrain_feature_test.csv\".format(model_save_name)\n",
    "test_df.to_csv(submition_filename,index=False)\n",
    "print(submition_filename)"
   ]
  },
  {
   "cell_type": "markdown",
   "metadata": {},
   "source": [
    "### 5-fold avg feature test"
   ]
  },
  {
   "cell_type": "code",
   "execution_count": 115,
   "metadata": {
    "ExecuteTime": {
     "end_time": "2019-08-24T17:06:41.547583Z",
     "start_time": "2019-08-24T17:06:41.135277Z"
    }
   },
   "outputs": [
    {
     "data": {
      "image/png": "[encoded data removed]",
      "text/plain": [
       "<Figure size 432x288 with 1 Axes>"
      ]
     },
     "metadata": {
      "needs_background": "light"
     },
     "output_type": "display_data"
    },
    {
     "name": "stdout",
     "output_type": "stream",
     "text": [
      "lr-0824_17-01-06-5-fold_avg_logits_test.csv\n"
     ]
    }
   ],
   "source": [
    "\n",
    "b3_test_avg_feats = np.average(b3_test_feats_list, axis=0)\n",
    "b4_test_avg_feats = np.average(b4_test_feats_list, axis=0)\n",
    "b5_test_avg_feats = np.average(b5_test_feats_list, axis=0)\n",
    "\n",
    "\n",
    "X_test = np.concatenate([b3_test_avg_feats, b4_test_avg_feats, b5_test_avg_feats], axis=1)\n",
    "y_pred = lr.predict(X_test)\n",
    "\n",
    "test_df.diagnosis = y_pred.astype(int)\n",
    "\n",
    "test_df.hist()\n",
    "plt.show()\n",
    "\n",
    "submition_filename = \"{}-5-fold_avg_logits_test.csv\".format(model_save_name)\n",
    "test_df.to_csv(submition_filename, index=False)\n",
    "print(submition_filename)"
   ]
  },
  {
   "cell_type": "markdown",
   "metadata": {},
   "source": [
    "### 5-fold avg logits test"
   ]
  },
  {
   "cell_type": "code",
   "execution_count": 114,
   "metadata": {
    "ExecuteTime": {
     "end_time": "2019-08-24T17:03:42.516406Z",
     "start_time": "2019-08-24T17:03:41.896426Z"
    }
   },
   "outputs": [
    {
     "data": {
      "image/png": "[encoded data removed]",
      "text/plain": [
       "<Figure size 432x288 with 1 Axes>"
      ]
     },
     "metadata": {
      "needs_background": "light"
     },
     "output_type": "display_data"
    },
    {
     "name": "stdout",
     "output_type": "stream",
     "text": [
      "lr-0824_17-01-06-5-fold_avg_logits_test.csv\n"
     ]
    }
   ],
   "source": [
    "# 5 test feature then avg\n",
    "results = []\n",
    "for b3, b4, b5 in zip(b3_test_feats_list, b4_test_feats_list, b5_test_feats_list):\n",
    "    X_test = np.concatenate([b3, b4, b5], axis=1)\n",
    "    res = lr.predict_proba(X_test)\n",
    "    results.append(res)\n",
    "\n",
    "avg_res = np.average(results, axis=0)\n",
    "y_pred = np.argmax(avg_res, axis=1)\n",
    "\n",
    "test_df.diagnosis = y_pred.astype(int)\n",
    "\n",
    "test_df.hist()\n",
    "plt.show()\n",
    "\n",
    "submition_filename = \"{}-5-fold_avg_logits_test.csv\".format(model_save_name)\n",
    "test_df.to_csv(submition_filename, index=False)\n",
    "print(submition_filename)"
   ]
  },
  {
   "cell_type": "code",
   "execution_count": null,
   "metadata": {},
   "outputs": [],
   "source": []
  }
 ],
 "metadata": {
  "kernelspec": {
   "display_name": "Python [conda env:.conda-test]",
   "language": "python",
   "name": "conda-env-.conda-test-py"
  },
  "language_info": {
   "codemirror_mode": {
    "name": "ipython",
    "version": 3
   },
   "file_extension": ".py",
   "mimetype": "text/x-python",
   "name": "python",
   "nbconvert_exporter": "python",
   "pygments_lexer": "ipython3",
   "version": "3.6.8"
  },
  "toc": {
   "base_numbering": 1,
   "nav_menu": {},
   "number_sections": true,
   "sideBar": true,
   "skip_h1_title": false,
   "title_cell": "Table of Contents",
   "title_sidebar": "Contents",
   "toc_cell": false,
   "toc_position": {
    "height": "calc(100% - 180px)",
    "left": "10px",
    "top": "150px",
    "width": "240.656px"
   },
   "toc_section_display": true,
   "toc_window_display": true
  }
 },
 "nbformat": 4,
 "nbformat_minor": 2
}
