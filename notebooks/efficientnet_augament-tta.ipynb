{
 "cells": [
  {
   "cell_type": "code",
   "execution_count": 14,
   "metadata": {
    "ExecuteTime": {
     "end_time": "2019-08-22T10:11:55.437624Z",
     "start_time": "2019-08-22T10:11:55.414785Z"
    }
   },
   "outputs": [],
   "source": [
    "import os\n",
    "\n",
    "os.environ[\"CUDA_VISIBLE_DEVICES\"] = \"4\""
   ]
  },
  {
   "cell_type": "code",
   "execution_count": 15,
   "metadata": {
    "ExecuteTime": {
     "end_time": "2019-08-22T10:11:55.495635Z",
     "start_time": "2019-08-22T10:11:55.441171Z"
    }
   },
   "outputs": [],
   "source": [
    "%reload_ext autoreload\n",
    "%autoreload 2\n",
    "%matplotlib inline\n",
    "import torch\n",
    "import numpy as np\n",
    "import pandas as pd\n",
    "import matplotlib.pyplot as plt\n",
    "from matplotlib import style\n",
    "import seaborn as sns\n",
    "from sklearn.model_selection import StratifiedKFold\n",
    "from joblib import load, dump\n",
    "from sklearn.metrics import cohen_kappa_score\n",
    "from sklearn.metrics import confusion_matrix\n",
    "from fastai import *\n",
    "from fastai.vision import *\n",
    "from fastai.callbacks import *\n",
    "from torchvision import models as md\n",
    "from torch import nn\n",
    "from torch.nn import functional as F\n",
    "import re\n",
    "import math\n",
    "import collections\n",
    "from functools import partial\n",
    "from torch.utils import model_zoo\n",
    "from sklearn import metrics\n",
    "from collections import Counter\n",
    "import json\n",
    "from efficientnet_pytorch import EfficientNet\n",
    "from utils import *"
   ]
  },
  {
   "cell_type": "code",
   "execution_count": 16,
   "metadata": {
    "ExecuteTime": {
     "end_time": "2019-08-22T10:11:55.532052Z",
     "start_time": "2019-08-22T10:11:55.497561Z"
    }
   },
   "outputs": [],
   "source": [
    "import random\n",
    "\n",
    "def seed_everything(seed):\n",
    "    random.seed(seed)\n",
    "    os.environ['PYTHONHASHSEED'] = str(seed)\n",
    "    np.random.seed(seed)\n",
    "    torch.manual_seed(seed)\n",
    "    torch.cuda.manual_seed(seed)\n",
    "    torch.backends.cudnn.deterministic = True\n",
    "SEED = 2019\n",
    "seed_everything(SEED)"
   ]
  },
  {
   "cell_type": "code",
   "execution_count": 17,
   "metadata": {
    "ExecuteTime": {
     "end_time": "2019-08-22T10:11:55.574032Z",
     "start_time": "2019-08-22T10:11:55.533795Z"
    }
   },
   "outputs": [
    {
     "name": "stdout",
     "output_type": "stream",
     "text": [
      "0822_18-11-55\n"
     ]
    }
   ],
   "source": [
    "current_time = get_BJ_time()\n",
    "print(current_time)"
   ]
  },
  {
   "cell_type": "markdown",
   "metadata": {},
   "source": [
    "# Reading data and Basic EDA(Exploratory Data Analysis)\n",
    "\n",
    "Here I am going to open the dataset with pandas, check distribution of labels."
   ]
  },
  {
   "cell_type": "code",
   "execution_count": 18,
   "metadata": {
    "ExecuteTime": {
     "end_time": "2019-08-22T10:11:55.628735Z",
     "start_time": "2019-08-22T10:11:55.577005Z"
    }
   },
   "outputs": [],
   "source": [
    "df_2019 = pd.read_csv('../input/aptos-data-split/df_2019_sigmaX30.csv')\n",
    "\n",
    "test_df = pd.read_csv('../input/aptos2019-blindness-detection/sample_submission.csv')"
   ]
  },
  {
   "cell_type": "code",
   "execution_count": 19,
   "metadata": {
    "ExecuteTime": {
     "end_time": "2019-08-22T10:11:55.669542Z",
     "start_time": "2019-08-22T10:11:55.630003Z"
    }
   },
   "outputs": [],
   "source": [
    "bs = 32 #smaller batch size is better for training, but may take longer\n",
    "sz = 256  # get model input size\n",
    "# sz = EfficientNet.get_image_size(model_name)  # get model input size\n",
    "tfms = get_transforms(do_flip=True,flip_vert=True, max_rotate=0, max_zoom=1.2, max_warp=0)"
   ]
  },
  {
   "cell_type": "code",
   "execution_count": 20,
   "metadata": {
    "ExecuteTime": {
     "end_time": "2019-08-22T10:11:57.615589Z",
     "start_time": "2019-08-22T10:11:55.671004Z"
    }
   },
   "outputs": [
    {
     "data": {
      "text/plain": [
       "ImageDataBunch;\n",
       "\n",
       "Train: LabelList (2929 items)\n",
       "x: ImageList\n",
       "Image (3, 256, 256),Image (3, 256, 256),Image (3, 256, 256),Image (3, 256, 256),Image (3, 256, 256)\n",
       "y: FloatList\n",
       "0.0,0.0,1.0,2.0,1.0\n",
       "Path: .;\n",
       "\n",
       "Valid: LabelList (733 items)\n",
       "x: ImageList\n",
       "Image (3, 256, 256),Image (3, 256, 256),Image (3, 256, 256),Image (3, 256, 256),Image (3, 256, 256)\n",
       "y: FloatList\n",
       "2.0,1.0,0.0,4.0,0.0\n",
       "Path: .;\n",
       "\n",
       "Test: None"
      ]
     },
     "execution_count": 20,
     "metadata": {},
     "output_type": "execute_result"
    }
   ],
   "source": [
    "data = (ImageList.from_df(df=df_2019,path='./',cols='path')\n",
    "        .split_from_df(\"is_valid\")\n",
    "        .label_from_df(cols='diagnosis',label_cls=FloatList) \n",
    "        .transform(tfms,size=sz,resize_method=ResizeMethod.SQUISH,padding_mode='zeros') \n",
    "        .databunch(bs=bs,num_workers=4) \n",
    "        .normalize(imagenet_stats)  \n",
    "       )\n",
    "data"
   ]
  },
  {
   "cell_type": "markdown",
   "metadata": {},
   "source": [
    "# Training (Transfer learning)"
   ]
  },
  {
   "cell_type": "markdown",
   "metadata": {},
   "source": [
    "The Kaggle competition used the Cohen's quadratically weighted kappa so I have that here to compare. This is a better metric when dealing with imbalanced datasets like this one, and for measuring inter-rater agreement for categorical classification (the raters being the human-labeled dataset and the neural network predictions). Here is an implementation based on the scikit-learn's implementation, but converted to a pytorch tensor, as that is what fastai uses."
   ]
  },
  {
   "cell_type": "code",
   "execution_count": 21,
   "metadata": {
    "ExecuteTime": {
     "end_time": "2019-08-22T10:11:57.659598Z",
     "start_time": "2019-08-22T10:11:57.617963Z"
    }
   },
   "outputs": [],
   "source": [
    "def qk(y_pred, y):\n",
    "    k = torch.tensor(cohen_kappa_score(torch.round(y_pred), y, weights='quadratic'), device='cuda:0')\n",
    "    k[k != k] = 0\n",
    "    k[torch.isinf(k)] = 0\n",
    "    \n",
    "    return k"
   ]
  },
  {
   "cell_type": "code",
   "execution_count": 22,
   "metadata": {
    "ExecuteTime": {
     "end_time": "2019-08-22T10:11:57.895374Z",
     "start_time": "2019-08-22T10:11:57.661341Z"
    }
   },
   "outputs": [
    {
     "name": "stdout",
     "output_type": "stream",
     "text": [
      "Loaded pretrained weights for efficientnet-b3\n"
     ]
    }
   ],
   "source": [
    "model_name = 'efficientnet-b3'\n",
    "model = EfficientNet.from_pretrained(model_name, num_classes=1)"
   ]
  },
  {
   "cell_type": "code",
   "execution_count": 23,
   "metadata": {
    "ExecuteTime": {
     "end_time": "2019-08-22T10:11:57.969748Z",
     "start_time": "2019-08-22T10:11:57.896983Z"
    }
   },
   "outputs": [],
   "source": [
    "learn = Learner(data, \n",
    "                model, \n",
    "                metrics = [qk],\n",
    "                callback_fns=[partial(EarlyStoppingCallback, patience=6)],\n",
    "                model_dir = '../output/models/')"
   ]
  },
  {
   "cell_type": "code",
   "execution_count": 24,
   "metadata": {
    "ExecuteTime": {
     "end_time": "2019-08-22T10:11:58.009422Z",
     "start_time": "2019-08-22T10:11:57.971224Z"
    }
   },
   "outputs": [],
   "source": [
    "model_save_name = \"efficientnet-b3_0819_22-37-22_stage2_f2\""
   ]
  },
  {
   "cell_type": "code",
   "execution_count": 25,
   "metadata": {
    "ExecuteTime": {
     "end_time": "2019-08-22T10:11:58.860403Z",
     "start_time": "2019-08-22T10:11:58.010891Z"
    }
   },
   "outputs": [
    {
     "name": "stdout",
     "output_type": "stream",
     "text": [
      "\n"
     ]
    }
   ],
   "source": [
    "learn.load(model_save_name)\n",
    "print()"
   ]
  },
  {
   "cell_type": "code",
   "execution_count": 26,
   "metadata": {
    "ExecuteTime": {
     "end_time": "2019-08-22T10:11:59.033458Z",
     "start_time": "2019-08-22T10:11:58.862210Z"
    }
   },
   "outputs": [],
   "source": [
    "learn.export(\"../output/inference/efficientnet-b3_0819_22-37-22_stage2_f2.pkl\")"
   ]
  },
  {
   "cell_type": "markdown",
   "metadata": {},
   "source": [
    "# Optimize the Metric\n",
    "Optimizing the quadratic kappa metric was an important part of the top solutions in the previous competition. Thankfully, @abhishek has already provided code to do this for us. We will use this to improve the score."
   ]
  },
  {
   "cell_type": "code",
   "execution_count": 12,
   "metadata": {
    "ExecuteTime": {
     "end_time": "2019-08-18T15:24:24.232343Z",
     "start_time": "2019-08-18T15:24:24.213519Z"
    }
   },
   "outputs": [],
   "source": [
    "import scipy as sp"
   ]
  },
  {
   "cell_type": "code",
   "execution_count": 13,
   "metadata": {
    "ExecuteTime": {
     "end_time": "2019-08-18T15:24:24.260263Z",
     "start_time": "2019-08-18T15:24:24.233591Z"
    }
   },
   "outputs": [],
   "source": [
    "class OptimizedRounder(object):\n",
    "    \"\"\"\n",
    "    Optimize threshold coefficients.\n",
    "    \"\"\"\n",
    "    def __init__(self):\n",
    "        self.coef_ = 0\n",
    "\n",
    "    def _kappa_loss(self, coef, X, y):\n",
    "        \"\"\"\n",
    "        Customized loss function.\n",
    "        \n",
    "        :param coef: list, shape=[4]\n",
    "            Threshold.\n",
    "        :param X: list, shape=[5]\n",
    "            Prediction.\n",
    "        :param y: list, shape=[5]\n",
    "            Golden label.\n",
    "        \"\"\"\n",
    "        X_p = np.copy(X)\n",
    "        for i, pred in enumerate(X_p):\n",
    "            if pred < coef[0]:\n",
    "                X_p[i] = 0\n",
    "            elif pred >= coef[0] and pred < coef[1]:\n",
    "                X_p[i] = 1\n",
    "            elif pred >= coef[1] and pred < coef[2]:\n",
    "                X_p[i] = 2\n",
    "            elif pred >= coef[2] and pred < coef[3]:\n",
    "                X_p[i] = 3\n",
    "            else:\n",
    "                X_p[i] = 4\n",
    "        \n",
    "        # Cohen's kappa: a statistic that measures inter-annotator agreement.\n",
    "        ll = metrics.cohen_kappa_score(y, X_p, weights='quadratic')\n",
    "        return -ll\n",
    "\n",
    "    def fit(self, X, y):\n",
    "        \"\"\"\n",
    "        :param X: list, shape=[5]\n",
    "            Prediction.\n",
    "        :param y: list, shape=[5]\n",
    "            Golden label.\n",
    "        \"\"\"\n",
    "        # new function with partial application of the given arguments and keywords.\n",
    "        loss_partial = partial(self._kappa_loss, X=X, y=y)\n",
    "        initial_coef = [0.5, 1.5, 2.5, 3.5]\n",
    "        # Minimization of scalar function of one or more variables.\n",
    "        self.coef_ = sp.optimize.minimize(loss_partial, initial_coef, method='nelder-mead')\n",
    "        print(-loss_partial(self.coef_['x']))\n",
    "\n",
    "    def predict(self, X, coef):\n",
    "        \"\"\"\n",
    "        :param X: list, shape=[5]\n",
    "            Prediction.\n",
    "        :param coef: list, shape=[4]\n",
    "            Threshold.\n",
    "        \"\"\"\n",
    "        X_p = np.copy(X)\n",
    "        for i, pred in enumerate(X_p):\n",
    "            if pred < coef[0]:\n",
    "                X_p[i] = 0\n",
    "            elif pred >= coef[0] and pred < coef[1]:\n",
    "                X_p[i] = 1\n",
    "            elif pred >= coef[1] and pred < coef[2]:\n",
    "                X_p[i] = 2\n",
    "            elif pred >= coef[2] and pred < coef[3]:\n",
    "                X_p[i] = 3\n",
    "            else:\n",
    "                X_p[i] = 4\n",
    "        return X_p\n",
    "\n",
    "    def coefficients(self):\n",
    "        return self.coef_['x']"
   ]
  },
  {
   "cell_type": "markdown",
   "metadata": {},
   "source": [
    "# Submission"
   ]
  },
  {
   "cell_type": "code",
   "execution_count": 14,
   "metadata": {
    "ExecuteTime": {
     "end_time": "2019-08-18T15:24:24.375891Z",
     "start_time": "2019-08-18T15:24:24.263057Z"
    }
   },
   "outputs": [],
   "source": [
    "learn.data.add_test(ImageList.from_df(test_df,\n",
    "                                      '../input/aptos2019-blindness-detection',\n",
    "                                      folder='test_images_ben_preprocessing',\n",
    "                                      suffix='.png'))"
   ]
  },
  {
   "cell_type": "code",
   "execution_count": 55,
   "metadata": {
    "ExecuteTime": {
     "end_time": "2019-08-18T15:51:04.792345Z",
     "start_time": "2019-08-18T15:51:04.768332Z"
    }
   },
   "outputs": [],
   "source": [
    "optR = OptimizedRounder()"
   ]
  },
  {
   "cell_type": "code",
   "execution_count": 56,
   "metadata": {
    "ExecuteTime": {
     "end_time": "2019-08-18T15:52:38.400940Z",
     "start_time": "2019-08-18T15:51:09.153808Z"
    }
   },
   "outputs": [
    {
     "data": {
      "text/html": [],
      "text/plain": [
       "<IPython.core.display.HTML object>"
      ]
     },
     "metadata": {},
     "output_type": "display_data"
    },
    {
     "name": "stdout",
     "output_type": "stream",
     "text": [
      "corr: 0.8925623969308832\n",
      "\n"
     ]
    },
    {
     "data": {
      "image/png": "[encoded data removed]",
      "text/plain": [
       "<Figure size 432x288 with 1 Axes>"
      ]
     },
     "metadata": {
      "needs_background": "light"
     },
     "output_type": "display_data"
    }
   ],
   "source": [
    "b = 0\n",
    "print(\"beta={}\".format(b))\n",
    "preds,y = learn.TTA(ds_type=DatasetType.Test, beta=b)\n",
    "tst_pred = optR.predict(preds, [0.5, 1.5, 2.5, 3.5])\n",
    "test_df.diagnosis = tst_pred.astype(int)\n",
    "test_df.hist()\n",
    "corr = old.diagnosis.corr(test_df.diagnosis)\n",
    "print(\"corr:\", corr)\n",
    "print()"
   ]
  },
  {
   "cell_type": "code",
   "execution_count": 57,
   "metadata": {
    "ExecuteTime": {
     "end_time": "2019-08-18T16:06:01.741381Z",
     "start_time": "2019-08-18T16:04:33.065771Z"
    }
   },
   "outputs": [
    {
     "data": {
      "text/html": [],
      "text/plain": [
       "<IPython.core.display.HTML object>"
      ]
     },
     "metadata": {},
     "output_type": "display_data"
    },
    {
     "name": "stdout",
     "output_type": "stream",
     "text": [
      "corr: 0.9039892248871868\n",
      "\n"
     ]
    },
    {
     "data": {
      "image/png": "[encoded data removed]",
      "text/plain": [
       "<Figure size 432x288 with 1 Axes>"
      ]
     },
     "metadata": {
      "needs_background": "light"
     },
     "output_type": "display_data"
    }
   ],
   "source": [
    "b = 0.1\n",
    "print(\"beta={}\".format(b))\n",
    "preds,y = learn.TTA(ds_type=DatasetType.Test, beta=b)\n",
    "tst_pred = optR.predict(preds, [0.5, 1.5, 2.5, 3.5])\n",
    "test_df.diagnosis = tst_pred.astype(int)\n",
    "test_df.hist()\n",
    "corr = old.diagnosis.corr(test_df.diagnosis)\n",
    "print(\"corr:\", corr)\n",
    "print()"
   ]
  },
  {
   "cell_type": "code",
   "execution_count": 58,
   "metadata": {
    "ExecuteTime": {
     "end_time": "2019-08-18T16:06:01.741381Z",
     "start_time": "2019-08-18T16:04:33.065771Z"
    }
   },
   "outputs": [
    {
     "data": {
      "text/html": [],
      "text/plain": [
       "<IPython.core.display.HTML object>"
      ]
     },
     "metadata": {},
     "output_type": "display_data"
    },
    {
     "name": "stdout",
     "output_type": "stream",
     "text": [
      "corr: 0.9139432039742491\n",
      "\n"
     ]
    },
    {
     "data": {
      "image/png": "[encoded data removed]",
      "text/plain": [
       "<Figure size 432x288 with 1 Axes>"
      ]
     },
     "metadata": {
      "needs_background": "light"
     },
     "output_type": "display_data"
    }
   ],
   "source": [
    "b = 0.2\n",
    "print(\"beta={}\".format(b))\n",
    "preds,y = learn.TTA(ds_type=DatasetType.Test, beta=b)\n",
    "tst_pred = optR.predict(preds, [0.5, 1.5, 2.5, 3.5])\n",
    "test_df.diagnosis = tst_pred.astype(int)\n",
    "test_df.hist()\n",
    "corr = old.diagnosis.corr(test_df.diagnosis)\n",
    "print(\"corr:\", corr)\n",
    "print()"
   ]
  },
  {
   "cell_type": "code",
   "execution_count": 59,
   "metadata": {
    "ExecuteTime": {
     "end_time": "2019-08-18T16:06:01.741381Z",
     "start_time": "2019-08-18T16:04:33.065771Z"
    }
   },
   "outputs": [
    {
     "data": {
      "text/html": [],
      "text/plain": [
       "<IPython.core.display.HTML object>"
      ]
     },
     "metadata": {},
     "output_type": "display_data"
    },
    {
     "name": "stdout",
     "output_type": "stream",
     "text": [
      "corr: 0.9252438182163805\n",
      "\n"
     ]
    },
    {
     "data": {
      "image/png": "[encoded data removed]",
      "text/plain": [
       "<Figure size 432x288 with 1 Axes>"
      ]
     },
     "metadata": {
      "needs_background": "light"
     },
     "output_type": "display_data"
    }
   ],
   "source": [
    "b = 0.3\n",
    "print(\"beta={}\".format(b))\n",
    "preds,y = learn.TTA(ds_type=DatasetType.Test, beta=b)\n",
    "tst_pred = optR.predict(preds, [0.5, 1.5, 2.5, 3.5])\n",
    "test_df.diagnosis = tst_pred.astype(int)\n",
    "test_df.hist()\n",
    "corr = old.diagnosis.corr(test_df.diagnosis)\n",
    "print(\"corr:\", corr)\n",
    "print()"
   ]
  },
  {
   "cell_type": "code",
   "execution_count": 60,
   "metadata": {
    "ExecuteTime": {
     "end_time": "2019-08-18T16:06:01.741381Z",
     "start_time": "2019-08-18T16:04:33.065771Z"
    }
   },
   "outputs": [
    {
     "data": {
      "text/html": [],
      "text/plain": [
       "<IPython.core.display.HTML object>"
      ]
     },
     "metadata": {},
     "output_type": "display_data"
    },
    {
     "name": "stdout",
     "output_type": "stream",
     "text": [
      "corr: 0.940404283063844\n",
      "\n"
     ]
    },
    {
     "data": {
      "image/png": "[encoded data removed]",
      "text/plain": [
       "<Figure size 432x288 with 1 Axes>"
      ]
     },
     "metadata": {
      "needs_background": "light"
     },
     "output_type": "display_data"
    }
   ],
   "source": [
    "b = 0.4\n",
    "print(\"beta={}\".format(b))\n",
    "preds,y = learn.TTA(ds_type=DatasetType.Test, beta=b)\n",
    "tst_pred = optR.predict(preds, [0.5, 1.5, 2.5, 3.5])\n",
    "test_df.diagnosis = tst_pred.astype(int)\n",
    "test_df.hist()\n",
    "corr = old.diagnosis.corr(test_df.diagnosis)\n",
    "print(\"corr:\", corr)\n",
    "print()"
   ]
  },
  {
   "cell_type": "code",
   "execution_count": 61,
   "metadata": {
    "ExecuteTime": {
     "end_time": "2019-08-18T16:06:01.741381Z",
     "start_time": "2019-08-18T16:04:33.065771Z"
    }
   },
   "outputs": [
    {
     "data": {
      "text/html": [],
      "text/plain": [
       "<IPython.core.display.HTML object>"
      ]
     },
     "metadata": {},
     "output_type": "display_data"
    },
    {
     "name": "stdout",
     "output_type": "stream",
     "text": [
      "corr: 0.9497116577083695\n",
      "\n"
     ]
    },
    {
     "data": {
      "image/png": "[encoded data removed]",
      "text/plain": [
       "<Figure size 432x288 with 1 Axes>"
      ]
     },
     "metadata": {
      "needs_background": "light"
     },
     "output_type": "display_data"
    }
   ],
   "source": [
    "b = 0.5\n",
    "print(\"beta={}\".format(b))\n",
    "preds,y = learn.TTA(ds_type=DatasetType.Test, beta=b)\n",
    "tst_pred = optR.predict(preds, [0.5, 1.5, 2.5, 3.5])\n",
    "test_df.diagnosis = tst_pred.astype(int)\n",
    "test_df.hist()\n",
    "corr = old.diagnosis.corr(test_df.diagnosis)\n",
    "print(\"corr:\", corr)\n",
    "print()"
   ]
  },
  {
   "cell_type": "code",
   "execution_count": 62,
   "metadata": {
    "ExecuteTime": {
     "end_time": "2019-08-18T16:06:01.741381Z",
     "start_time": "2019-08-18T16:04:33.065771Z"
    }
   },
   "outputs": [
    {
     "data": {
      "text/html": [],
      "text/plain": [
       "<IPython.core.display.HTML object>"
      ]
     },
     "metadata": {},
     "output_type": "display_data"
    },
    {
     "name": "stdout",
     "output_type": "stream",
     "text": [
      "corr: 0.9606016757508409\n",
      "\n"
     ]
    },
    {
     "data": {
      "image/png": "[encoded data removed]",
      "text/plain": [
       "<Figure size 432x288 with 1 Axes>"
      ]
     },
     "metadata": {
      "needs_background": "light"
     },
     "output_type": "display_data"
    }
   ],
   "source": [
    "b = 0.6\n",
    "print(\"beta={}\".format(b))\n",
    "preds,y = learn.TTA(ds_type=DatasetType.Test, beta=b)\n",
    "tst_pred = optR.predict(preds, [0.5, 1.5, 2.5, 3.5])\n",
    "test_df.diagnosis = tst_pred.astype(int)\n",
    "test_df.hist()\n",
    "corr = old.diagnosis.corr(test_df.diagnosis)\n",
    "print(\"corr:\", corr)\n",
    "print()"
   ]
  },
  {
   "cell_type": "code",
   "execution_count": 63,
   "metadata": {
    "ExecuteTime": {
     "end_time": "2019-08-18T16:06:01.741381Z",
     "start_time": "2019-08-18T16:04:33.065771Z"
    }
   },
   "outputs": [
    {
     "data": {
      "text/html": [],
      "text/plain": [
       "<IPython.core.display.HTML object>"
      ]
     },
     "metadata": {},
     "output_type": "display_data"
    },
    {
     "name": "stdout",
     "output_type": "stream",
     "text": [
      "corr: 0.9722169331075908\n",
      "\n"
     ]
    },
    {
     "data": {
      "image/png": "[encoded data removed]",
      "text/plain": [
       "<Figure size 432x288 with 1 Axes>"
      ]
     },
     "metadata": {
      "needs_background": "light"
     },
     "output_type": "display_data"
    }
   ],
   "source": [
    "b = 0.7\n",
    "print(\"beta={}\".format(b))\n",
    "preds,y = learn.TTA(ds_type=DatasetType.Test, beta=b)\n",
    "tst_pred = optR.predict(preds, [0.5, 1.5, 2.5, 3.5])\n",
    "test_df.diagnosis = tst_pred.astype(int)\n",
    "test_df.hist()\n",
    "corr = old.diagnosis.corr(test_df.diagnosis)\n",
    "print(\"corr:\", corr)\n",
    "print()"
   ]
  },
  {
   "cell_type": "code",
   "execution_count": 64,
   "metadata": {
    "ExecuteTime": {
     "end_time": "2019-08-18T16:06:01.741381Z",
     "start_time": "2019-08-18T16:04:33.065771Z"
    }
   },
   "outputs": [
    {
     "data": {
      "text/html": [],
      "text/plain": [
       "<IPython.core.display.HTML object>"
      ]
     },
     "metadata": {},
     "output_type": "display_data"
    },
    {
     "name": "stdout",
     "output_type": "stream",
     "text": [
      "corr: 0.9792790409424094\n",
      "\n"
     ]
    },
    {
     "data": {
      "image/png": "[encoded data removed]",
      "text/plain": [
       "<Figure size 432x288 with 1 Axes>"
      ]
     },
     "metadata": {
      "needs_background": "light"
     },
     "output_type": "display_data"
    }
   ],
   "source": [
    "b = 0.8\n",
    "print(\"beta={}\".format(b))\n",
    "preds,y = learn.TTA(ds_type=DatasetType.Test, beta=b)\n",
    "tst_pred = optR.predict(preds, [0.5, 1.5, 2.5, 3.5])\n",
    "test_df.diagnosis = tst_pred.astype(int)\n",
    "test_df.hist()\n",
    "corr = old.diagnosis.corr(test_df.diagnosis)\n",
    "print(\"corr:\", corr)\n",
    "print()"
   ]
  },
  {
   "cell_type": "code",
   "execution_count": 65,
   "metadata": {
    "ExecuteTime": {
     "end_time": "2019-08-18T16:06:01.741381Z",
     "start_time": "2019-08-18T16:04:33.065771Z"
    }
   },
   "outputs": [
    {
     "data": {
      "text/html": [],
      "text/plain": [
       "<IPython.core.display.HTML object>"
      ]
     },
     "metadata": {},
     "output_type": "display_data"
    },
    {
     "name": "stdout",
     "output_type": "stream",
     "text": [
      "corr: 0.9908830310783312\n",
      "\n"
     ]
    },
    {
     "data": {
      "image/png": "[encoded data removed]",
      "text/plain": [
       "<Figure size 432x288 with 1 Axes>"
      ]
     },
     "metadata": {
      "needs_background": "light"
     },
     "output_type": "display_data"
    }
   ],
   "source": [
    "b = 0.9\n",
    "print(\"beta={}\".format(b))\n",
    "preds,y = learn.TTA(ds_type=DatasetType.Test, beta=b)\n",
    "tst_pred = optR.predict(preds, [0.5, 1.5, 2.5, 3.5])\n",
    "test_df.diagnosis = tst_pred.astype(int)\n",
    "test_df.hist()\n",
    "corr = old.diagnosis.corr(test_df.diagnosis)\n",
    "print(\"corr:\", corr)\n",
    "print()"
   ]
  },
  {
   "cell_type": "code",
   "execution_count": 66,
   "metadata": {
    "ExecuteTime": {
     "end_time": "2019-08-18T16:06:01.772245Z",
     "start_time": "2019-08-18T16:06:01.743249Z"
    }
   },
   "outputs": [
    {
     "name": "stdout",
     "output_type": "stream",
     "text": [
      "efficientnet-b3_0809_03-58-56_stage2_submition.csv done\n"
     ]
    }
   ],
   "source": [
    "save_filename = '{}_submition.csv'.format(model_save_name)\n",
    "test_df.to_csv(save_filename,index=False)\n",
    "print (save_filename, 'done')"
   ]
  },
  {
   "cell_type": "code",
   "execution_count": 67,
   "metadata": {
    "ExecuteTime": {
     "end_time": "2019-08-18T16:06:01.798142Z",
     "start_time": "2019-08-18T16:06:01.773603Z"
    }
   },
   "outputs": [],
   "source": [
    "old = pd.read_csv(\"0.806.csv\")"
   ]
  },
  {
   "cell_type": "code",
   "execution_count": 68,
   "metadata": {
    "ExecuteTime": {
     "end_time": "2019-08-18T16:06:02.024501Z",
     "start_time": "2019-08-18T16:06:01.799413Z"
    }
   },
   "outputs": [
    {
     "data": {
      "text/plain": [
       "array([[<matplotlib.axes._subplots.AxesSubplot object at 0x7fbf021bc320>]], dtype=object)"
      ]
     },
     "execution_count": 68,
     "metadata": {},
     "output_type": "execute_result"
    },
    {
     "data": {
      "image/png": "[encoded data removed]",
      "text/plain": [
       "<Figure size 432x288 with 1 Axes>"
      ]
     },
     "metadata": {
      "needs_background": "light"
     },
     "output_type": "display_data"
    }
   ],
   "source": [
    "old.hist()"
   ]
  },
  {
   "cell_type": "code",
   "execution_count": 69,
   "metadata": {
    "ExecuteTime": {
     "end_time": "2019-08-18T16:06:02.051017Z",
     "start_time": "2019-08-18T16:06:02.026081Z"
    }
   },
   "outputs": [
    {
     "data": {
      "text/plain": [
       "2.0    1102\n",
       "0.0     349\n",
       "3.0     219\n",
       "1.0     202\n",
       "4.0      56\n",
       "Name: diagnosis, dtype: int64"
      ]
     },
     "execution_count": 69,
     "metadata": {},
     "output_type": "execute_result"
    }
   ],
   "source": [
    "old.diagnosis.value_counts()"
   ]
  },
  {
   "cell_type": "code",
   "execution_count": 70,
   "metadata": {
    "ExecuteTime": {
     "end_time": "2019-08-18T16:06:02.075638Z",
     "start_time": "2019-08-18T16:06:02.052442Z"
    }
   },
   "outputs": [
    {
     "data": {
      "text/plain": [
       "0.9908830310783312"
      ]
     },
     "execution_count": 70,
     "metadata": {},
     "output_type": "execute_result"
    }
   ],
   "source": [
    "old.diagnosis.corr(test_df.diagnosis)"
   ]
  },
  {
   "cell_type": "code",
   "execution_count": null,
   "metadata": {},
   "outputs": [],
   "source": []
  }
 ],
 "metadata": {
  "kernelspec": {
   "display_name": "Python [conda env:.conda-test]",
   "language": "python",
   "name": "conda-env-.conda-test-py"
  },
  "language_info": {
   "codemirror_mode": {
    "name": "ipython",
    "version": 3
   },
   "file_extension": ".py",
   "mimetype": "text/x-python",
   "name": "python",
   "nbconvert_exporter": "python",
   "pygments_lexer": "ipython3",
   "version": "3.6.8"
  },
  "toc": {
   "base_numbering": 1,
   "nav_menu": {},
   "number_sections": true,
   "sideBar": true,
   "skip_h1_title": false,
   "title_cell": "Table of Contents",
   "title_sidebar": "Contents",
   "toc_cell": false,
   "toc_position": {},
   "toc_section_display": true,
   "toc_window_display": true
  }
 },
 "nbformat": 4,
 "nbformat_minor": 2
}
