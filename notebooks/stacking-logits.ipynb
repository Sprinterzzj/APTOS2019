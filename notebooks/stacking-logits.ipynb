{
 "cells": [
  {
   "cell_type": "code",
   "execution_count": 1,
   "metadata": {
    "ExecuteTime": {
     "end_time": "2019-08-24T17:39:24.575658Z",
     "start_time": "2019-08-24T17:39:18.192359Z"
    }
   },
   "outputs": [],
   "source": [
    "import pandas as pd\n",
    "\n",
    "import os\n",
    "\n",
    "os.environ[\"CUDA_VISIBLE_DEVICES\"] = \"4\"\n",
    "\n",
    "import torch\n",
    "import numpy as np\n",
    "import pickle as pk\n",
    "\n",
    "from tqdm import tqdm_notebook\n",
    "from sklearn.metrics import cohen_kappa_score\n",
    "from fastai.vision import *\n",
    "from torch.nn import functional as F\n",
    "from utils import *"
   ]
  },
  {
   "cell_type": "code",
   "execution_count": 2,
   "metadata": {
    "ExecuteTime": {
     "end_time": "2019-08-24T17:39:24.580892Z",
     "start_time": "2019-08-24T17:39:24.577356Z"
    }
   },
   "outputs": [
    {
     "name": "stdout",
     "output_type": "stream",
     "text": [
      "0825_01-39-24\n"
     ]
    }
   ],
   "source": [
    "current_time = get_BJ_time()\n",
    "print(current_time)"
   ]
  },
  {
   "cell_type": "code",
   "execution_count": 3,
   "metadata": {
    "ExecuteTime": {
     "end_time": "2019-08-24T17:39:24.625807Z",
     "start_time": "2019-08-24T17:39:24.583220Z"
    }
   },
   "outputs": [],
   "source": [
    "import random\n",
    "\n",
    "def seed_everything(seed):\n",
    "    random.seed(seed)\n",
    "    os.environ['PYTHONHASHSEED'] = str(seed)\n",
    "    np.random.seed(seed)\n",
    "    torch.manual_seed(seed)\n",
    "    torch.cuda.manual_seed(seed)\n",
    "    torch.backends.cudnn.deterministic = True\n",
    "SEED = 2019\n",
    "seed_everything(SEED)\n",
    "\n",
    "deployment_dir = \"../output/inference\"\n",
    "\n",
    "def qk(y_pred, y):\n",
    "    k = torch.tensor(cohen_kappa_score(torch.round(y_pred), y, weights='quadratic'), device='cuda:0')\n",
    "    k[k != k] = 0\n",
    "    k[torch.isinf(k)] = 0\n",
    "    \n",
    "    return k\n",
    "\n",
    "df_2019_cv = pd.read_csv('../input/aptos-data-split/df_2019_cv.csv')"
   ]
  },
  {
   "cell_type": "code",
   "execution_count": 4,
   "metadata": {
    "ExecuteTime": {
     "end_time": "2019-08-24T17:39:24.667731Z",
     "start_time": "2019-08-24T17:39:24.632976Z"
    }
   },
   "outputs": [
    {
     "data": {
      "text/html": [
       "<div>\n",
       "<style scoped>\n",
       "    .dataframe tbody tr th:only-of-type {\n",
       "        vertical-align: middle;\n",
       "    }\n",
       "\n",
       "    .dataframe tbody tr th {\n",
       "        vertical-align: top;\n",
       "    }\n",
       "\n",
       "    .dataframe thead th {\n",
       "        text-align: right;\n",
       "    }\n",
       "</style>\n",
       "<table border=\"1\" class=\"dataframe\">\n",
       "  <thead>\n",
       "    <tr style=\"text-align: right;\">\n",
       "      <th></th>\n",
       "      <th>id_code</th>\n",
       "      <th>diagnosis</th>\n",
       "      <th>path</th>\n",
       "      <th>is_valid1</th>\n",
       "      <th>is_valid2</th>\n",
       "      <th>is_valid3</th>\n",
       "      <th>is_valid4</th>\n",
       "      <th>is_valid5</th>\n",
       "    </tr>\n",
       "  </thead>\n",
       "  <tbody>\n",
       "    <tr>\n",
       "      <th>0</th>\n",
       "      <td>000c1434d8d7</td>\n",
       "      <td>2</td>\n",
       "      <td>../input/aptos2019-blindness-detection/train_i...</td>\n",
       "      <td>True</td>\n",
       "      <td>False</td>\n",
       "      <td>False</td>\n",
       "      <td>False</td>\n",
       "      <td>False</td>\n",
       "    </tr>\n",
       "    <tr>\n",
       "      <th>1</th>\n",
       "      <td>001639a390f0</td>\n",
       "      <td>4</td>\n",
       "      <td>../input/aptos2019-blindness-detection/train_i...</td>\n",
       "      <td>True</td>\n",
       "      <td>False</td>\n",
       "      <td>False</td>\n",
       "      <td>False</td>\n",
       "      <td>False</td>\n",
       "    </tr>\n",
       "    <tr>\n",
       "      <th>2</th>\n",
       "      <td>0024cdab0c1e</td>\n",
       "      <td>1</td>\n",
       "      <td>../input/aptos2019-blindness-detection/train_i...</td>\n",
       "      <td>True</td>\n",
       "      <td>False</td>\n",
       "      <td>False</td>\n",
       "      <td>False</td>\n",
       "      <td>False</td>\n",
       "    </tr>\n",
       "    <tr>\n",
       "      <th>3</th>\n",
       "      <td>002c21358ce6</td>\n",
       "      <td>0</td>\n",
       "      <td>../input/aptos2019-blindness-detection/train_i...</td>\n",
       "      <td>True</td>\n",
       "      <td>False</td>\n",
       "      <td>False</td>\n",
       "      <td>False</td>\n",
       "      <td>False</td>\n",
       "    </tr>\n",
       "    <tr>\n",
       "      <th>4</th>\n",
       "      <td>005b95c28852</td>\n",
       "      <td>0</td>\n",
       "      <td>../input/aptos2019-blindness-detection/train_i...</td>\n",
       "      <td>True</td>\n",
       "      <td>False</td>\n",
       "      <td>False</td>\n",
       "      <td>False</td>\n",
       "      <td>False</td>\n",
       "    </tr>\n",
       "  </tbody>\n",
       "</table>\n",
       "</div>"
      ],
      "text/plain": [
       "        id_code  diagnosis                                               path  \\\n",
       "0  000c1434d8d7          2  ../input/aptos2019-blindness-detection/train_i...   \n",
       "1  001639a390f0          4  ../input/aptos2019-blindness-detection/train_i...   \n",
       "2  0024cdab0c1e          1  ../input/aptos2019-blindness-detection/train_i...   \n",
       "3  002c21358ce6          0  ../input/aptos2019-blindness-detection/train_i...   \n",
       "4  005b95c28852          0  ../input/aptos2019-blindness-detection/train_i...   \n",
       "\n",
       "   is_valid1  is_valid2  is_valid3  is_valid4  is_valid5  \n",
       "0       True      False      False      False      False  \n",
       "1       True      False      False      False      False  \n",
       "2       True      False      False      False      False  \n",
       "3       True      False      False      False      False  \n",
       "4       True      False      False      False      False  "
      ]
     },
     "execution_count": 4,
     "metadata": {},
     "output_type": "execute_result"
    }
   ],
   "source": [
    "df_2019_cv.head()"
   ]
  },
  {
   "cell_type": "code",
   "execution_count": 5,
   "metadata": {
    "ExecuteTime": {
     "end_time": "2019-08-24T17:39:24.676069Z",
     "start_time": "2019-08-24T17:39:24.669526Z"
    }
   },
   "outputs": [],
   "source": [
    "test_df = pd.read_csv('../input/aptos2019-blindness-detection/sample_submission.csv')"
   ]
  },
  {
   "cell_type": "markdown",
   "metadata": {},
   "source": [
    "# Feature Extraction"
   ]
  },
  {
   "cell_type": "markdown",
   "metadata": {
    "ExecuteTime": {
     "end_time": "2019-08-22T17:52:08.556127Z",
     "start_time": "2019-08-22T17:52:08.554197Z"
    }
   },
   "source": [
    "## Train logits"
   ]
  },
  {
   "cell_type": "markdown",
   "metadata": {},
   "source": [
    "### b3"
   ]
  },
  {
   "cell_type": "code",
   "execution_count": 8,
   "metadata": {
    "ExecuteTime": {
     "end_time": "2019-08-24T17:41:52.139570Z",
     "start_time": "2019-08-24T17:39:25.123662Z"
    }
   },
   "outputs": [
    {
     "name": "stdout",
     "output_type": "stream",
     "text": [
      "torch.Size([731, 1])\n"
     ]
    }
   ],
   "source": [
    "fold = 1\n",
    "val_df = df_2019_cv[df_2019_cv[\"is_valid{}\".format(fold)]]\n",
    "\n",
    "learn = load_learner(deployment_dir, \"efficientnet-b3_0819_22-37-22_stage2_f1.pkl\")\n",
    "\n",
    "learn.data.add_test(ImageList.from_df(val_df,\n",
    "                                      '../input/aptos2019-blindness-detection',\n",
    "                                      cols=\"id_code\",\n",
    "                                      folder='train_images_ben_preprocessing',\n",
    "                                      suffix='.png'))\n",
    "\n",
    "logits,_ = learn.get_preds(DatasetType.Test)\n",
    "\n",
    "np.save(\"../output/stacking/b3_f{}_logits.npy\".format(fold), logits)\n",
    "\n",
    "print(logits.shape)\n",
    "\n",
    "fold = 2\n",
    "val_df = df_2019_cv[df_2019_cv[\"is_valid{}\".format(fold)]]\n",
    "\n",
    "learn = load_learner(deployment_dir, \"efficientnet-b3_0819_22-37-22_stage2_f2.pkl\")\n",
    "\n",
    "learn.data.add_test(ImageList.from_df(val_df,\n",
    "                                      '../input/aptos2019-blindness-detection',\n",
    "                                      cols=\"id_code\",\n",
    "                                      folder='train_images_ben_preprocessing',\n",
    "                                      suffix='.png'))\n",
    "\n",
    "logits,_ = learn.get_preds(DatasetType.Test)\n",
    "\n",
    "np.save(\"../output/stacking/b3_f{}_logits.npy\".format(fold), logits)\n",
    "\n",
    "print(logits.shape)\n",
    "\n",
    "fold = 3\n",
    "val_df = df_2019_cv[df_2019_cv[\"is_valid{}\".format(fold)]]\n",
    "\n",
    "learn = load_learner(deployment_dir, \"efficientnet-b3_0819_22-37-22_stage2_f3.pkl\")\n",
    "\n",
    "learn.data.add_test(ImageList.from_df(val_df,\n",
    "                                      '../input/aptos2019-blindness-detection',\n",
    "                                      cols=\"id_code\",\n",
    "                                      folder='train_images_ben_preprocessing',\n",
    "                                      suffix='.png'))\n",
    "\n",
    "logits,_ = learn.get_preds(DatasetType.Test)\n",
    "\n",
    "np.save(\"../output/stacking/b3_f{}_logits.npy\".format(fold), logits)\n",
    "\n",
    "print(logits.shape)\n",
    "\n",
    "\n",
    "fold = 4\n",
    "val_df = df_2019_cv[df_2019_cv[\"is_valid{}\".format(fold)]]\n",
    "\n",
    "learn = load_learner(deployment_dir, \"efficientnet-b3_0819_22-37-22_stage2_f4.pkl\")\n",
    "\n",
    "learn.data.add_test(ImageList.from_df(val_df,\n",
    "                                      '../input/aptos2019-blindness-detection',\n",
    "                                      cols=\"id_code\",\n",
    "                                      folder='train_images_ben_preprocessing',\n",
    "                                      suffix='.png'))\n",
    "\n",
    "logits,_ = learn.get_preds(DatasetType.Test)\n",
    "\n",
    "np.save(\"../output/stacking/b3_f{}_logits.npy\".format(fold), logits)\n",
    "\n",
    "print(logits.shape)\n",
    "\n",
    "fold = 5\n",
    "val_df = df_2019_cv[df_2019_cv[\"is_valid{}\".format(fold)]]\n",
    "\n",
    "learn = load_learner(deployment_dir, \"efficientnet-b3_0820_05-48-25_stage2_f5.pkl\")\n",
    "\n",
    "learn.data.add_test(ImageList.from_df(val_df,\n",
    "                                      '../input/aptos2019-blindness-detection',\n",
    "                                      cols=\"id_code\",\n",
    "                                      folder='train_images_ben_preprocessing',\n",
    "                                      suffix='.png'))\n",
    "\n",
    "logits,_ = learn.get_preds(DatasetType.Test)\n",
    "\n",
    "np.save(\"../output/stacking/b3_f{}_logits.npy\".format(fold), logits)\n",
    "\n",
    "print(logits.shape)"
   ]
  },
  {
   "cell_type": "markdown",
   "metadata": {},
   "source": [
    "### b4"
   ]
  },
  {
   "cell_type": "code",
   "execution_count": 9,
   "metadata": {
    "ExecuteTime": {
     "end_time": "2019-08-24T19:53:53.962302Z",
     "start_time": "2019-08-24T19:53:29.918026Z"
    }
   },
   "outputs": [
    {
     "name": "stdout",
     "output_type": "stream",
     "text": [
      "torch.Size([731, 1])\n"
     ]
    }
   ],
   "source": [
    "fold = 1\n",
    "val_df = df_2019_cv[df_2019_cv[\"is_valid{}\".format(fold)]]\n",
    "\n",
    "learn = load_learner(deployment_dir, \"efficientnet-b4_0820_01-09-57_stage2_f1.pkl\")\n",
    "\n",
    "learn.data.add_test(ImageList.from_df(val_df,\n",
    "                                      '../input/aptos2019-blindness-detection',\n",
    "                                      cols=\"id_code\",\n",
    "                                      folder='train_images_ben_preprocessing_sigmaX10',\n",
    "                                      suffix='.png'))\n",
    "\n",
    "logits,_ = learn.get_preds(DatasetType.Test)\n",
    "\n",
    "np.save(\"../output/stacking/b4_f{}_logits.npy\".format(fold), logits)\n",
    "\n",
    "print(logits.shape)\n",
    "\n",
    "fold = 2\n",
    "val_df = df_2019_cv[df_2019_cv[\"is_valid{}\".format(fold)]]\n",
    "\n",
    "learn = load_learner(deployment_dir, \"efficientnet-b4_0820_01-09-57_stage2_f2.pkl\")\n",
    "\n",
    "learn.data.add_test(ImageList.from_df(val_df,\n",
    "                                      '../input/aptos2019-blindness-detection',\n",
    "                                      cols=\"id_code\",\n",
    "                                      folder='train_images_ben_preprocessing_sigmaX10',\n",
    "                                      suffix='.png'))\n",
    "\n",
    "logits,_ = learn.get_preds(DatasetType.Test)\n",
    "\n",
    "np.save(\"../output/stacking/b4_f{}_logits.npy\".format(fold), logits)\n",
    "\n",
    "print(logits.shape)\n",
    "\n",
    "\n",
    "fold = 3\n",
    "val_df = df_2019_cv[df_2019_cv[\"is_valid{}\".format(fold)]]\n",
    "\n",
    "learn = load_learner(deployment_dir, \"efficientnet-b4_0820_01-09-57_stage2_f3.pkl\")\n",
    "\n",
    "learn.data.add_test(ImageList.from_df(val_df,\n",
    "                                      '../input/aptos2019-blindness-detection',\n",
    "                                      cols=\"id_code\",\n",
    "                                      folder='train_images_ben_preprocessing_sigmaX10',\n",
    "                                      suffix='.png'))\n",
    "\n",
    "logits,_ = learn.get_preds(DatasetType.Test)\n",
    "\n",
    "np.save(\"../output/stacking/b4_f{}_logits.npy\".format(fold), logits)\n",
    "\n",
    "print(logits.shape)\n",
    "\n",
    "\n",
    "fold = 4\n",
    "val_df = df_2019_cv[df_2019_cv[\"is_valid{}\".format(fold)]]\n",
    "\n",
    "learn = load_learner(deployment_dir, \"efficientnet-b4_0820_01-09-57_stage2_f4.pkl\")\n",
    "\n",
    "learn.data.add_test(ImageList.from_df(val_df,\n",
    "                                      '../input/aptos2019-blindness-detection',\n",
    "                                      cols=\"id_code\",\n",
    "                                      folder='train_images_ben_preprocessing_sigmaX10',\n",
    "                                      suffix='.png'))\n",
    "\n",
    "logits,_ = learn.get_preds(DatasetType.Test)\n",
    "\n",
    "np.save(\"../output/stacking/b4_f{}_logits.npy\".format(fold), logits)\n",
    "\n",
    "print(logits.shape)\n",
    "\n",
    "\n",
    "fold = 5\n",
    "val_df = df_2019_cv[df_2019_cv[\"is_valid{}\".format(fold)]]\n",
    "\n",
    "learn = load_learner(deployment_dir, \"efficientnet-b4_0821_00-02-25_stage2_f5.pkl\")\n",
    "\n",
    "learn.data.add_test(ImageList.from_df(val_df,\n",
    "                                      '../input/aptos2019-blindness-detection',\n",
    "                                      cols=\"id_code\",\n",
    "                                      folder='train_images_ben_preprocessing_sigmaX10',\n",
    "                                      suffix='.png'))\n",
    "\n",
    "logits,_ = learn.get_preds(DatasetType.Test)\n",
    "\n",
    "np.save(\"../output/stacking/b4_f{}_logits.npy\".format(fold), logits)\n",
    "\n",
    "print(logits.shape)"
   ]
  },
  {
   "cell_type": "markdown",
   "metadata": {},
   "source": [
    "### b5"
   ]
  },
  {
   "cell_type": "code",
   "execution_count": 10,
   "metadata": {
    "ExecuteTime": {
     "end_time": "2019-08-24T19:54:55.023192Z",
     "start_time": "2019-08-24T19:54:24.088137Z"
    }
   },
   "outputs": [
    {
     "name": "stdout",
     "output_type": "stream",
     "text": [
      "torch.Size([731, 1])\n"
     ]
    }
   ],
   "source": [
    "fold = 1\n",
    "val_df = df_2019_cv[df_2019_cv[\"is_valid{}\".format(fold)]]\n",
    "\n",
    "learn = load_learner(deployment_dir, \"efficientnet-b5_0820_01-32-30_stage2_f1.pkl\")\n",
    "\n",
    "learn.data.add_test(ImageList.from_df(val_df,\n",
    "                                      '../input/aptos2019-blindness-detection',\n",
    "                                      cols=\"id_code\",\n",
    "                                      folder='train_images_ben_preprocessing_sigmaX10',\n",
    "                                      suffix='.png'))\n",
    "\n",
    "logits,_ = learn.get_preds(DatasetType.Test)\n",
    "\n",
    "np.save(\"../output/stacking/b5_f{}_logits.npy\".format(fold), logits)\n",
    "\n",
    "print(logits.shape)\n",
    "\n",
    "\n",
    "fold = 2\n",
    "val_df = df_2019_cv[df_2019_cv[\"is_valid{}\".format(fold)]]\n",
    "\n",
    "learn = load_learner(deployment_dir, \"efficientnet-b5_0820_22-13-07_stage2_f2.pkl\")\n",
    "\n",
    "learn.data.add_test(ImageList.from_df(val_df,\n",
    "                                      '../input/aptos2019-blindness-detection',\n",
    "                                      cols=\"id_code\",\n",
    "                                      folder='train_images_ben_preprocessing_sigmaX10',\n",
    "                                      suffix='.png'))\n",
    "\n",
    "logits,_ = learn.get_preds(DatasetType.Test)\n",
    "\n",
    "np.save(\"../output/stacking/b5_f{}_logits.npy\".format(fold), logits)\n",
    "\n",
    "print(logits.shape)\n",
    "\n",
    "fold = 3\n",
    "val_df = df_2019_cv[df_2019_cv[\"is_valid{}\".format(fold)]]\n",
    "\n",
    "learn = load_learner(deployment_dir, \"efficientnet-b5_0820_22-13-07_stage2_f3.pkl\")\n",
    "\n",
    "learn.data.add_test(ImageList.from_df(val_df,\n",
    "                                      '../input/aptos2019-blindness-detection',\n",
    "                                      cols=\"id_code\",\n",
    "                                      folder='train_images_ben_preprocessing_sigmaX10',\n",
    "                                      suffix='.png'))\n",
    "\n",
    "logits,_ = learn.get_preds(DatasetType.Test)\n",
    "\n",
    "np.save(\"../output/stacking/b5_f{}_logits.npy\".format(fold), logits)\n",
    "\n",
    "print(logits.shape)\n",
    "\n",
    "fold = 4\n",
    "val_df = df_2019_cv[df_2019_cv[\"is_valid{}\".format(fold)]]\n",
    "\n",
    "learn = load_learner(deployment_dir, \"efficientnet-b5_0821_01-30-37_stage2_f4.pkl\")\n",
    "\n",
    "learn.data.add_test(ImageList.from_df(val_df,\n",
    "                                      '../input/aptos2019-blindness-detection',\n",
    "                                      cols=\"id_code\",\n",
    "                                      folder='train_images_ben_preprocessing_sigmaX10',\n",
    "                                      suffix='.png'))\n",
    "\n",
    "logits,_ = learn.get_preds(DatasetType.Test)\n",
    "\n",
    "np.save(\"../output/stacking/b5_f{}_logits.npy\".format(fold), logits)\n",
    "\n",
    "print(logits.shape)\n",
    "\n",
    "fold = 5\n",
    "val_df = df_2019_cv[df_2019_cv[\"is_valid{}\".format(fold)]]\n",
    "\n",
    "learn = load_learner(deployment_dir, \"efficientnet-b5_0821_00-26-51_stage2_f5.pkl\")\n",
    "\n",
    "learn.data.add_test(ImageList.from_df(val_df,\n",
    "                                      '../input/aptos2019-blindness-detection',\n",
    "                                      cols=\"id_code\",\n",
    "                                      folder='train_images_ben_preprocessing_sigmaX10',\n",
    "                                      suffix='.png'))\n",
    "\n",
    "logits,_ = learn.get_preds(DatasetType.Test)\n",
    "\n",
    "np.save(\"../output/stacking/b5_f{}_logits.npy\".format(fold), logits)\n",
    "\n",
    "print(logits.shape)"
   ]
  },
  {
   "cell_type": "markdown",
   "metadata": {},
   "source": [
    "## Test Feature"
   ]
  },
  {
   "cell_type": "markdown",
   "metadata": {
    "ExecuteTime": {
     "end_time": "2019-08-23T11:08:00.430735Z",
     "start_time": "2019-08-23T11:08:00.427585Z"
    }
   },
   "source": [
    "### Average"
   ]
  },
  {
   "cell_type": "markdown",
   "metadata": {
    "ExecuteTime": {
     "end_time": "2019-08-22T20:31:22.015853Z",
     "start_time": "2019-08-22T20:31:22.013172Z"
    }
   },
   "source": [
    "#### b3"
   ]
  },
  {
   "cell_type": "code",
   "execution_count": 33,
   "metadata": {
    "ExecuteTime": {
     "end_time": "2019-08-24T20:04:28.891247Z",
     "start_time": "2019-08-24T20:03:59.760323Z"
    }
   },
   "outputs": [
    {
     "name": "stdout",
     "output_type": "stream",
     "text": [
      "\n"
     ]
    }
   ],
   "source": [
    "b3_models = [\"efficientnet-b3_0819_22-37-22_stage2_f1\", \"efficientnet-b3_0819_22-37-22_stage2_f2\", \n",
    "             \"efficientnet-b3_0819_22-37-22_stage2_f3\", \"efficientnet-b3_0819_22-37-22_stage2_f4\",\n",
    "            \"efficientnet-b3_0820_05-48-25_stage2_f5\"]\n",
    "\n",
    "b3_test_logits_list = []\n",
    "for m in tqdm_notebook(b3_models):\n",
    "    learn = load_learner(deployment_dir, \"{}.pkl\".format(m))\n",
    "\n",
    "    learn.data.add_test(ImageList.from_df(test_df,\n",
    "                                      '../input/aptos2019-blindness-detection',\n",
    "                                      folder='test_images_ben_preprocessing',\n",
    "                                      suffix='.png'))\n",
    "\n",
    "    logits,_ = learn.get_preds(DatasetType.Test)\n",
    "    b3_test_logits_list.append(logits.numpy())\n",
    "    \n",
    "# np.save(\"../output/stacking/b3_test_feats.npy\", b3_test_feats)\n",
    "# print(b3_test_feats.shape)"
   ]
  },
  {
   "cell_type": "markdown",
   "metadata": {},
   "source": [
    "#### b4"
   ]
  },
  {
   "cell_type": "code",
   "execution_count": 34,
   "metadata": {
    "ExecuteTime": {
     "end_time": "2019-08-24T20:05:02.522814Z",
     "start_time": "2019-08-24T20:04:28.895339Z"
    }
   },
   "outputs": [
    {
     "name": "stdout",
     "output_type": "stream",
     "text": [
      "\n"
     ]
    }
   ],
   "source": [
    "b4_models = [\"efficientnet-b4_0820_01-09-57_stage2_f1\", \"efficientnet-b4_0820_01-09-57_stage2_f2\", \n",
    "             \"efficientnet-b4_0820_01-09-57_stage2_f3\", \"efficientnet-b4_0820_01-09-57_stage2_f4\",\n",
    "            \"efficientnet-b4_0821_00-02-25_stage2_f5\"]\n",
    "\n",
    "b4_test_logits_list = []\n",
    "for m in tqdm_notebook(b4_models):\n",
    "    learn = load_learner(deployment_dir, \"{}.pkl\".format(m))\n",
    "\n",
    "    learn.data.add_test(ImageList.from_df(test_df,\n",
    "                                      '../input/aptos2019-blindness-detection',\n",
    "                                      folder='test_images_ben_preprocessing_sigmaX10',\n",
    "                                      suffix='.png'))\n",
    "\n",
    "    logits,_ = learn.get_preds(DatasetType.Test)\n",
    "    b4_test_logits_list.append(logits.numpy())\n",
    "    \n",
    "# np.save(\"../output/stacking/b4_test_feats.npy\", b4_test_feats)\n",
    "\n",
    "# print(b4_test_feats.shape)"
   ]
  },
  {
   "cell_type": "markdown",
   "metadata": {},
   "source": [
    "#### b5"
   ]
  },
  {
   "cell_type": "code",
   "execution_count": 35,
   "metadata": {
    "ExecuteTime": {
     "end_time": "2019-08-24T20:05:44.072426Z",
     "start_time": "2019-08-24T20:05:02.526565Z"
    }
   },
   "outputs": [
    {
     "name": "stdout",
     "output_type": "stream",
     "text": [
      "\n"
     ]
    }
   ],
   "source": [
    "b5_models = [\"efficientnet-b5_0820_01-32-30_stage2_f1\", \"efficientnet-b5_0820_22-13-07_stage2_f2\", \n",
    "             \"efficientnet-b5_0820_22-13-07_stage2_f3\", \"efficientnet-b5_0821_01-30-37_stage2_f4\",\n",
    "            \"efficientnet-b5_0821_00-26-51_stage2_f5\"]\n",
    "\n",
    "b5_test_logits_list = []\n",
    "for m in tqdm_notebook(b5_models):\n",
    "    learn = load_learner(deployment_dir, \"{}.pkl\".format(m))\n",
    "\n",
    "    learn.data.add_test(ImageList.from_df(test_df,\n",
    "                                      '../input/aptos2019-blindness-detection',\n",
    "                                      folder='test_images_ben_preprocessing_sigmaX10',\n",
    "                                      suffix='.png'))\n",
    "    logits,_ = learn.get_preds(DatasetType.Test)\n",
    "    b5_test_logits_list.append(logits.numpy())\n",
    "    \n",
    "# np.save(\"../output/stacking/b5_test_feats.npy\", b5_test_feats)\n",
    "\n",
    "# print(b5_test_feats.shape)"
   ]
  },
  {
   "cell_type": "markdown",
   "metadata": {},
   "source": [
    "### Retrain"
   ]
  },
  {
   "cell_type": "markdown",
   "metadata": {
    "ExecuteTime": {
     "end_time": "2019-08-23T11:09:06.212380Z",
     "start_time": "2019-08-23T11:09:06.208703Z"
    }
   },
   "source": [
    "#### b3"
   ]
  },
  {
   "cell_type": "code",
   "execution_count": 37,
   "metadata": {
    "ExecuteTime": {
     "end_time": "2019-08-24T20:08:59.916220Z",
     "start_time": "2019-08-24T20:08:54.115931Z"
    }
   },
   "outputs": [],
   "source": [
    "learn = load_learner(deployment_dir, \"efficientnet-b3_0823_05-02-32_stage2_whole.pkl\")\n",
    "\n",
    "learn.data.add_test(ImageList.from_df(test_df,\n",
    "                                  '../input/aptos2019-blindness-detection',\n",
    "                                  folder='test_images_ben_preprocessing',\n",
    "                                  suffix='.png'))\n",
    "\n",
    "logits,_ = learn.get_preds(DatasetType.Test)\n",
    "b3_test_logits = logits.numpy()\n",
    "            \n",
    "# feats_arr = np.concatenate(feats_list, axis=0)\n",
    "# #     b3_test_feats.append(feats_arr)\n",
    "    \n",
    "# # b3_test_feats = np.average(b3_test_feats, axis=0)\n",
    "# np.save(\"../output/stacking/b3_retrain_test_feats.npy\", b3_test_feats)\n",
    "# b3_test_feats = feats_arr\n",
    "# print(b3_test_feats.shape)"
   ]
  },
  {
   "cell_type": "markdown",
   "metadata": {
    "ExecuteTime": {
     "end_time": "2019-08-23T11:09:06.212380Z",
     "start_time": "2019-08-23T11:09:06.208703Z"
    }
   },
   "source": [
    "#### b4"
   ]
  },
  {
   "cell_type": "code",
   "execution_count": 38,
   "metadata": {
    "ExecuteTime": {
     "end_time": "2019-08-24T20:09:16.464750Z",
     "start_time": "2019-08-24T20:09:09.624949Z"
    }
   },
   "outputs": [],
   "source": [
    "b4_test_feats = []\n",
    "learn = load_learner(deployment_dir, \"efficientnet-b4_0823_18-14-19_stage2_whole.pkl\")\n",
    "\n",
    "learn.data.add_test(ImageList.from_df(test_df,\n",
    "                                  '../input/aptos2019-blindness-detection',\n",
    "                                  folder='test_images_ben_preprocessing_sigmaX10',\n",
    "                                  suffix='.png'))\n",
    "\n",
    "logits,_ = learn.get_preds(DatasetType.Test)\n",
    "b4_test_logits = logits.numpy()"
   ]
  },
  {
   "cell_type": "markdown",
   "metadata": {
    "ExecuteTime": {
     "end_time": "2019-08-23T11:09:06.212380Z",
     "start_time": "2019-08-23T11:09:06.208703Z"
    }
   },
   "source": [
    "#### b5"
   ]
  },
  {
   "cell_type": "code",
   "execution_count": 39,
   "metadata": {
    "ExecuteTime": {
     "end_time": "2019-08-24T20:09:29.467150Z",
     "start_time": "2019-08-24T20:09:21.075017Z"
    }
   },
   "outputs": [],
   "source": [
    "b5_test_feats = []\n",
    "learn = load_learner(deployment_dir, \"efficientnet-b5_0823_18-21-16_stage2_whole.pkl\")\n",
    "\n",
    "learn.data.add_test(ImageList.from_df(test_df,\n",
    "                                  '../input/aptos2019-blindness-detection',\n",
    "                                  folder='test_images_ben_preprocessing_sigmaX10',\n",
    "                                  suffix='.png'))\n",
    "\n",
    "logits,_ = learn.get_preds(DatasetType.Test)\n",
    "b5_test_logits = logits.numpy()"
   ]
  },
  {
   "cell_type": "markdown",
   "metadata": {
    "ExecuteTime": {
     "end_time": "2019-08-22T14:03:21.632429Z",
     "start_time": "2019-08-22T14:03:21.627914Z"
    }
   },
   "source": [
    "# Train Stage 2 model on OOF"
   ]
  },
  {
   "cell_type": "code",
   "execution_count": 11,
   "metadata": {
    "ExecuteTime": {
     "end_time": "2019-08-24T19:54:55.045841Z",
     "start_time": "2019-08-24T19:54:55.027126Z"
    }
   },
   "outputs": [],
   "source": [
    "import lightgbm as lgb\n",
    "\n",
    "from sklearn.model_selection import GridSearchCV\n",
    "from sklearn.metrics import make_scorer"
   ]
  },
  {
   "cell_type": "code",
   "execution_count": 12,
   "metadata": {
    "ExecuteTime": {
     "end_time": "2019-08-24T19:54:55.050680Z",
     "start_time": "2019-08-24T19:54:55.047580Z"
    }
   },
   "outputs": [],
   "source": [
    "def qk_np(y, y_pred):\n",
    "    k = cohen_kappa_score(np.round(y_pred), y, weights='quadratic')\n",
    "    \n",
    "    return k\n",
    "\n",
    "score = make_scorer(qk_np, greater_is_better=True)"
   ]
  },
  {
   "cell_type": "code",
   "execution_count": 13,
   "metadata": {
    "ExecuteTime": {
     "end_time": "2019-08-24T19:55:12.754766Z",
     "start_time": "2019-08-24T19:55:12.726976Z"
    }
   },
   "outputs": [
    {
     "name": "stdout",
     "output_type": "stream",
     "text": [
      "(3662, 3)\n"
     ]
    }
   ],
   "source": [
    "stacking_dir = \"../output/stacking\"\n",
    "X_train = []\n",
    "y_train = []\n",
    "n_fold = 5\n",
    "\n",
    "for i in range(1, n_fold+1):\n",
    "    data_t = []\n",
    "    for j in ['b3_f{}_logits.npy', 'b4_f{}_logits.npy', 'b5_f{}_logits.npy']:\n",
    "#     for j in ['b4_f{}_feats.npy', 'b5_f{}_feats.npy']:\n",
    "        data_t.append(np.load(os.path.join(stacking_dir, j.format(i))))\n",
    "    data_t = np.concatenate(data_t, axis=1)\n",
    "    X_train.append(data_t)\n",
    "    \n",
    "    label_t = df_2019_cv[df_2019_cv[\"is_valid{}\".format(i)]][\"diagnosis\"].tolist()\n",
    "    y_train += label_t\n",
    "    \n",
    "X_train = np.concatenate(X_train, axis=0)\n",
    "print(X_train.shape)"
   ]
  },
  {
   "cell_type": "markdown",
   "metadata": {},
   "source": [
    "## LightGBM "
   ]
  },
  {
   "cell_type": "code",
   "execution_count": 43,
   "metadata": {
    "ExecuteTime": {
     "end_time": "2019-08-24T20:34:12.738592Z",
     "start_time": "2019-08-24T20:17:48.989874Z"
    }
   },
   "outputs": [
    {
     "name": "stdout",
     "output_type": "stream",
     "text": [
      "Fitting 5 folds for each of 200 candidates, totalling 1000 fits\n"
     ]
    },
    {
     "name": "stderr",
     "output_type": "stream",
     "text": [
      "[Parallel(n_jobs=16)]: Using backend LokyBackend with 16 concurrent workers.\n",
      "[Parallel(n_jobs=16)]: Done  18 tasks      | elapsed:   29.5s\n",
      "[Parallel(n_jobs=16)]: Done 168 tasks      | elapsed:  3.0min\n",
      "[Parallel(n_jobs=16)]: Done 418 tasks      | elapsed:  7.0min\n",
      "[Parallel(n_jobs=16)]: Done 768 tasks      | elapsed: 12.6min\n"
     ]
    },
    {
     "name": "stdout",
     "output_type": "stream",
     "text": [
      "Best parameters found by grid search are: {'colsample_bytree': 0.6, 'learning_rate': 0.05, 'max_depth': 3}\n"
     ]
    },
    {
     "name": "stderr",
     "output_type": "stream",
     "text": [
      "[Parallel(n_jobs=16)]: Done 1000 out of 1000 | elapsed: 16.4min finished\n"
     ]
    }
   ],
   "source": [
    "estimator = lgb.LGBMRegressor(n_jobs=8, random_state=SEED)\n",
    "\n",
    "param_grid = {\n",
    "    'max_depth': [3, 5, 7, 9, 12, 15, 17, 25],   \n",
    "#     'max_depth': [20],\n",
    "    'learning_rate': [0.01, 0.02, 0.05, 0.1, 0.15],    \n",
    "#     'learning_rate': [0.1],\n",
    "    'colsample_bytree': [0.6, 0.7, 0.8, 0.9, 1]\n",
    "}\n",
    "\n",
    "gbm = GridSearchCV(estimator, param_grid, cv=5, n_jobs=16, scoring=score, verbose=1)\n",
    "# gbm.fit(X_train_normalized, y_train)\n",
    "gbm.fit(X_train, y_train)\n",
    "\n",
    "print('Best parameters found by grid search are:', gbm.best_params_)"
   ]
  },
  {
   "cell_type": "code",
   "execution_count": 44,
   "metadata": {
    "ExecuteTime": {
     "end_time": "2019-08-24T20:34:12.791701Z",
     "start_time": "2019-08-24T20:34:12.746075Z"
    }
   },
   "outputs": [
    {
     "data": {
      "text/plain": [
       "{'mean_fit_time': array([ 4.849414, 18.154822, 17.912222, 42.529978, ..., 14.327356, 14.003707,  5.92747 ,  5.28735 ]),\n",
       " 'std_fit_time': array([ 4.456552,  9.94717 , 10.821613, 21.439846, ...,  6.320781,  4.808215,  3.73904 ,  2.031554]),\n",
       " 'mean_score_time': array([0.050642, 0.041756, 0.032115, 0.027708, ..., 0.032546, 0.014318, 0.002743, 0.00288 ]),\n",
       " 'std_score_time': array([0.042909, 0.032313, 0.02562 , 0.021922, ..., 0.032734, 0.017667, 0.000171, 0.000296]),\n",
       " 'param_colsample_bytree': masked_array(data=[0.6, 0.6, 0.6, 0.6, ..., 1, 1, 1, 1],\n",
       "              mask=[False, False, False, False, ..., False, False, False, False],\n",
       "        fill_value='?',\n",
       "             dtype=object),\n",
       " 'param_learning_rate': masked_array(data=[0.01, 0.01, 0.01, 0.01, ..., 0.15, 0.15, 0.15, 0.15],\n",
       "              mask=[False, False, False, False, ..., False, False, False, False],\n",
       "        fill_value='?',\n",
       "             dtype=object),\n",
       " 'param_max_depth': masked_array(data=[3, 5, 7, 9, ..., 12, 15, 17, 25],\n",
       "              mask=[False, False, False, False, ..., False, False, False, False],\n",
       "        fill_value='?',\n",
       "             dtype=object),\n",
       " 'params': [{'colsample_bytree': 0.6, 'learning_rate': 0.01, 'max_depth': 3},\n",
       "  {'colsample_bytree': 0.6, 'learning_rate': 0.01, 'max_depth': 5},\n",
       "  {'colsample_bytree': 0.6, 'learning_rate': 0.01, 'max_depth': 7},\n",
       "  {'colsample_bytree': 0.6, 'learning_rate': 0.01, 'max_depth': 9},\n",
       "  {'colsample_bytree': 0.6, 'learning_rate': 0.01, 'max_depth': 12},\n",
       "  {'colsample_bytree': 0.6, 'learning_rate': 0.01, 'max_depth': 15},\n",
       "  {'colsample_bytree': 0.6, 'learning_rate': 0.01, 'max_depth': 17},\n",
       "  {'colsample_bytree': 0.6, 'learning_rate': 0.01, 'max_depth': 25},\n",
       "  {'colsample_bytree': 0.6, 'learning_rate': 0.02, 'max_depth': 3},\n",
       "  {'colsample_bytree': 0.6, 'learning_rate': 0.02, 'max_depth': 5},\n",
       "  {'colsample_bytree': 0.6, 'learning_rate': 0.02, 'max_depth': 7},\n",
       "  {'colsample_bytree': 0.6, 'learning_rate': 0.02, 'max_depth': 9},\n",
       "  {'colsample_bytree': 0.6, 'learning_rate': 0.02, 'max_depth': 12},\n",
       "  {'colsample_bytree': 0.6, 'learning_rate': 0.02, 'max_depth': 15},\n",
       "  {'colsample_bytree': 0.6, 'learning_rate': 0.02, 'max_depth': 17},\n",
       "  {'colsample_bytree': 0.6, 'learning_rate': 0.02, 'max_depth': 25},\n",
       "  {'colsample_bytree': 0.6, 'learning_rate': 0.05, 'max_depth': 3},\n",
       "  {'colsample_bytree': 0.6, 'learning_rate': 0.05, 'max_depth': 5},\n",
       "  {'colsample_bytree': 0.6, 'learning_rate': 0.05, 'max_depth': 7},\n",
       "  {'colsample_bytree': 0.6, 'learning_rate': 0.05, 'max_depth': 9},\n",
       "  {'colsample_bytree': 0.6, 'learning_rate': 0.05, 'max_depth': 12},\n",
       "  {'colsample_bytree': 0.6, 'learning_rate': 0.05, 'max_depth': 15},\n",
       "  {'colsample_bytree': 0.6, 'learning_rate': 0.05, 'max_depth': 17},\n",
       "  {'colsample_bytree': 0.6, 'learning_rate': 0.05, 'max_depth': 25},\n",
       "  {'colsample_bytree': 0.6, 'learning_rate': 0.1, 'max_depth': 3},\n",
       "  {'colsample_bytree': 0.6, 'learning_rate': 0.1, 'max_depth': 5},\n",
       "  {'colsample_bytree': 0.6, 'learning_rate': 0.1, 'max_depth': 7},\n",
       "  {'colsample_bytree': 0.6, 'learning_rate': 0.1, 'max_depth': 9},\n",
       "  {'colsample_bytree': 0.6, 'learning_rate': 0.1, 'max_depth': 12},\n",
       "  {'colsample_bytree': 0.6, 'learning_rate': 0.1, 'max_depth': 15},\n",
       "  {'colsample_bytree': 0.6, 'learning_rate': 0.1, 'max_depth': 17},\n",
       "  {'colsample_bytree': 0.6, 'learning_rate': 0.1, 'max_depth': 25},\n",
       "  {'colsample_bytree': 0.6, 'learning_rate': 0.15, 'max_depth': 3},\n",
       "  {'colsample_bytree': 0.6, 'learning_rate': 0.15, 'max_depth': 5},\n",
       "  {'colsample_bytree': 0.6, 'learning_rate': 0.15, 'max_depth': 7},\n",
       "  {'colsample_bytree': 0.6, 'learning_rate': 0.15, 'max_depth': 9},\n",
       "  {'colsample_bytree': 0.6, 'learning_rate': 0.15, 'max_depth': 12},\n",
       "  {'colsample_bytree': 0.6, 'learning_rate': 0.15, 'max_depth': 15},\n",
       "  {'colsample_bytree': 0.6, 'learning_rate': 0.15, 'max_depth': 17},\n",
       "  {'colsample_bytree': 0.6, 'learning_rate': 0.15, 'max_depth': 25},\n",
       "  {'colsample_bytree': 0.7, 'learning_rate': 0.01, 'max_depth': 3},\n",
       "  {'colsample_bytree': 0.7, 'learning_rate': 0.01, 'max_depth': 5},\n",
       "  {'colsample_bytree': 0.7, 'learning_rate': 0.01, 'max_depth': 7},\n",
       "  {'colsample_bytree': 0.7, 'learning_rate': 0.01, 'max_depth': 9},\n",
       "  {'colsample_bytree': 0.7, 'learning_rate': 0.01, 'max_depth': 12},\n",
       "  {'colsample_bytree': 0.7, 'learning_rate': 0.01, 'max_depth': 15},\n",
       "  {'colsample_bytree': 0.7, 'learning_rate': 0.01, 'max_depth': 17},\n",
       "  {'colsample_bytree': 0.7, 'learning_rate': 0.01, 'max_depth': 25},\n",
       "  {'colsample_bytree': 0.7, 'learning_rate': 0.02, 'max_depth': 3},\n",
       "  {'colsample_bytree': 0.7, 'learning_rate': 0.02, 'max_depth': 5},\n",
       "  {'colsample_bytree': 0.7, 'learning_rate': 0.02, 'max_depth': 7},\n",
       "  {'colsample_bytree': 0.7, 'learning_rate': 0.02, 'max_depth': 9},\n",
       "  {'colsample_bytree': 0.7, 'learning_rate': 0.02, 'max_depth': 12},\n",
       "  {'colsample_bytree': 0.7, 'learning_rate': 0.02, 'max_depth': 15},\n",
       "  {'colsample_bytree': 0.7, 'learning_rate': 0.02, 'max_depth': 17},\n",
       "  {'colsample_bytree': 0.7, 'learning_rate': 0.02, 'max_depth': 25},\n",
       "  {'colsample_bytree': 0.7, 'learning_rate': 0.05, 'max_depth': 3},\n",
       "  {'colsample_bytree': 0.7, 'learning_rate': 0.05, 'max_depth': 5},\n",
       "  {'colsample_bytree': 0.7, 'learning_rate': 0.05, 'max_depth': 7},\n",
       "  {'colsample_bytree': 0.7, 'learning_rate': 0.05, 'max_depth': 9},\n",
       "  {'colsample_bytree': 0.7, 'learning_rate': 0.05, 'max_depth': 12},\n",
       "  {'colsample_bytree': 0.7, 'learning_rate': 0.05, 'max_depth': 15},\n",
       "  {'colsample_bytree': 0.7, 'learning_rate': 0.05, 'max_depth': 17},\n",
       "  {'colsample_bytree': 0.7, 'learning_rate': 0.05, 'max_depth': 25},\n",
       "  {'colsample_bytree': 0.7, 'learning_rate': 0.1, 'max_depth': 3},\n",
       "  {'colsample_bytree': 0.7, 'learning_rate': 0.1, 'max_depth': 5},\n",
       "  {'colsample_bytree': 0.7, 'learning_rate': 0.1, 'max_depth': 7},\n",
       "  {'colsample_bytree': 0.7, 'learning_rate': 0.1, 'max_depth': 9},\n",
       "  {'colsample_bytree': 0.7, 'learning_rate': 0.1, 'max_depth': 12},\n",
       "  {'colsample_bytree': 0.7, 'learning_rate': 0.1, 'max_depth': 15},\n",
       "  {'colsample_bytree': 0.7, 'learning_rate': 0.1, 'max_depth': 17},\n",
       "  {'colsample_bytree': 0.7, 'learning_rate': 0.1, 'max_depth': 25},\n",
       "  {'colsample_bytree': 0.7, 'learning_rate': 0.15, 'max_depth': 3},\n",
       "  {'colsample_bytree': 0.7, 'learning_rate': 0.15, 'max_depth': 5},\n",
       "  {'colsample_bytree': 0.7, 'learning_rate': 0.15, 'max_depth': 7},\n",
       "  {'colsample_bytree': 0.7, 'learning_rate': 0.15, 'max_depth': 9},\n",
       "  {'colsample_bytree': 0.7, 'learning_rate': 0.15, 'max_depth': 12},\n",
       "  {'colsample_bytree': 0.7, 'learning_rate': 0.15, 'max_depth': 15},\n",
       "  {'colsample_bytree': 0.7, 'learning_rate': 0.15, 'max_depth': 17},\n",
       "  {'colsample_bytree': 0.7, 'learning_rate': 0.15, 'max_depth': 25},\n",
       "  {'colsample_bytree': 0.8, 'learning_rate': 0.01, 'max_depth': 3},\n",
       "  {'colsample_bytree': 0.8, 'learning_rate': 0.01, 'max_depth': 5},\n",
       "  {'colsample_bytree': 0.8, 'learning_rate': 0.01, 'max_depth': 7},\n",
       "  {'colsample_bytree': 0.8, 'learning_rate': 0.01, 'max_depth': 9},\n",
       "  {'colsample_bytree': 0.8, 'learning_rate': 0.01, 'max_depth': 12},\n",
       "  {'colsample_bytree': 0.8, 'learning_rate': 0.01, 'max_depth': 15},\n",
       "  {'colsample_bytree': 0.8, 'learning_rate': 0.01, 'max_depth': 17},\n",
       "  {'colsample_bytree': 0.8, 'learning_rate': 0.01, 'max_depth': 25},\n",
       "  {'colsample_bytree': 0.8, 'learning_rate': 0.02, 'max_depth': 3},\n",
       "  {'colsample_bytree': 0.8, 'learning_rate': 0.02, 'max_depth': 5},\n",
       "  {'colsample_bytree': 0.8, 'learning_rate': 0.02, 'max_depth': 7},\n",
       "  {'colsample_bytree': 0.8, 'learning_rate': 0.02, 'max_depth': 9},\n",
       "  {'colsample_bytree': 0.8, 'learning_rate': 0.02, 'max_depth': 12},\n",
       "  {'colsample_bytree': 0.8, 'learning_rate': 0.02, 'max_depth': 15},\n",
       "  {'colsample_bytree': 0.8, 'learning_rate': 0.02, 'max_depth': 17},\n",
       "  {'colsample_bytree': 0.8, 'learning_rate': 0.02, 'max_depth': 25},\n",
       "  {'colsample_bytree': 0.8, 'learning_rate': 0.05, 'max_depth': 3},\n",
       "  {'colsample_bytree': 0.8, 'learning_rate': 0.05, 'max_depth': 5},\n",
       "  {'colsample_bytree': 0.8, 'learning_rate': 0.05, 'max_depth': 7},\n",
       "  {'colsample_bytree': 0.8, 'learning_rate': 0.05, 'max_depth': 9},\n",
       "  {'colsample_bytree': 0.8, 'learning_rate': 0.05, 'max_depth': 12},\n",
       "  {'colsample_bytree': 0.8, 'learning_rate': 0.05, 'max_depth': 15},\n",
       "  {'colsample_bytree': 0.8, 'learning_rate': 0.05, 'max_depth': 17},\n",
       "  {'colsample_bytree': 0.8, 'learning_rate': 0.05, 'max_depth': 25},\n",
       "  {'colsample_bytree': 0.8, 'learning_rate': 0.1, 'max_depth': 3},\n",
       "  {'colsample_bytree': 0.8, 'learning_rate': 0.1, 'max_depth': 5},\n",
       "  {'colsample_bytree': 0.8, 'learning_rate': 0.1, 'max_depth': 7},\n",
       "  {'colsample_bytree': 0.8, 'learning_rate': 0.1, 'max_depth': 9},\n",
       "  {'colsample_bytree': 0.8, 'learning_rate': 0.1, 'max_depth': 12},\n",
       "  {'colsample_bytree': 0.8, 'learning_rate': 0.1, 'max_depth': 15},\n",
       "  {'colsample_bytree': 0.8, 'learning_rate': 0.1, 'max_depth': 17},\n",
       "  {'colsample_bytree': 0.8, 'learning_rate': 0.1, 'max_depth': 25},\n",
       "  {'colsample_bytree': 0.8, 'learning_rate': 0.15, 'max_depth': 3},\n",
       "  {'colsample_bytree': 0.8, 'learning_rate': 0.15, 'max_depth': 5},\n",
       "  {'colsample_bytree': 0.8, 'learning_rate': 0.15, 'max_depth': 7},\n",
       "  {'colsample_bytree': 0.8, 'learning_rate': 0.15, 'max_depth': 9},\n",
       "  {'colsample_bytree': 0.8, 'learning_rate': 0.15, 'max_depth': 12},\n",
       "  {'colsample_bytree': 0.8, 'learning_rate': 0.15, 'max_depth': 15},\n",
       "  {'colsample_bytree': 0.8, 'learning_rate': 0.15, 'max_depth': 17},\n",
       "  {'colsample_bytree': 0.8, 'learning_rate': 0.15, 'max_depth': 25},\n",
       "  {'colsample_bytree': 0.9, 'learning_rate': 0.01, 'max_depth': 3},\n",
       "  {'colsample_bytree': 0.9, 'learning_rate': 0.01, 'max_depth': 5},\n",
       "  {'colsample_bytree': 0.9, 'learning_rate': 0.01, 'max_depth': 7},\n",
       "  {'colsample_bytree': 0.9, 'learning_rate': 0.01, 'max_depth': 9},\n",
       "  {'colsample_bytree': 0.9, 'learning_rate': 0.01, 'max_depth': 12},\n",
       "  {'colsample_bytree': 0.9, 'learning_rate': 0.01, 'max_depth': 15},\n",
       "  {'colsample_bytree': 0.9, 'learning_rate': 0.01, 'max_depth': 17},\n",
       "  {'colsample_bytree': 0.9, 'learning_rate': 0.01, 'max_depth': 25},\n",
       "  {'colsample_bytree': 0.9, 'learning_rate': 0.02, 'max_depth': 3},\n",
       "  {'colsample_bytree': 0.9, 'learning_rate': 0.02, 'max_depth': 5},\n",
       "  {'colsample_bytree': 0.9, 'learning_rate': 0.02, 'max_depth': 7},\n",
       "  {'colsample_bytree': 0.9, 'learning_rate': 0.02, 'max_depth': 9},\n",
       "  {'colsample_bytree': 0.9, 'learning_rate': 0.02, 'max_depth': 12},\n",
       "  {'colsample_bytree': 0.9, 'learning_rate': 0.02, 'max_depth': 15},\n",
       "  {'colsample_bytree': 0.9, 'learning_rate': 0.02, 'max_depth': 17},\n",
       "  {'colsample_bytree': 0.9, 'learning_rate': 0.02, 'max_depth': 25},\n",
       "  {'colsample_bytree': 0.9, 'learning_rate': 0.05, 'max_depth': 3},\n",
       "  {'colsample_bytree': 0.9, 'learning_rate': 0.05, 'max_depth': 5},\n",
       "  {'colsample_bytree': 0.9, 'learning_rate': 0.05, 'max_depth': 7},\n",
       "  {'colsample_bytree': 0.9, 'learning_rate': 0.05, 'max_depth': 9},\n",
       "  {'colsample_bytree': 0.9, 'learning_rate': 0.05, 'max_depth': 12},\n",
       "  {'colsample_bytree': 0.9, 'learning_rate': 0.05, 'max_depth': 15},\n",
       "  {'colsample_bytree': 0.9, 'learning_rate': 0.05, 'max_depth': 17},\n",
       "  {'colsample_bytree': 0.9, 'learning_rate': 0.05, 'max_depth': 25},\n",
       "  {'colsample_bytree': 0.9, 'learning_rate': 0.1, 'max_depth': 3},\n",
       "  {'colsample_bytree': 0.9, 'learning_rate': 0.1, 'max_depth': 5},\n",
       "  {'colsample_bytree': 0.9, 'learning_rate': 0.1, 'max_depth': 7},\n",
       "  {'colsample_bytree': 0.9, 'learning_rate': 0.1, 'max_depth': 9},\n",
       "  {'colsample_bytree': 0.9, 'learning_rate': 0.1, 'max_depth': 12},\n",
       "  {'colsample_bytree': 0.9, 'learning_rate': 0.1, 'max_depth': 15},\n",
       "  {'colsample_bytree': 0.9, 'learning_rate': 0.1, 'max_depth': 17},\n",
       "  {'colsample_bytree': 0.9, 'learning_rate': 0.1, 'max_depth': 25},\n",
       "  {'colsample_bytree': 0.9, 'learning_rate': 0.15, 'max_depth': 3},\n",
       "  {'colsample_bytree': 0.9, 'learning_rate': 0.15, 'max_depth': 5},\n",
       "  {'colsample_bytree': 0.9, 'learning_rate': 0.15, 'max_depth': 7},\n",
       "  {'colsample_bytree': 0.9, 'learning_rate': 0.15, 'max_depth': 9},\n",
       "  {'colsample_bytree': 0.9, 'learning_rate': 0.15, 'max_depth': 12},\n",
       "  {'colsample_bytree': 0.9, 'learning_rate': 0.15, 'max_depth': 15},\n",
       "  {'colsample_bytree': 0.9, 'learning_rate': 0.15, 'max_depth': 17},\n",
       "  {'colsample_bytree': 0.9, 'learning_rate': 0.15, 'max_depth': 25},\n",
       "  {'colsample_bytree': 1, 'learning_rate': 0.01, 'max_depth': 3},\n",
       "  {'colsample_bytree': 1, 'learning_rate': 0.01, 'max_depth': 5},\n",
       "  {'colsample_bytree': 1, 'learning_rate': 0.01, 'max_depth': 7},\n",
       "  {'colsample_bytree': 1, 'learning_rate': 0.01, 'max_depth': 9},\n",
       "  {'colsample_bytree': 1, 'learning_rate': 0.01, 'max_depth': 12},\n",
       "  {'colsample_bytree': 1, 'learning_rate': 0.01, 'max_depth': 15},\n",
       "  {'colsample_bytree': 1, 'learning_rate': 0.01, 'max_depth': 17},\n",
       "  {'colsample_bytree': 1, 'learning_rate': 0.01, 'max_depth': 25},\n",
       "  {'colsample_bytree': 1, 'learning_rate': 0.02, 'max_depth': 3},\n",
       "  {'colsample_bytree': 1, 'learning_rate': 0.02, 'max_depth': 5},\n",
       "  {'colsample_bytree': 1, 'learning_rate': 0.02, 'max_depth': 7},\n",
       "  {'colsample_bytree': 1, 'learning_rate': 0.02, 'max_depth': 9},\n",
       "  {'colsample_bytree': 1, 'learning_rate': 0.02, 'max_depth': 12},\n",
       "  {'colsample_bytree': 1, 'learning_rate': 0.02, 'max_depth': 15},\n",
       "  {'colsample_bytree': 1, 'learning_rate': 0.02, 'max_depth': 17},\n",
       "  {'colsample_bytree': 1, 'learning_rate': 0.02, 'max_depth': 25},\n",
       "  {'colsample_bytree': 1, 'learning_rate': 0.05, 'max_depth': 3},\n",
       "  {'colsample_bytree': 1, 'learning_rate': 0.05, 'max_depth': 5},\n",
       "  {'colsample_bytree': 1, 'learning_rate': 0.05, 'max_depth': 7},\n",
       "  {'colsample_bytree': 1, 'learning_rate': 0.05, 'max_depth': 9},\n",
       "  {'colsample_bytree': 1, 'learning_rate': 0.05, 'max_depth': 12},\n",
       "  {'colsample_bytree': 1, 'learning_rate': 0.05, 'max_depth': 15},\n",
       "  {'colsample_bytree': 1, 'learning_rate': 0.05, 'max_depth': 17},\n",
       "  {'colsample_bytree': 1, 'learning_rate': 0.05, 'max_depth': 25},\n",
       "  {'colsample_bytree': 1, 'learning_rate': 0.1, 'max_depth': 3},\n",
       "  {'colsample_bytree': 1, 'learning_rate': 0.1, 'max_depth': 5},\n",
       "  {'colsample_bytree': 1, 'learning_rate': 0.1, 'max_depth': 7},\n",
       "  {'colsample_bytree': 1, 'learning_rate': 0.1, 'max_depth': 9},\n",
       "  {'colsample_bytree': 1, 'learning_rate': 0.1, 'max_depth': 12},\n",
       "  {'colsample_bytree': 1, 'learning_rate': 0.1, 'max_depth': 15},\n",
       "  {'colsample_bytree': 1, 'learning_rate': 0.1, 'max_depth': 17},\n",
       "  {'colsample_bytree': 1, 'learning_rate': 0.1, 'max_depth': 25},\n",
       "  {'colsample_bytree': 1, 'learning_rate': 0.15, 'max_depth': 3},\n",
       "  {'colsample_bytree': 1, 'learning_rate': 0.15, 'max_depth': 5},\n",
       "  {'colsample_bytree': 1, 'learning_rate': 0.15, 'max_depth': 7},\n",
       "  {'colsample_bytree': 1, 'learning_rate': 0.15, 'max_depth': 9},\n",
       "  {'colsample_bytree': 1, 'learning_rate': 0.15, 'max_depth': 12},\n",
       "  {'colsample_bytree': 1, 'learning_rate': 0.15, 'max_depth': 15},\n",
       "  {'colsample_bytree': 1, 'learning_rate': 0.15, 'max_depth': 17},\n",
       "  {'colsample_bytree': 1, 'learning_rate': 0.15, 'max_depth': 25}],\n",
       " 'split0_test_score': array([0.89084 , 0.891365, 0.895212, 0.895288, ..., 0.915553, 0.916797, 0.916667, 0.914867]),\n",
       " 'split1_test_score': array([0.881204, 0.876799, 0.88271 , 0.881381, ..., 0.922567, 0.920255, 0.919895, 0.92163 ]),\n",
       " 'split2_test_score': array([0.88116 , 0.879729, 0.878493, 0.878493, ..., 0.915875, 0.916018, 0.921259, 0.912773]),\n",
       " 'split3_test_score': array([0.881091, 0.876871, 0.875698, 0.876239, ..., 0.91244 , 0.909714, 0.911882, 0.908889]),\n",
       " 'split4_test_score': array([0.874142, 0.874214, 0.872765, 0.871574, ..., 0.917002, 0.917128, 0.916678, 0.916144]),\n",
       " 'mean_test_score': array([0.88169 , 0.879798, 0.88098 , 0.880599, ..., 0.916689, 0.915984, 0.917277, 0.914862]),\n",
       " 'std_test_score': array([0.005322, 0.006044, 0.007839, 0.008018, ..., 0.003307, 0.00345 , 0.003241, 0.004183]),\n",
       " 'rank_test_score': array([193, 200, 194, 195, ..., 115, 116, 112, 120], dtype=int32)}"
      ]
     },
     "execution_count": 44,
     "metadata": {},
     "output_type": "execute_result"
    }
   ],
   "source": [
    "gbm.cv_results_   "
   ]
  },
  {
   "cell_type": "code",
   "execution_count": 46,
   "metadata": {
    "ExecuteTime": {
     "end_time": "2019-08-24T20:38:41.063771Z",
     "start_time": "2019-08-24T20:38:41.057106Z"
    }
   },
   "outputs": [
    {
     "data": {
      "text/plain": [
       "0.9252905940253487"
      ]
     },
     "execution_count": 46,
     "metadata": {},
     "output_type": "execute_result"
    }
   ],
   "source": [
    "gbm.best_score_"
   ]
  },
  {
   "cell_type": "code",
   "execution_count": 45,
   "metadata": {
    "ExecuteTime": {
     "end_time": "2019-08-24T20:34:12.815825Z",
     "start_time": "2019-08-24T20:34:12.797680Z"
    }
   },
   "outputs": [
    {
     "data": {
      "text/plain": [
       "0.929257811888011"
      ]
     },
     "execution_count": 45,
     "metadata": {},
     "output_type": "execute_result"
    }
   ],
   "source": [
    "qk_np(y_train, gbm.predict(X_train))"
   ]
  },
  {
   "cell_type": "code",
   "execution_count": 48,
   "metadata": {
    "ExecuteTime": {
     "end_time": "2019-08-24T20:41:17.603153Z",
     "start_time": "2019-08-24T20:41:17.593979Z"
    }
   },
   "outputs": [
    {
     "name": "stdout",
     "output_type": "stream",
     "text": [
      "lightgbm-0825_01-39-24\n"
     ]
    }
   ],
   "source": [
    "model_save_name = \"lightgbm-{}\".format(current_time)\n",
    "\n",
    "with open(os.path.join(deployment_dir, model_save_name+\".pkl\"), \"wb\") as f:\n",
    "    pk.dump(lr.best_estimator_, f)\n",
    "\n",
    "print(model_save_name)"
   ]
  },
  {
   "cell_type": "code",
   "execution_count": null,
   "metadata": {
    "ExecuteTime": {
     "end_time": "2019-08-22T17:51:11.379092Z",
     "start_time": "2019-08-22T17:51:11.368181Z"
    }
   },
   "outputs": [],
   "source": [
    "with open(model_save_name, \"rb\") as f:\n",
    "    gbm = pk.load(f)"
   ]
  },
  {
   "cell_type": "markdown",
   "metadata": {},
   "source": [
    "## LogisticRegression "
   ]
  },
  {
   "cell_type": "code",
   "execution_count": 14,
   "metadata": {
    "ExecuteTime": {
     "end_time": "2019-08-24T19:55:19.868415Z",
     "start_time": "2019-08-24T19:55:19.852318Z"
    }
   },
   "outputs": [],
   "source": [
    "from sklearn.linear_model import LogisticRegression"
   ]
  },
  {
   "cell_type": "code",
   "execution_count": 22,
   "metadata": {
    "ExecuteTime": {
     "end_time": "2019-08-24T19:58:25.334702Z",
     "start_time": "2019-08-24T19:58:20.397764Z"
    }
   },
   "outputs": [
    {
     "name": "stdout",
     "output_type": "stream",
     "text": [
      "Fitting 5 folds for each of 30 candidates, totalling 150 fits\n"
     ]
    },
    {
     "name": "stderr",
     "output_type": "stream",
     "text": [
      "[Parallel(n_jobs=16)]: Using backend LokyBackend with 16 concurrent workers.\n",
      "[Parallel(n_jobs=16)]: Done  18 tasks      | elapsed:    2.0s\n",
      "[Parallel(n_jobs=16)]: Done 150 out of 150 | elapsed:    3.8s finished\n"
     ]
    },
    {
     "name": "stdout",
     "output_type": "stream",
     "text": [
      "Best parameters found by grid search are: {'C': 0.1, 'penalty': 'l2', 'solver': 'newton-cg'}\n"
     ]
    }
   ],
   "source": [
    "estimator = LogisticRegression(n_jobs=8, random_state=SEED, multi_class=\"auto\")\n",
    "\n",
    "param_grid = {\n",
    "#     'penalty': ['l1', 'l2'],    \n",
    "    'penalty': ['l2'],\n",
    "#     'C': [0.1],    \n",
    "    'solver': ['newton-cg', 'sag', 'saga', 'lbfgs', 'liblinear'],\n",
    "    'C': [0.001, 0.01, 0.1, 1, 10, 100]\n",
    "\n",
    "}\n",
    "\n",
    "lr = GridSearchCV(estimator, param_grid, cv=5, n_jobs=16, scoring=score, verbose=1)\n",
    "lr.fit(X_train, y_train)\n",
    "# lr.fit(X_train_normalized, y_train)\n",
    "\n",
    "\n",
    "print('Best parameters found by grid search are:', lr.best_params_)"
   ]
  },
  {
   "cell_type": "code",
   "execution_count": 23,
   "metadata": {
    "ExecuteTime": {
     "end_time": "2019-08-24T19:58:30.744647Z",
     "start_time": "2019-08-24T19:58:30.727947Z"
    },
    "scrolled": false
   },
   "outputs": [
    {
     "data": {
      "text/plain": [
       "{'mean_fit_time': array([0.184214, 0.10384 , 0.10424 , 0.104225, 0.016276, 0.267424, 0.105932, 0.106796, 0.108019, 0.01922 , 0.288998,\n",
       "        0.109907, 0.126005, 0.205471, 0.02281 , 0.325702, 0.104888, 0.164929, 0.204552, 0.022554, 0.348478, 0.105848,\n",
       "        0.207023, 0.227363, 0.023285, 0.289444, 0.128725, 0.205394, 0.204973, 0.022929]),\n",
       " 'std_fit_time': array([7.528333e-02, 1.083672e-04, 8.151218e-04, 3.658203e-04, 2.354558e-03, 1.377955e-01, 1.671756e-03, 9.716939e-04,\n",
       "        2.899900e-03, 3.758559e-03, 4.166562e-02, 4.070447e-03, 4.019686e-02, 8.043666e-04, 4.700484e-03, 4.026182e-02,\n",
       "        1.112540e-03, 4.953269e-02, 5.234524e-04, 1.482211e-03, 1.380742e-01, 2.206775e-03, 1.970759e-03, 3.868334e-02,\n",
       "        1.812874e-03, 3.733342e-02, 3.888921e-02, 9.880343e-04, 6.582888e-04, 3.417805e-03]),\n",
       " 'mean_score_time': array([0.002485, 0.003804, 0.003872, 0.002858, 0.001483, 0.003583, 0.003031, 0.002833, 0.002573, 0.001474, 0.002808,\n",
       "        0.002417, 0.002697, 0.003063, 0.001571, 0.002033, 0.001953, 0.003276, 0.003163, 0.001587, 0.005825, 0.003093,\n",
       "        0.003512, 0.003268, 0.00269 , 0.002464, 0.002488, 0.003045, 0.00314 , 0.001483]),\n",
       " 'std_score_time': array([7.154242e-04, 6.995795e-04, 3.301502e-04, 7.275530e-04, 4.661931e-05, 1.903569e-03, 6.511762e-04, 4.728220e-04,\n",
       "        5.438326e-04, 1.518861e-04, 5.703968e-04, 1.456933e-04, 5.915558e-04, 8.811300e-04, 4.377318e-04, 7.053907e-04,\n",
       "        2.900622e-04, 3.739829e-04, 4.158081e-04, 3.826522e-04, 3.147032e-03, 4.760665e-04, 1.970282e-03, 2.353339e-03,\n",
       "        1.456670e-03, 7.934042e-04, 5.833847e-04, 3.948680e-04, 7.813689e-04, 2.969087e-04]),\n",
       " 'param_C': masked_array(data=[0.001, 0.001, 0.001, 0.001, 0.001, 0.01, 0.01, 0.01, 0.01, 0.01, 0.1, 0.1, 0.1, 0.1, 0.1, 1, 1, 1,\n",
       "                    1, 1, 10, 10, 10, 10, 10, 100, 100, 100, 100, 100],\n",
       "              mask=[False, False, False, False, False, False, False, False, False, False, False, False, False, False,\n",
       "                    False, False, False, False, False, False, False, False, False, False, False, False, False, False,\n",
       "                    False, False],\n",
       "        fill_value='?',\n",
       "             dtype=object),\n",
       " 'param_penalty': masked_array(data=['l2', 'l2', 'l2', 'l2', 'l2', 'l2', 'l2', 'l2', 'l2', 'l2', 'l2', 'l2', 'l2', 'l2', 'l2', 'l2',\n",
       "                    'l2', 'l2', 'l2', 'l2', 'l2', 'l2', 'l2', 'l2', 'l2', 'l2', 'l2', 'l2', 'l2', 'l2'],\n",
       "              mask=[False, False, False, False, False, False, False, False, False, False, False, False, False, False,\n",
       "                    False, False, False, False, False, False, False, False, False, False, False, False, False, False,\n",
       "                    False, False],\n",
       "        fill_value='?',\n",
       "             dtype=object),\n",
       " 'param_solver': masked_array(data=['newton-cg', 'sag', 'saga', 'lbfgs', 'liblinear', 'newton-cg', 'sag', 'saga', 'lbfgs', 'liblinear',\n",
       "                    'newton-cg', 'sag', 'saga', 'lbfgs', 'liblinear', 'newton-cg', 'sag', 'saga', 'lbfgs', 'liblinear',\n",
       "                    'newton-cg', 'sag', 'saga', 'lbfgs', 'liblinear', 'newton-cg', 'sag', 'saga', 'lbfgs', 'liblinear'],\n",
       "              mask=[False, False, False, False, False, False, False, False, False, False, False, False, False, False,\n",
       "                    False, False, False, False, False, False, False, False, False, False, False, False, False, False,\n",
       "                    False, False],\n",
       "        fill_value='?',\n",
       "             dtype=object),\n",
       " 'params': [{'C': 0.001, 'penalty': 'l2', 'solver': 'newton-cg'},\n",
       "  {'C': 0.001, 'penalty': 'l2', 'solver': 'sag'},\n",
       "  {'C': 0.001, 'penalty': 'l2', 'solver': 'saga'},\n",
       "  {'C': 0.001, 'penalty': 'l2', 'solver': 'lbfgs'},\n",
       "  {'C': 0.001, 'penalty': 'l2', 'solver': 'liblinear'},\n",
       "  {'C': 0.01, 'penalty': 'l2', 'solver': 'newton-cg'},\n",
       "  {'C': 0.01, 'penalty': 'l2', 'solver': 'sag'},\n",
       "  {'C': 0.01, 'penalty': 'l2', 'solver': 'saga'},\n",
       "  {'C': 0.01, 'penalty': 'l2', 'solver': 'lbfgs'},\n",
       "  {'C': 0.01, 'penalty': 'l2', 'solver': 'liblinear'},\n",
       "  {'C': 0.1, 'penalty': 'l2', 'solver': 'newton-cg'},\n",
       "  {'C': 0.1, 'penalty': 'l2', 'solver': 'sag'},\n",
       "  {'C': 0.1, 'penalty': 'l2', 'solver': 'saga'},\n",
       "  {'C': 0.1, 'penalty': 'l2', 'solver': 'lbfgs'},\n",
       "  {'C': 0.1, 'penalty': 'l2', 'solver': 'liblinear'},\n",
       "  {'C': 1, 'penalty': 'l2', 'solver': 'newton-cg'},\n",
       "  {'C': 1, 'penalty': 'l2', 'solver': 'sag'},\n",
       "  {'C': 1, 'penalty': 'l2', 'solver': 'saga'},\n",
       "  {'C': 1, 'penalty': 'l2', 'solver': 'lbfgs'},\n",
       "  {'C': 1, 'penalty': 'l2', 'solver': 'liblinear'},\n",
       "  {'C': 10, 'penalty': 'l2', 'solver': 'newton-cg'},\n",
       "  {'C': 10, 'penalty': 'l2', 'solver': 'sag'},\n",
       "  {'C': 10, 'penalty': 'l2', 'solver': 'saga'},\n",
       "  {'C': 10, 'penalty': 'l2', 'solver': 'lbfgs'},\n",
       "  {'C': 10, 'penalty': 'l2', 'solver': 'liblinear'},\n",
       "  {'C': 100, 'penalty': 'l2', 'solver': 'newton-cg'},\n",
       "  {'C': 100, 'penalty': 'l2', 'solver': 'sag'},\n",
       "  {'C': 100, 'penalty': 'l2', 'solver': 'saga'},\n",
       "  {'C': 100, 'penalty': 'l2', 'solver': 'lbfgs'},\n",
       "  {'C': 100, 'penalty': 'l2', 'solver': 'liblinear'}],\n",
       " 'split0_test_score': array([0.816864, 0.816864, 0.816864, 0.816864, 0.819765, 0.910038, 0.910038, 0.910038, 0.910038, 0.819998, 0.920753,\n",
       "        0.920753, 0.920753, 0.920753, 0.819951, 0.918872, 0.918872, 0.918872, 0.918872, 0.841432, 0.919019, 0.919019,\n",
       "        0.919019, 0.919019, 0.857733, 0.919019, 0.919019, 0.919019, 0.919019, 0.858199]),\n",
       " 'split1_test_score': array([0.820832, 0.820832, 0.820832, 0.820832, 0.821738, 0.900382, 0.900382, 0.900382, 0.900382, 0.824077, 0.921253,\n",
       "        0.921253, 0.921253, 0.921253, 0.824031, 0.925338, 0.925338, 0.925338, 0.925338, 0.830885, 0.925674, 0.925674,\n",
       "        0.925674, 0.925674, 0.860032, 0.925674, 0.925674, 0.925674, 0.925674, 0.86241 ]),\n",
       " 'split2_test_score': array([0.803725, 0.803725, 0.803725, 0.803725, 0.816012, 0.902319, 0.902319, 0.902319, 0.902319, 0.816202, 0.923909,\n",
       "        0.923909, 0.923909, 0.923909, 0.816202, 0.917704, 0.917704, 0.917704, 0.917704, 0.847831, 0.918029, 0.918029,\n",
       "        0.918029, 0.918029, 0.876578, 0.918424, 0.918424, 0.918424, 0.918424, 0.878829]),\n",
       " 'split3_test_score': array([0.815176, 0.815176, 0.815176, 0.815176, 0.819655, 0.900211, 0.900211, 0.900211, 0.900211, 0.822134, 0.910647,\n",
       "        0.910647, 0.910647, 0.910647, 0.822134, 0.906181, 0.906181, 0.906181, 0.906181, 0.841486, 0.907184, 0.907184,\n",
       "        0.907184, 0.907184, 0.873332, 0.907184, 0.907184, 0.907184, 0.907184, 0.880077]),\n",
       " 'split4_test_score': array([0.797004, 0.797004, 0.797004, 0.797004, 0.811384, 0.895073, 0.895073, 0.895073, 0.895073, 0.817882, 0.909288,\n",
       "        0.909288, 0.908891, 0.909288, 0.81986 , 0.910705, 0.910705, 0.910705, 0.910705, 0.841345, 0.911218, 0.911218,\n",
       "        0.911218, 0.911218, 0.865167, 0.911595, 0.911595, 0.911595, 0.910182, 0.866979]),\n",
       " 'mean_test_score': array([0.810726, 0.810726, 0.810726, 0.810726, 0.817713, 0.901608, 0.901608, 0.901608, 0.901608, 0.820059, 0.917176,\n",
       "        0.917176, 0.917097, 0.917176, 0.820435, 0.915765, 0.915765, 0.915765, 0.915765, 0.840595, 0.91623 , 0.91623 ,\n",
       "        0.91623 , 0.91623 , 0.866567, 0.916385, 0.916385, 0.916385, 0.916102, 0.869297]),\n",
       " 'std_test_score': array([0.008907, 0.008907, 0.008907, 0.008907, 0.003663, 0.004852, 0.004852, 0.004852, 0.004852, 0.002831, 0.005992,\n",
       "        0.005992, 0.006097, 0.005992, 0.00262 , 0.006671, 0.006671, 0.006671, 0.006671, 0.005456, 0.006436, 0.006436,\n",
       "        0.006436, 0.006436, 0.007333, 0.006402, 0.006402, 0.006402, 0.006634, 0.008754]),\n",
       " 'rank_test_score': array([27, 27, 27, 27, 26, 17, 17, 17, 17, 25,  1,  1,  4,  1, 24, 13, 13, 13, 13, 23,  8,  8,  8,  8, 22,  5,  5,  5,\n",
       "        12, 21], dtype=int32)}"
      ]
     },
     "execution_count": 23,
     "metadata": {},
     "output_type": "execute_result"
    }
   ],
   "source": [
    "lr.cv_results_   "
   ]
  },
  {
   "cell_type": "code",
   "execution_count": 24,
   "metadata": {
    "ExecuteTime": {
     "end_time": "2019-08-24T19:58:43.691781Z",
     "start_time": "2019-08-24T19:58:43.678074Z"
    }
   },
   "outputs": [
    {
     "data": {
      "text/plain": [
       "0.9171758732318603"
      ]
     },
     "execution_count": 24,
     "metadata": {},
     "output_type": "execute_result"
    }
   ],
   "source": [
    "lr.best_score_"
   ]
  },
  {
   "cell_type": "code",
   "execution_count": 25,
   "metadata": {
    "ExecuteTime": {
     "end_time": "2019-08-24T19:58:48.533219Z",
     "start_time": "2019-08-24T19:58:48.519579Z"
    }
   },
   "outputs": [
    {
     "data": {
      "text/plain": [
       "0.9170356613996113"
      ]
     },
     "execution_count": 25,
     "metadata": {},
     "output_type": "execute_result"
    }
   ],
   "source": [
    "qk_np(y_train, lr.predict(X_train))"
   ]
  },
  {
   "cell_type": "code",
   "execution_count": 26,
   "metadata": {
    "ExecuteTime": {
     "end_time": "2019-08-24T19:59:01.904006Z",
     "start_time": "2019-08-24T19:59:01.896996Z"
    }
   },
   "outputs": [
    {
     "name": "stdout",
     "output_type": "stream",
     "text": [
      "lr-0825_01-39-24\n"
     ]
    }
   ],
   "source": [
    "model_save_name = \"lr-{}\".format(current_time)\n",
    "\n",
    "with open(os.path.join(deployment_dir, model_save_name+\".pkl\"), \"wb\") as f:\n",
    "    pk.dump(lr.best_estimator_, f)\n",
    "\n",
    "print(model_save_name)"
   ]
  },
  {
   "cell_type": "markdown",
   "metadata": {},
   "source": [
    "# Test"
   ]
  },
  {
   "cell_type": "markdown",
   "metadata": {},
   "source": [
    "## LightGBM "
   ]
  },
  {
   "cell_type": "code",
   "execution_count": 49,
   "metadata": {
    "ExecuteTime": {
     "end_time": "2019-08-24T20:41:25.318026Z",
     "start_time": "2019-08-24T20:41:25.003844Z"
    }
   },
   "outputs": [
    {
     "data": {
      "image/png": "[encoded data removed]",
      "text/plain": [
       "<Figure size 432x288 with 1 Axes>"
      ]
     },
     "metadata": {
      "needs_background": "light"
     },
     "output_type": "display_data"
    },
    {
     "name": "stdout",
     "output_type": "stream",
     "text": [
      "lightgbm-0825_01-39-24-retrain_feature_test.csv\n"
     ]
    }
   ],
   "source": [
    "X_test = np.concatenate([b3_test_logits, b4_test_logits, b5_test_logits], axis=1)\n",
    "X_test.shape\n",
    "y_pred = gbm.predict(X_test)\n",
    "\n",
    "y_pred = np.round(y_pred)\n",
    "\n",
    "\n",
    "test_df.diagnosis = y_pred.astype(int)\n",
    "\n",
    "test_df.hist()\n",
    "plt.show()\n",
    "\n",
    "submition_filename = \"{}-retrain_feature_test.csv\".format(model_save_name)\n",
    "test_df.to_csv(submition_filename,index=False)\n",
    "print(submition_filename)"
   ]
  },
  {
   "cell_type": "code",
   "execution_count": 50,
   "metadata": {
    "ExecuteTime": {
     "end_time": "2019-08-24T21:01:52.776655Z",
     "start_time": "2019-08-24T21:01:52.563583Z"
    }
   },
   "outputs": [
    {
     "data": {
      "image/png": "[encoded data removed]",
      "text/plain": [
       "<Figure size 432x288 with 1 Axes>"
      ]
     },
     "metadata": {
      "needs_background": "light"
     },
     "output_type": "display_data"
    },
    {
     "name": "stdout",
     "output_type": "stream",
     "text": [
      "lightgbm-0825_01-39-24-5-fold_avg_logits_test.csv\n"
     ]
    }
   ],
   "source": [
    "\n",
    "b3_test_avg_feats = np.average(b3_test_logits_list, axis=0)\n",
    "b4_test_avg_feats = np.average(b4_test_logits_list, axis=0)\n",
    "b5_test_avg_feats = np.average(b5_test_logits_list, axis=0)\n",
    "\n",
    "\n",
    "X_test = np.concatenate([b3_test_avg_feats, b4_test_avg_feats, b5_test_avg_feats], axis=1)\n",
    "y_pred = gbm.predict(X_test)\n",
    "\n",
    "y_pred = np.round(y_pred)\n",
    "\n",
    "test_df.diagnosis = y_pred.astype(int)\n",
    "\n",
    "test_df.hist()\n",
    "plt.show()\n",
    "\n",
    "submition_filename = \"{}-5-fold_avg_logits_test.csv\".format(model_save_name)\n",
    "test_df.to_csv(submition_filename, index=False)\n",
    "print(submition_filename)"
   ]
  },
  {
   "cell_type": "code",
   "execution_count": 54,
   "metadata": {
    "ExecuteTime": {
     "end_time": "2019-08-25T09:13:12.122621Z",
     "start_time": "2019-08-25T09:13:11.911664Z"
    }
   },
   "outputs": [
    {
     "data": {
      "image/png": "[encoded data removed]",
      "text/plain": [
       "<Figure size 432x288 with 1 Axes>"
      ]
     },
     "metadata": {
      "needs_background": "light"
     },
     "output_type": "display_data"
    },
    {
     "name": "stdout",
     "output_type": "stream",
     "text": [
      "lightgbm-0825_01-39-24-5-fold_logits_avg_test.csv\n"
     ]
    }
   ],
   "source": [
    "# 5 test feature then avg\n",
    "results = []\n",
    "for b3, b4, b5 in zip(b3_test_logits_list, b4_test_logits_list, b5_test_logits_list):\n",
    "    X_test = np.concatenate([b3, b4, b5], axis=1)\n",
    "    res = gbm.predict(X_test)\n",
    "    results.append(res)\n",
    "\n",
    "avg_res = np.average(results, axis=0)\n",
    "y_pred = np.round(avg_res)\n",
    "\n",
    "test_df.diagnosis = y_pred.astype(int)\n",
    "\n",
    "test_df.hist()\n",
    "plt.show()\n",
    "\n",
    "submition_filename = \"{}-5-fold_logits_avg_test.csv\".format(model_save_name)\n",
    "test_df.to_csv(submition_filename, index=False)\n",
    "print(submition_filename)"
   ]
  },
  {
   "cell_type": "markdown",
   "metadata": {},
   "source": [
    "## LogisticRegression "
   ]
  },
  {
   "cell_type": "markdown",
   "metadata": {},
   "source": [
    "### Retrain feature test"
   ]
  },
  {
   "cell_type": "code",
   "execution_count": 41,
   "metadata": {
    "ExecuteTime": {
     "end_time": "2019-08-24T20:10:25.006014Z",
     "start_time": "2019-08-24T20:10:24.731231Z"
    }
   },
   "outputs": [
    {
     "data": {
      "image/png": "[encoded data removed]",
      "text/plain": [
       "<Figure size 432x288 with 1 Axes>"
      ]
     },
     "metadata": {
      "needs_background": "light"
     },
     "output_type": "display_data"
    },
    {
     "name": "stdout",
     "output_type": "stream",
     "text": [
      "lr-0825_01-39-24-retrain_feature_test.csv\n"
     ]
    }
   ],
   "source": [
    "X_test = np.concatenate([b3_test_logits, b4_test_logits, b5_test_logits], axis=1)\n",
    "X_test.shape\n",
    "y_pred = lr.predict(X_test)\n",
    "\n",
    "\n",
    "test_df.diagnosis = y_pred.astype(int)\n",
    "\n",
    "test_df.hist()\n",
    "plt.show()\n",
    "\n",
    "submition_filename = \"{}-retrain_feature_test.csv\".format(model_save_name)\n",
    "test_df.to_csv(submition_filename,index=False)\n",
    "print(submition_filename)"
   ]
  },
  {
   "cell_type": "markdown",
   "metadata": {},
   "source": [
    "### 5-fold avg feature test"
   ]
  },
  {
   "cell_type": "code",
   "execution_count": 36,
   "metadata": {
    "ExecuteTime": {
     "end_time": "2019-08-24T20:05:44.277485Z",
     "start_time": "2019-08-24T20:05:44.075108Z"
    }
   },
   "outputs": [
    {
     "data": {
      "image/png": "[encoded data removed]",
      "text/plain": [
       "<Figure size 432x288 with 1 Axes>"
      ]
     },
     "metadata": {
      "needs_background": "light"
     },
     "output_type": "display_data"
    },
    {
     "name": "stdout",
     "output_type": "stream",
     "text": [
      "lr-0825_01-39-24-5-fold_avg_logits_test.csv\n"
     ]
    }
   ],
   "source": [
    "\n",
    "b3_test_avg_feats = np.average(b3_test_logits_list, axis=0)\n",
    "b4_test_avg_feats = np.average(b4_test_logits_list, axis=0)\n",
    "b5_test_avg_feats = np.average(b5_test_logits_list, axis=0)\n",
    "\n",
    "\n",
    "X_test = np.concatenate([b3_test_avg_feats, b4_test_avg_feats, b5_test_avg_feats], axis=1)\n",
    "y_pred = lr.predict(X_test)\n",
    "\n",
    "test_df.diagnosis = y_pred.astype(int)\n",
    "\n",
    "test_df.hist()\n",
    "plt.show()\n",
    "\n",
    "submition_filename = \"{}-5-fold_avg_logits_test.csv\".format(model_save_name)\n",
    "test_df.to_csv(submition_filename, index=False)\n",
    "print(submition_filename)"
   ]
  },
  {
   "cell_type": "markdown",
   "metadata": {},
   "source": [
    "### 5-fold avg logits test"
   ]
  },
  {
   "cell_type": "code",
   "execution_count": null,
   "metadata": {
    "ExecuteTime": {
     "end_time": "2019-08-24T17:03:42.516406Z",
     "start_time": "2019-08-24T17:03:41.896426Z"
    }
   },
   "outputs": [],
   "source": [
    "# 5 test feature then avg\n",
    "results = []\n",
    "for b3, b4, b5 in zip(b3_test_feats_list, b4_test_feats_list, b5_test_feats_list):\n",
    "    X_test = np.concatenate([b3, b4, b5], axis=1)\n",
    "    res = lr.predict_proba(X_test)\n",
    "    results.append(res)\n",
    "\n",
    "avg_res = np.average(results, axis=0)\n",
    "y_pred = np.argmax(avg_res, axis=1)\n",
    "\n",
    "test_df.diagnosis = y_pred.astype(int)\n",
    "\n",
    "test_df.hist()\n",
    "plt.show()\n",
    "\n",
    "submition_filename = \"{}-5-fold_avg_logits_test.csv\".format(model_save_name)\n",
    "test_df.to_csv(submition_filename, index=False)\n",
    "print(submition_filename)"
   ]
  },
  {
   "cell_type": "code",
   "execution_count": null,
   "metadata": {},
   "outputs": [],
   "source": []
  }
 ],
 "metadata": {
  "kernelspec": {
   "display_name": "Python [conda env:.conda-test]",
   "language": "python",
   "name": "conda-env-.conda-test-py"
  },
  "language_info": {
   "codemirror_mode": {
    "name": "ipython",
    "version": 3
   },
   "file_extension": ".py",
   "mimetype": "text/x-python",
   "name": "python",
   "nbconvert_exporter": "python",
   "pygments_lexer": "ipython3",
   "version": "3.6.8"
  },
  "toc": {
   "base_numbering": 1,
   "nav_menu": {},
   "number_sections": true,
   "sideBar": true,
   "skip_h1_title": false,
   "title_cell": "Table of Contents",
   "title_sidebar": "Contents",
   "toc_cell": false,
   "toc_position": {
    "height": "calc(100% - 180px)",
    "left": "10px",
    "top": "150px",
    "width": "240.656px"
   },
   "toc_section_display": true,
   "toc_window_display": true
  }
 },
 "nbformat": 4,
 "nbformat_minor": 2
}
